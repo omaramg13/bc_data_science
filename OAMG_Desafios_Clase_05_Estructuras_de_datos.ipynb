{
  "nbformat": 4,
  "nbformat_minor": 0,
  "metadata": {
    "colab": {
      "provenance": [],
      "authorship_tag": "ABX9TyNQUd0euaFjxgbmyYj+D6OR",
      "include_colab_link": true
    },
    "kernelspec": {
      "name": "python3",
      "display_name": "Python 3"
    },
    "language_info": {
      "name": "python"
    }
  },
  "cells": [
    {
      "cell_type": "markdown",
      "metadata": {
        "id": "view-in-github",
        "colab_type": "text"
      },
      "source": [
        "<a href=\"https://colab.research.google.com/github/omaramg13/bc_data_science/blob/main/OAMG_Desafios_Clase_05_Estructuras_de_datos.ipynb\" target=\"_parent\"><img src=\"https://colab.research.google.com/assets/colab-badge.svg\" alt=\"Open In Colab\"/></a>"
      ]
    },
    {
      "cell_type": "markdown",
      "source": [
        "# DESAFIOS\n",
        "\n",
        "Nombre: Omar Alejandro Morales Granados\n",
        "\n",
        "Práctica de el uso de estructuras de datos, como listas y diccionarios.\n",
        "\n",
        "## Entrenando la programación\n",
        "\n",
        "1 - Crea un programa que tenga la siguiente lista con los gastos de una empresa de papel [2172.54, 3701.35, 3518.09, 3456.61, 3249.38, 2840.82, 3891.45, 3075.26, 2317.64, 3219.08]. Con estos valores, crea un programa que calcule el promedio de gastos. Sugerencia: usa las funciones integradas sum() y len()."
      ],
      "metadata": {
        "id": "RD614vhEDqFE"
      }
    },
    {
      "cell_type": "code",
      "execution_count": null,
      "metadata": {
        "colab": {
          "base_uri": "https://localhost:8080/"
        },
        "id": "3Ze_-UBWDeEl",
        "outputId": "38f2aeda-03f7-4036-b02d-615ced460df7"
      },
      "outputs": [
        {
          "output_type": "stream",
          "name": "stdout",
          "text": [
            "El promedio de gatos de papel de la empresa es 3144.22\n"
          ]
        }
      ],
      "source": [
        "# Inicializamos la lista con los valores\n",
        "gastos_papel = [2172.54, 3701.35, 3518.09, 3456.61, 3249.38, 2840.82, 3891.45, 3075.26, 2317.64, 3219.08]\n",
        "\n",
        "# Realizamos la suma de todos los valores\n",
        "total_papel = sum(gastos_papel)\n",
        "\n",
        "# Obtenemos la cantida de elementos\n",
        "compras_papel = len(gastos_papel)\n",
        "\n",
        "# Calculamos el promedio\n",
        "promedio_gastos = total_papel / compras_papel\n",
        "\n",
        "# Imprimimos el resultado\n",
        "print('El promedio de gatos de papel de la empresa es {:.2f}' .format(promedio_gastos))"
      ]
    },
    {
      "cell_type": "markdown",
      "source": [
        "2 - Con los mismos datos de la pregunta anterior, determina cuántas compras se realizaron por encima de 3000 reales y calcula el porcentaje con respecto al total de compras."
      ],
      "metadata": {
        "id": "u23lNUCpFTJP"
      }
    },
    {
      "cell_type": "code",
      "source": [
        "# Inicializamos la lista con los datos\n",
        "gastos_papel = [2172.54, 3701.35, 3518.09, 3456.61, 3249.38, 2840.82, 3891.45, 3075.26, 2317.64, 3219.08]\n",
        "\n",
        "# Obtenemos la cantidad de elementos\n",
        "compras_papel = len(gastos_papel)\n",
        "\n",
        "# Asignamos una variable para contar las compras que superan 30000\n",
        "compras = 0\n",
        "\n",
        "# Recorremos los elementos de la lista mediante un bucle for\n",
        "for e in gastos_papel:\n",
        "  # Evaluamos si el elemento es mayor a 3000\n",
        "  if e > 3000:\n",
        "    # Si el elemento es mayor a 3000 incrementamos el contador\n",
        "    compras += 1\n",
        "\n",
        "# Calculamos el porcentaje a partir del contador de compras mayores a 3000\n",
        "# y el tamaño total de la lista de gatos\n",
        "porcentaje = 100 * compras / compras_papel\n",
        "\n",
        "# Imprimimos el resultado\n",
        "print('El porcentaje de compras por encima de 3000 reales es {:.2f}%' .format(porcentaje))\n"
      ],
      "metadata": {
        "colab": {
          "base_uri": "https://localhost:8080/"
        },
        "id": "J-V30cpyFbKt",
        "outputId": "4e550c5b-fe01-4936-db34-5f403545242e"
      },
      "execution_count": null,
      "outputs": [
        {
          "output_type": "stream",
          "name": "stdout",
          "text": [
            "El porcentaje de compras por encima de 3000 reales es 70.00%\n"
          ]
        }
      ]
    },
    {
      "cell_type": "markdown",
      "source": [
        "3 - Crea un código que recoja en una lista 5 números enteros aleatorios e imprima la lista. Ejemplo: [1, 4, 7, 2, 4]."
      ],
      "metadata": {
        "id": "jlIBJp0pHFXE"
      }
    },
    {
      "cell_type": "code",
      "source": [
        "# Definimos una lista sin elementos\n",
        "lista = []\n",
        "\n",
        "# Mediante un ciclo for repetimos la captura de datos hasta completar los 5 elementos\n",
        "for n in range (0, 5):\n",
        "  # Agregamos el elemento a la lista\n",
        "  lista.append(int(input('Ingrese un numero: ')))\n",
        "\n",
        "# Imprimos los valoes de la lista\n",
        "print(lista)"
      ],
      "metadata": {
        "colab": {
          "base_uri": "https://localhost:8080/"
        },
        "id": "YLabvatRGTyR",
        "outputId": "a01eb562-a399-4ce0-f37d-c87ff67b99b9"
      },
      "execution_count": null,
      "outputs": [
        {
          "output_type": "stream",
          "name": "stdout",
          "text": [
            "Ingrese un numero: 1\n",
            "Ingrese un numero: 2\n",
            "Ingrese un numero: 3\n",
            "Ingrese un numero: 4\n",
            "Ingrese un numero: 5\n",
            "[1, 2, 3, 4, 5]\n"
          ]
        }
      ]
    },
    {
      "cell_type": "markdown",
      "source": [
        "4 - Recoge nuevamente 5 números enteros e imprime la lista en orden inverso al enviado."
      ],
      "metadata": {
        "id": "F86RjFq3JpbJ"
      }
    },
    {
      "cell_type": "code",
      "source": [
        "# Definimos una lista sin elementos\n",
        "lista=[]\n",
        "\n",
        "# Mediante un ciclo for repetimos la captura de datos hasta completar los 5 elementos\n",
        "for n in range (0, 5):\n",
        "  # Agregamos el elemento a la lista\n",
        "  lista.append(int(input('Ingrese un numero: ')))\n",
        "\n",
        "# Recorremos la lista en sentido inverso:\n",
        "print(lista[::-1])"
      ],
      "metadata": {
        "colab": {
          "base_uri": "https://localhost:8080/"
        },
        "id": "nAYwHYoRJxlE",
        "outputId": "ada42fac-8257-4ca2-8fd0-080305d5e617"
      },
      "execution_count": null,
      "outputs": [
        {
          "output_type": "stream",
          "name": "stdout",
          "text": [
            "Ingrese un numero: 1\n",
            "Ingrese un numero: 2\n",
            "Ingrese un numero: 3\n",
            "Ingrese un numero: 4\n",
            "Ingrese un numero: 5\n",
            "[5, 4, 3, 2, 1]\n"
          ]
        }
      ]
    },
    {
      "cell_type": "markdown",
      "source": [
        "5 - Crea un programa que, al ingresar un número cualquiera, genere una lista que contenga todos los números primos entre 1 y el número ingresado."
      ],
      "metadata": {
        "id": "0P8oBk_RLB6F"
      }
    },
    {
      "cell_type": "code",
      "source": [
        "# Definimos un lista vacia en la que se almacenaran los numeros que son primos\n",
        "primos = []\n",
        "\n",
        "# Obtenemos el final del rango para evaluar los numeros primos\n",
        "numero = int(input('Ingrese un numero entero mayor que 1: '))\n",
        "\n",
        "# validamos que el valor sera mayor que 1\n",
        "if numero > 1:\n",
        "  # Recorremos cada uno de los numeros del rango\n",
        "  for n in range(2, numero+1):\n",
        "    # Utilizmos otro bucle para evaluar si el numero es primo\n",
        "    for i in range(2, n):\n",
        "      # Evaluamos si el numero es primo, comparando si es divisble por otro numero entre 1 y el mismo (no inclusivo)\n",
        "      if n % i == 0:\n",
        "        # Si se puede dividir por otro numero, se interrumple el bucle.\n",
        "        break\n",
        "    # Si se completa el ciclo y el numero no se puede dividir por notro numero distinto a 1 y el mismo, entonces es primo\n",
        "    else:\n",
        "      # Agregamos el elemento a la lista de numeros primos\n",
        "      primos.append(n)\n",
        "# si el valor no es mayor que 1 se muetra mensaje\n",
        "else:\n",
        "  print('Valor invalido, el numero entero debe ser mayor que 1')\n",
        "\n",
        "# Si se agregaron elementos a la lista primos se muestran los resultados:\n",
        "if len(primos) >= 1:\n",
        "  print('Numeros primos entre 1 y {}: {}' .format(numero,primos))\n",
        "  print('La cantidad de numeros primos entre 1 y {} es: {}' .format(numero,len(primos)))"
      ],
      "metadata": {
        "colab": {
          "base_uri": "https://localhost:8080/"
        },
        "id": "VX3WAyj8L0Ck",
        "outputId": "b4277d9d-58a0-4c50-f912-48a6b5b8c33f"
      },
      "execution_count": null,
      "outputs": [
        {
          "output_type": "stream",
          "name": "stdout",
          "text": [
            "Ingrese un numero entero mayor que 1: 15000\n",
            "Numeros primos entre 1 y 15000: [2, 3, 5, 7, 11, 13, 17, 19, 23, 29, 31, 37, 41, 43, 47, 53, 59, 61, 67, 71, 73, 79, 83, 89, 97, 101, 103, 107, 109, 113, 127, 131, 137, 139, 149, 151, 157, 163, 167, 173, 179, 181, 191, 193, 197, 199, 211, 223, 227, 229, 233, 239, 241, 251, 257, 263, 269, 271, 277, 281, 283, 293, 307, 311, 313, 317, 331, 337, 347, 349, 353, 359, 367, 373, 379, 383, 389, 397, 401, 409, 419, 421, 431, 433, 439, 443, 449, 457, 461, 463, 467, 479, 487, 491, 499, 503, 509, 521, 523, 541, 547, 557, 563, 569, 571, 577, 587, 593, 599, 601, 607, 613, 617, 619, 631, 641, 643, 647, 653, 659, 661, 673, 677, 683, 691, 701, 709, 719, 727, 733, 739, 743, 751, 757, 761, 769, 773, 787, 797, 809, 811, 821, 823, 827, 829, 839, 853, 857, 859, 863, 877, 881, 883, 887, 907, 911, 919, 929, 937, 941, 947, 953, 967, 971, 977, 983, 991, 997, 1009, 1013, 1019, 1021, 1031, 1033, 1039, 1049, 1051, 1061, 1063, 1069, 1087, 1091, 1093, 1097, 1103, 1109, 1117, 1123, 1129, 1151, 1153, 1163, 1171, 1181, 1187, 1193, 1201, 1213, 1217, 1223, 1229, 1231, 1237, 1249, 1259, 1277, 1279, 1283, 1289, 1291, 1297, 1301, 1303, 1307, 1319, 1321, 1327, 1361, 1367, 1373, 1381, 1399, 1409, 1423, 1427, 1429, 1433, 1439, 1447, 1451, 1453, 1459, 1471, 1481, 1483, 1487, 1489, 1493, 1499, 1511, 1523, 1531, 1543, 1549, 1553, 1559, 1567, 1571, 1579, 1583, 1597, 1601, 1607, 1609, 1613, 1619, 1621, 1627, 1637, 1657, 1663, 1667, 1669, 1693, 1697, 1699, 1709, 1721, 1723, 1733, 1741, 1747, 1753, 1759, 1777, 1783, 1787, 1789, 1801, 1811, 1823, 1831, 1847, 1861, 1867, 1871, 1873, 1877, 1879, 1889, 1901, 1907, 1913, 1931, 1933, 1949, 1951, 1973, 1979, 1987, 1993, 1997, 1999, 2003, 2011, 2017, 2027, 2029, 2039, 2053, 2063, 2069, 2081, 2083, 2087, 2089, 2099, 2111, 2113, 2129, 2131, 2137, 2141, 2143, 2153, 2161, 2179, 2203, 2207, 2213, 2221, 2237, 2239, 2243, 2251, 2267, 2269, 2273, 2281, 2287, 2293, 2297, 2309, 2311, 2333, 2339, 2341, 2347, 2351, 2357, 2371, 2377, 2381, 2383, 2389, 2393, 2399, 2411, 2417, 2423, 2437, 2441, 2447, 2459, 2467, 2473, 2477, 2503, 2521, 2531, 2539, 2543, 2549, 2551, 2557, 2579, 2591, 2593, 2609, 2617, 2621, 2633, 2647, 2657, 2659, 2663, 2671, 2677, 2683, 2687, 2689, 2693, 2699, 2707, 2711, 2713, 2719, 2729, 2731, 2741, 2749, 2753, 2767, 2777, 2789, 2791, 2797, 2801, 2803, 2819, 2833, 2837, 2843, 2851, 2857, 2861, 2879, 2887, 2897, 2903, 2909, 2917, 2927, 2939, 2953, 2957, 2963, 2969, 2971, 2999, 3001, 3011, 3019, 3023, 3037, 3041, 3049, 3061, 3067, 3079, 3083, 3089, 3109, 3119, 3121, 3137, 3163, 3167, 3169, 3181, 3187, 3191, 3203, 3209, 3217, 3221, 3229, 3251, 3253, 3257, 3259, 3271, 3299, 3301, 3307, 3313, 3319, 3323, 3329, 3331, 3343, 3347, 3359, 3361, 3371, 3373, 3389, 3391, 3407, 3413, 3433, 3449, 3457, 3461, 3463, 3467, 3469, 3491, 3499, 3511, 3517, 3527, 3529, 3533, 3539, 3541, 3547, 3557, 3559, 3571, 3581, 3583, 3593, 3607, 3613, 3617, 3623, 3631, 3637, 3643, 3659, 3671, 3673, 3677, 3691, 3697, 3701, 3709, 3719, 3727, 3733, 3739, 3761, 3767, 3769, 3779, 3793, 3797, 3803, 3821, 3823, 3833, 3847, 3851, 3853, 3863, 3877, 3881, 3889, 3907, 3911, 3917, 3919, 3923, 3929, 3931, 3943, 3947, 3967, 3989, 4001, 4003, 4007, 4013, 4019, 4021, 4027, 4049, 4051, 4057, 4073, 4079, 4091, 4093, 4099, 4111, 4127, 4129, 4133, 4139, 4153, 4157, 4159, 4177, 4201, 4211, 4217, 4219, 4229, 4231, 4241, 4243, 4253, 4259, 4261, 4271, 4273, 4283, 4289, 4297, 4327, 4337, 4339, 4349, 4357, 4363, 4373, 4391, 4397, 4409, 4421, 4423, 4441, 4447, 4451, 4457, 4463, 4481, 4483, 4493, 4507, 4513, 4517, 4519, 4523, 4547, 4549, 4561, 4567, 4583, 4591, 4597, 4603, 4621, 4637, 4639, 4643, 4649, 4651, 4657, 4663, 4673, 4679, 4691, 4703, 4721, 4723, 4729, 4733, 4751, 4759, 4783, 4787, 4789, 4793, 4799, 4801, 4813, 4817, 4831, 4861, 4871, 4877, 4889, 4903, 4909, 4919, 4931, 4933, 4937, 4943, 4951, 4957, 4967, 4969, 4973, 4987, 4993, 4999, 5003, 5009, 5011, 5021, 5023, 5039, 5051, 5059, 5077, 5081, 5087, 5099, 5101, 5107, 5113, 5119, 5147, 5153, 5167, 5171, 5179, 5189, 5197, 5209, 5227, 5231, 5233, 5237, 5261, 5273, 5279, 5281, 5297, 5303, 5309, 5323, 5333, 5347, 5351, 5381, 5387, 5393, 5399, 5407, 5413, 5417, 5419, 5431, 5437, 5441, 5443, 5449, 5471, 5477, 5479, 5483, 5501, 5503, 5507, 5519, 5521, 5527, 5531, 5557, 5563, 5569, 5573, 5581, 5591, 5623, 5639, 5641, 5647, 5651, 5653, 5657, 5659, 5669, 5683, 5689, 5693, 5701, 5711, 5717, 5737, 5741, 5743, 5749, 5779, 5783, 5791, 5801, 5807, 5813, 5821, 5827, 5839, 5843, 5849, 5851, 5857, 5861, 5867, 5869, 5879, 5881, 5897, 5903, 5923, 5927, 5939, 5953, 5981, 5987, 6007, 6011, 6029, 6037, 6043, 6047, 6053, 6067, 6073, 6079, 6089, 6091, 6101, 6113, 6121, 6131, 6133, 6143, 6151, 6163, 6173, 6197, 6199, 6203, 6211, 6217, 6221, 6229, 6247, 6257, 6263, 6269, 6271, 6277, 6287, 6299, 6301, 6311, 6317, 6323, 6329, 6337, 6343, 6353, 6359, 6361, 6367, 6373, 6379, 6389, 6397, 6421, 6427, 6449, 6451, 6469, 6473, 6481, 6491, 6521, 6529, 6547, 6551, 6553, 6563, 6569, 6571, 6577, 6581, 6599, 6607, 6619, 6637, 6653, 6659, 6661, 6673, 6679, 6689, 6691, 6701, 6703, 6709, 6719, 6733, 6737, 6761, 6763, 6779, 6781, 6791, 6793, 6803, 6823, 6827, 6829, 6833, 6841, 6857, 6863, 6869, 6871, 6883, 6899, 6907, 6911, 6917, 6947, 6949, 6959, 6961, 6967, 6971, 6977, 6983, 6991, 6997, 7001, 7013, 7019, 7027, 7039, 7043, 7057, 7069, 7079, 7103, 7109, 7121, 7127, 7129, 7151, 7159, 7177, 7187, 7193, 7207, 7211, 7213, 7219, 7229, 7237, 7243, 7247, 7253, 7283, 7297, 7307, 7309, 7321, 7331, 7333, 7349, 7351, 7369, 7393, 7411, 7417, 7433, 7451, 7457, 7459, 7477, 7481, 7487, 7489, 7499, 7507, 7517, 7523, 7529, 7537, 7541, 7547, 7549, 7559, 7561, 7573, 7577, 7583, 7589, 7591, 7603, 7607, 7621, 7639, 7643, 7649, 7669, 7673, 7681, 7687, 7691, 7699, 7703, 7717, 7723, 7727, 7741, 7753, 7757, 7759, 7789, 7793, 7817, 7823, 7829, 7841, 7853, 7867, 7873, 7877, 7879, 7883, 7901, 7907, 7919, 7927, 7933, 7937, 7949, 7951, 7963, 7993, 8009, 8011, 8017, 8039, 8053, 8059, 8069, 8081, 8087, 8089, 8093, 8101, 8111, 8117, 8123, 8147, 8161, 8167, 8171, 8179, 8191, 8209, 8219, 8221, 8231, 8233, 8237, 8243, 8263, 8269, 8273, 8287, 8291, 8293, 8297, 8311, 8317, 8329, 8353, 8363, 8369, 8377, 8387, 8389, 8419, 8423, 8429, 8431, 8443, 8447, 8461, 8467, 8501, 8513, 8521, 8527, 8537, 8539, 8543, 8563, 8573, 8581, 8597, 8599, 8609, 8623, 8627, 8629, 8641, 8647, 8663, 8669, 8677, 8681, 8689, 8693, 8699, 8707, 8713, 8719, 8731, 8737, 8741, 8747, 8753, 8761, 8779, 8783, 8803, 8807, 8819, 8821, 8831, 8837, 8839, 8849, 8861, 8863, 8867, 8887, 8893, 8923, 8929, 8933, 8941, 8951, 8963, 8969, 8971, 8999, 9001, 9007, 9011, 9013, 9029, 9041, 9043, 9049, 9059, 9067, 9091, 9103, 9109, 9127, 9133, 9137, 9151, 9157, 9161, 9173, 9181, 9187, 9199, 9203, 9209, 9221, 9227, 9239, 9241, 9257, 9277, 9281, 9283, 9293, 9311, 9319, 9323, 9337, 9341, 9343, 9349, 9371, 9377, 9391, 9397, 9403, 9413, 9419, 9421, 9431, 9433, 9437, 9439, 9461, 9463, 9467, 9473, 9479, 9491, 9497, 9511, 9521, 9533, 9539, 9547, 9551, 9587, 9601, 9613, 9619, 9623, 9629, 9631, 9643, 9649, 9661, 9677, 9679, 9689, 9697, 9719, 9721, 9733, 9739, 9743, 9749, 9767, 9769, 9781, 9787, 9791, 9803, 9811, 9817, 9829, 9833, 9839, 9851, 9857, 9859, 9871, 9883, 9887, 9901, 9907, 9923, 9929, 9931, 9941, 9949, 9967, 9973, 10007, 10009, 10037, 10039, 10061, 10067, 10069, 10079, 10091, 10093, 10099, 10103, 10111, 10133, 10139, 10141, 10151, 10159, 10163, 10169, 10177, 10181, 10193, 10211, 10223, 10243, 10247, 10253, 10259, 10267, 10271, 10273, 10289, 10301, 10303, 10313, 10321, 10331, 10333, 10337, 10343, 10357, 10369, 10391, 10399, 10427, 10429, 10433, 10453, 10457, 10459, 10463, 10477, 10487, 10499, 10501, 10513, 10529, 10531, 10559, 10567, 10589, 10597, 10601, 10607, 10613, 10627, 10631, 10639, 10651, 10657, 10663, 10667, 10687, 10691, 10709, 10711, 10723, 10729, 10733, 10739, 10753, 10771, 10781, 10789, 10799, 10831, 10837, 10847, 10853, 10859, 10861, 10867, 10883, 10889, 10891, 10903, 10909, 10937, 10939, 10949, 10957, 10973, 10979, 10987, 10993, 11003, 11027, 11047, 11057, 11059, 11069, 11071, 11083, 11087, 11093, 11113, 11117, 11119, 11131, 11149, 11159, 11161, 11171, 11173, 11177, 11197, 11213, 11239, 11243, 11251, 11257, 11261, 11273, 11279, 11287, 11299, 11311, 11317, 11321, 11329, 11351, 11353, 11369, 11383, 11393, 11399, 11411, 11423, 11437, 11443, 11447, 11467, 11471, 11483, 11489, 11491, 11497, 11503, 11519, 11527, 11549, 11551, 11579, 11587, 11593, 11597, 11617, 11621, 11633, 11657, 11677, 11681, 11689, 11699, 11701, 11717, 11719, 11731, 11743, 11777, 11779, 11783, 11789, 11801, 11807, 11813, 11821, 11827, 11831, 11833, 11839, 11863, 11867, 11887, 11897, 11903, 11909, 11923, 11927, 11933, 11939, 11941, 11953, 11959, 11969, 11971, 11981, 11987, 12007, 12011, 12037, 12041, 12043, 12049, 12071, 12073, 12097, 12101, 12107, 12109, 12113, 12119, 12143, 12149, 12157, 12161, 12163, 12197, 12203, 12211, 12227, 12239, 12241, 12251, 12253, 12263, 12269, 12277, 12281, 12289, 12301, 12323, 12329, 12343, 12347, 12373, 12377, 12379, 12391, 12401, 12409, 12413, 12421, 12433, 12437, 12451, 12457, 12473, 12479, 12487, 12491, 12497, 12503, 12511, 12517, 12527, 12539, 12541, 12547, 12553, 12569, 12577, 12583, 12589, 12601, 12611, 12613, 12619, 12637, 12641, 12647, 12653, 12659, 12671, 12689, 12697, 12703, 12713, 12721, 12739, 12743, 12757, 12763, 12781, 12791, 12799, 12809, 12821, 12823, 12829, 12841, 12853, 12889, 12893, 12899, 12907, 12911, 12917, 12919, 12923, 12941, 12953, 12959, 12967, 12973, 12979, 12983, 13001, 13003, 13007, 13009, 13033, 13037, 13043, 13049, 13063, 13093, 13099, 13103, 13109, 13121, 13127, 13147, 13151, 13159, 13163, 13171, 13177, 13183, 13187, 13217, 13219, 13229, 13241, 13249, 13259, 13267, 13291, 13297, 13309, 13313, 13327, 13331, 13337, 13339, 13367, 13381, 13397, 13399, 13411, 13417, 13421, 13441, 13451, 13457, 13463, 13469, 13477, 13487, 13499, 13513, 13523, 13537, 13553, 13567, 13577, 13591, 13597, 13613, 13619, 13627, 13633, 13649, 13669, 13679, 13681, 13687, 13691, 13693, 13697, 13709, 13711, 13721, 13723, 13729, 13751, 13757, 13759, 13763, 13781, 13789, 13799, 13807, 13829, 13831, 13841, 13859, 13873, 13877, 13879, 13883, 13901, 13903, 13907, 13913, 13921, 13931, 13933, 13963, 13967, 13997, 13999, 14009, 14011, 14029, 14033, 14051, 14057, 14071, 14081, 14083, 14087, 14107, 14143, 14149, 14153, 14159, 14173, 14177, 14197, 14207, 14221, 14243, 14249, 14251, 14281, 14293, 14303, 14321, 14323, 14327, 14341, 14347, 14369, 14387, 14389, 14401, 14407, 14411, 14419, 14423, 14431, 14437, 14447, 14449, 14461, 14479, 14489, 14503, 14519, 14533, 14537, 14543, 14549, 14551, 14557, 14561, 14563, 14591, 14593, 14621, 14627, 14629, 14633, 14639, 14653, 14657, 14669, 14683, 14699, 14713, 14717, 14723, 14731, 14737, 14741, 14747, 14753, 14759, 14767, 14771, 14779, 14783, 14797, 14813, 14821, 14827, 14831, 14843, 14851, 14867, 14869, 14879, 14887, 14891, 14897, 14923, 14929, 14939, 14947, 14951, 14957, 14969, 14983]\n",
            "La cantidad de numeros primos entre 1 y 15000 es: 1754\n"
          ]
        }
      ]
    },
    {
      "cell_type": "code",
      "source": [
        "# Solucion instructor\n",
        "# Recopilamos el número\n",
        "numero = int(input('Ingresa un número entero: '))\n",
        "# Lista para almacenar los números primos\n",
        "lista_primos = []\n",
        "# Bucle que recorre todos los números por debajo del número ingresado\n",
        "for num in range(2, numero):\n",
        "  # Primo es una bandera que nos permite saber si el valor analizado es primo o no.\n",
        "  primo = True\n",
        "  # Probamos si todos los números por debajo del especificado en el primer bucle pueden dar una división exacta.\n",
        "  for prueba_divisibles in range(2, num):\n",
        "    if num % prueba_divisibles == 0:\n",
        "      # Si es divisible por algún número, entendemos que el número no es primo y terminamos el bucle interno con break.\n",
        "      primo = False\n",
        "      break\n",
        "  # La condición se convierte en el resultado booleano de primo: False. Ignoramos la condición True y ejecutamos el bloque del if.\n",
        "  if primo:\n",
        "    lista_primos.append(num)\n",
        "# Resultado\n",
        "print(f'Lista de números primos: {lista_primos}')"
      ],
      "metadata": {
        "colab": {
          "base_uri": "https://localhost:8080/"
        },
        "id": "VBQkZprLTOV5",
        "outputId": "0e22eaa7-1b1d-41eb-cb4e-ee4d3cc46057"
      },
      "execution_count": null,
      "outputs": [
        {
          "output_type": "stream",
          "name": "stdout",
          "text": [
            "Ingresa un número entero: 11\n",
            "Lista de números primos: [2, 3, 5, 7]\n"
          ]
        }
      ]
    },
    {
      "cell_type": "markdown",
      "source": [
        "6 - Escribe un programa que pida una fecha, especificando el día, mes y año, y determine si es válida para su análisis."
      ],
      "metadata": {
        "id": "byVoSJTbS_eX"
      }
    },
    {
      "cell_type": "code",
      "source": [
        "# Definimos un dicionario para almacenar la fecha como par de llaves : valores\n",
        "fecha = {}\n",
        "# Definimos los meses que tienen 30 dias para validar si el dia es valido segun el mes\n",
        "mes30 = [4,6,9,11]\n",
        "\n",
        "# Obtenemos al fecha en una cadena:\n",
        "cadena_fecha = input('Ingrese la fecha: ')\n",
        "\n",
        "# Convertimos la cadena a una lista de valores que incluyen [dia, mes, año]\n",
        "lista_fecha = cadena_fecha.split('/')\n",
        "\n",
        "# Validamos que la fecha se ingreso completa con dia, mes y año\n",
        "if len(lista_fecha) == 3:\n",
        "  # Asignamos el valor a cada llave\n",
        "  fecha['dia'] = int(lista_fecha[0])\n",
        "  fecha['mes'] = int(lista_fecha[1])\n",
        "  fecha['año'] = int(lista_fecha[2])\n",
        "\n",
        "# Realizamos las comprobaciones para validar si la fecha es valida\n",
        "# Validamos que el valor de cada elemento es mayor que cero\n",
        "  if fecha['dia'] > 0 and fecha['mes'] > 0 and fecha['año'] > 0:\n",
        "    # Validamos que el valor para el mes se encuentra entre 1 y 12\n",
        "    if fecha['mes'] >= 1 and fecha['mes'] <= 12:\n",
        "      # Validamos si el valor para el dia es entre 1 y 31\n",
        "      if fecha['dia'] >= 1 and fecha['dia'] <= 31:\n",
        "        # Validamos que si el valor del dia es valido para el mes de febrero, no puede ser mayor que 28 en años no bisiestos o mayor que 29 en años bisiestos\n",
        "        if (fecha['dia'] > 28 and fecha['mes'] == 2 and fecha['año'] % 4 != 0) or (fecha['dia'] > 29 and fecha['mes'] == 2 and fecha['año'] % 4 == 0):\n",
        "          print('Fecha invalida, mes 2, dia > 28 o > 29 en año bisiesto')\n",
        "        # Validamos si el mes es uno de los meses que tienen 30 dias\n",
        "        elif fecha['dia'] > 30 and fecha['mes'] in mes30:\n",
        "          print('Fecha invalida, el dia no puede ser mayor que 31 para el mes 4, 6, 9, 11')\n",
        "        # Si los valores son correctos la fecha es valida\n",
        "        else:\n",
        "          print('La fecha es valida')\n",
        "      # La fecha es invalida si el valor del dia no se encuentra entre 1 y 31\n",
        "      else:\n",
        "        print('La fecha es invalida, el dia debe ser entre 1 y 31')\n",
        "    # La fecha es invalida si el valor del mes no se encuentra entre 1 y 12\n",
        "    else:\n",
        "      print('La fecha es invalida, el mes debe ser entre 1 y 12')\n",
        "  # La fecha es invalida si uno de los valores de dia, mes o año es cero\n",
        "  else:\n",
        "    print('La fecha ingresada es invalida el dia, mes y año deben ser mayor que cero')\n",
        "# Si no se ingresan los 3 valores la fecha esta incompleta\n",
        "else:\n",
        "  print('La fecha esta incompleta')"
      ],
      "metadata": {
        "colab": {
          "base_uri": "https://localhost:8080/"
        },
        "id": "9AnBtbBdcz25",
        "outputId": "9f01322f-af8d-4513-a167-c8b57f53b1f5"
      },
      "execution_count": null,
      "outputs": [
        {
          "output_type": "stream",
          "name": "stdout",
          "text": [
            "Ingrese la fecha: 13/11/1984\n",
            "La fecha es valida\n"
          ]
        }
      ]
    },
    {
      "cell_type": "code",
      "source": [
        "# Solucion Instructor\n",
        "# Recopilamos la fecha\n",
        "dia = int(input('Ingrese el día: '))\n",
        "mes = int(input('Ingrese el mes: '))\n",
        "año = int(input('Ingrese el año: '))\n",
        "\n",
        "# Análisis de febrero\n",
        "if mes == 2:\n",
        "  # Verificamos si es o no un año bisiesto\n",
        "  if año % 4 == 0 and (año % 400 == 0 or año % 100 != 0):\n",
        "    dias_febrero = 29\n",
        "  else:\n",
        "    dias_febrero = 28\n",
        "  # Verificamos si el día ingresado coincide con el máximo de días de febrero\n",
        "  if dia >= 1 and dia <= dias_febrero:\n",
        "    print('Fecha válida')\n",
        "  else:\n",
        "    print('Fecha inválida')\n",
        "# Verificamos meses que terminan en 31 días\n",
        "elif mes in [1, 3, 5, 7, 8, 10, 12]:\n",
        "  if dia >= 1 and dia <= 31:\n",
        "    print('Fecha válida')\n",
        "  else:\n",
        "    print('Fecha inválida')\n",
        "# Verificamos meses que terminan en 30 días\n",
        "elif mes in [4, 6, 9, 11]:\n",
        "  if dia >= 1 and dia <= 30:\n",
        "    print('Fecha válida')\n",
        "  else:\n",
        "    print('Fecha inválida')\n",
        "# Si el mes no está entre 1 y 12\n",
        "else:\n",
        "  print('Fecha inválida')"
      ],
      "metadata": {
        "colab": {
          "base_uri": "https://localhost:8080/"
        },
        "id": "52uqxR3sUgJa",
        "outputId": "368f035f-81a0-410d-d157-01fa51e8a2e7"
      },
      "execution_count": null,
      "outputs": [
        {
          "output_type": "stream",
          "name": "stdout",
          "text": [
            "Ingrese el día: 13\n",
            "Ingrese el mes: 11\n",
            "Ingrese el año: 1984\n",
            "Fecha válida\n"
          ]
        }
      ]
    },
    {
      "cell_type": "markdown",
      "source": [
        "## Momento para los proyectos\n",
        "\n",
        "7 - Para un estudio sobre la multiplicación de bacterias en una colonia, se recopiló el número de bacterias multiplicadas por día y se puede observar a continuación: [1.2, 2.1, 3.3, 5.0, 7.8, 11.3, 16.6, 25.1, 37.8, 56.9]. Con estos valores, crea un código que genere una lista que contenga el porcentaje de crecimiento de bacterias por día, comparando el número de bacterias en cada día con el número de bacterias del día anterior. Sugerencia: para calcular el porcentaje de crecimiento, utiliza la siguiente ecuación: 100 * (muestra_actual - muestra_anterior) / muestra_anterior.\n",
        "\n"
      ],
      "metadata": {
        "id": "3e7O0Wn8fzYz"
      }
    },
    {
      "cell_type": "code",
      "source": [
        "# Inicializamos nuestra lista de valores\n",
        "bacterias = [1.2, 2.1, 3.3, 5.0, 7.8, 11.3, 16.6, 25.1, 37.8, 56.9]\n",
        "# Incializamos una lista vacia para los porcentajes de crecimientos\n",
        "crecimiento = []\n",
        "n = len(bacterias)\n",
        "\n",
        "# Recorremos la lista con los numeros de bacterias inciciando en el segundo elemento hasta el ultimo\n",
        "for muestra in range(1,n):\n",
        "  # Calculamos el porcentaje de crecimiento con la formula\n",
        "  # porcentaje = 100 * valor_actual - valor_anterior / valor_anterior\n",
        "  porcentaje = 100 * ((bacterias[muestra] - bacterias[muestra-1]) / bacterias[muestra-1])\n",
        "  # Agregamos el porcentaje calculado a la lista de porcentajes.\n",
        "  crecimiento.append(porcentaje)\n",
        "\n",
        "# Para mostrar los datos creamos una nueva lista con los valores con formato de 2 decimales\n",
        "crecimiento_f = [\"%.2f\" % elem for elem in crecimiento]\n",
        "\n",
        "# Imprimimos los resultados\n",
        "print(f'Porcentajes de crecimiento: \\n{crecimiento_f}')"
      ],
      "metadata": {
        "colab": {
          "base_uri": "https://localhost:8080/"
        },
        "id": "mvuNu_x6gFuq",
        "outputId": "23b94013-ea7e-4c5a-8f2d-c68819cb535c"
      },
      "execution_count": null,
      "outputs": [
        {
          "output_type": "stream",
          "name": "stdout",
          "text": [
            "Porcentajes de crecimiento: \n",
            "['75.00', '57.14', '51.52', '56.00', '44.87', '46.90', '51.20', '50.60', '50.53']\n"
          ]
        }
      ]
    },
    {
      "cell_type": "markdown",
      "source": [
        "8 - Para una selección de productos alimenticios, debemos separar el conjunto de IDs proporcionados por números enteros, sabiendo que los productos con ID par son dulces y los que tienen ID impar son amargos. Crea un código que recoja 10 IDs. Luego, calcula y muestra la cantidad de productos dulces y amargos."
      ],
      "metadata": {
        "id": "KkqSqTVIjOJ6"
      }
    },
    {
      "cell_type": "code",
      "source": [
        "# Inicializamos la lista donde se almacenaran los IDs\n",
        "lista_id = []\n",
        "# Inicializamos el contador de productos dulces\n",
        "dulces = 0\n",
        "# Inicializamos el contador de productos que son salados\n",
        "amargos = 0\n",
        "\n",
        "# Obtenemos los 10 valores de id mediante un ciclo\n",
        "for n in range (0,10):\n",
        "  # Almacenamos el valor\n",
        "  id = int(input(f'Ingrese un numero entero para el id {n+1}: ' ))\n",
        "  # Agregamos el ID a la lista.\n",
        "  lista_id.append(id)\n",
        "  # Evaluamos si el ID es par para incrementar el contador de dulces\n",
        "  if id % 2 == 0:\n",
        "    dulces += 1\n",
        "  # Si el ID es impar incrementaos el contador de amargos\n",
        "  else:\n",
        "    amargos += 1\n",
        "\n",
        "# Imprimimos los contadores de productos dulces y productos amargos\n",
        "print('\\nProductos dulces: {}' .format(dulces))\n",
        "print('Productos amargos: {}' .format(amargos))"
      ],
      "metadata": {
        "colab": {
          "base_uri": "https://localhost:8080/"
        },
        "id": "x7EUguPrjQ0f",
        "outputId": "ec0e1b01-d060-416a-b3da-3436dfd7b38b"
      },
      "execution_count": null,
      "outputs": [
        {
          "output_type": "stream",
          "name": "stdout",
          "text": [
            "Ingrese un numero entero para el id 1: 1\n",
            "Ingrese un numero entero para el id 2: 2\n",
            "Ingrese un numero entero para el id 3: 3\n",
            "Ingrese un numero entero para el id 4: 4\n",
            "Ingrese un numero entero para el id 5: 5\n",
            "Ingrese un numero entero para el id 6: 6\n",
            "Ingrese un numero entero para el id 7: 7\n",
            "Ingrese un numero entero para el id 8: 8\n",
            "Ingrese un numero entero para el id 9: 9\n",
            "Ingrese un numero entero para el id 10: 10\n",
            "\n",
            "Productos dulces: 5\n",
            "Productos amargos: 5\n"
          ]
        }
      ]
    },
    {
      "cell_type": "code",
      "source": [
        "# Solucion Instructor\n",
        "# Lista que contendrá los valores de IDs\n",
        "ids = []\n",
        "# Variables contadoras de dulces y amargos\n",
        "dulce = 0\n",
        "amargo = 0\n",
        "\n",
        "# Creamos un bucle que iterará 10 veces para recopilar los 10 IDs\n",
        "for i in range(0,10):\n",
        "  # Recopilamos el ID y lo agregamos a la lista\n",
        "  ids.append(int(input(f'Ingrese el ID {i+1}°: '))\n",
        "\n",
        "# Leemos todos los elementos de la lista de IDs y los asignamos a id\n",
        "for id in ids:\n",
        "  # Verificamos si los elementos son pares o impares para llevar el conteo\n",
        "  if id % 2 == 0:\n",
        "    dulce += 1\n",
        "  else:\n",
        "    amargo += 1\n",
        "\n",
        "# Resultado\n",
        "print(f'Cantidad de productos dulces: {dulce}')\n",
        "print(f'Cantidad de productos amargos: {amargo}')\n"
      ],
      "metadata": {
        "id": "9CeFTp1HWbDf"
      },
      "execution_count": null,
      "outputs": []
    },
    {
      "cell_type": "markdown",
      "source": [
        "9 - Desarrolla un programa que informe la puntuación de un estudiante de acuerdo con sus respuestas. Debe pedir la respuesta del estudiante para cada pregunta y verificar si la respuesta coincide con el resultado. Cada pregunta vale un punto y hay opciones A, B, C o D.\n",
        "\n",
        "```\n",
        "Resultado del examen:\n",
        "01 - D\n",
        "02 - A\n",
        "03 - C\n",
        "04 - B\n",
        "05 - A\n",
        "06 - D\n",
        "07 - C\n",
        "08 - C\n",
        "09 - A\n",
        "10 - B\n",
        "```"
      ],
      "metadata": {
        "id": "D9xjQ7thkoGc"
      }
    },
    {
      "cell_type": "code",
      "source": [
        "# Incializamos una lista vacia para almacenar las respuestas\n",
        "respuestas = []\n",
        "\n",
        "# Incializamos la listas con los valores de respuestas correctas\n",
        "resultado = ['D','A','C','B','A','D','C','C','A','B']\n",
        "\n",
        "# Obtenemos la cantidad de preguntas totales segun las respuestas\n",
        "p = len(resultado)\n",
        "\n",
        "# Incializamos una cadena con las opciones de respuestas validas\n",
        "valido = 'ABCD'\n",
        "\n",
        "# Incializamos una variable para almacenar la puntuacion.\n",
        "puntuacion = 0;\n",
        "\n",
        "# Recorremos un bucle para capturar las respuestas\n",
        "for n in range (0,p):\n",
        "  # Capturamos la respuesta, el valor ingresado se pasa a mayuscula\n",
        "  opcion = input('Pregunta {}, elija una opcion: A, B, C, D: ' .format(n+1)).upper()\n",
        "  # Evaluamos si la respuesta no es valida, si la respuesta no es valida se captura nuevamente la opcion\n",
        "  while opcion not in valido:\n",
        "    opcion = input('Opcion invalida. Pregunta {}, elija una opcion: A, B, C, D: ' .format(n+1)).upper()\n",
        "  # Almacenamos la respuesta en la lista de respuestas.\n",
        "  respuestas.append(opcion)\n",
        "  # Evaluamos si la respuesta coincide con la pregunta actual:\n",
        "  if opcion == resultado[n]:\n",
        "    # Si la respuesta es correcta, incrementamos la puntuacion en 1-\n",
        "    puntuacion += 1\n",
        "\n",
        "# Imprimimos la puntuacion obtenida\n",
        "print('\\nPuntuacion: {}' .format(puntuacion))\n",
        "# Imprimos las respuetas ingresadas\n",
        "print('Respuestas: {}' .format(respuestas))"
      ],
      "metadata": {
        "colab": {
          "base_uri": "https://localhost:8080/"
        },
        "id": "FN7d05PFlAuE",
        "outputId": "0eb01332-0d73-439f-f2bb-f7f951b47753"
      },
      "execution_count": null,
      "outputs": [
        {
          "output_type": "stream",
          "name": "stdout",
          "text": [
            "Pregunta 1, elija una opcion: A, B, C, D: a\n",
            "Pregunta 2, elija una opcion: A, B, C, D: b\n",
            "Pregunta 3, elija una opcion: A, B, C, D: c\n",
            "Pregunta 4, elija una opcion: A, B, C, D: d\n",
            "Pregunta 5, elija una opcion: A, B, C, D: a\n",
            "Pregunta 6, elija una opcion: A, B, C, D: b\n",
            "Pregunta 7, elija una opcion: A, B, C, D: c\n",
            "Pregunta 8, elija una opcion: A, B, C, D: d\n",
            "Pregunta 9, elija una opcion: A, B, C, D: a\n",
            "Pregunta 10, elija una opcion: A, B, C, D: b\n",
            "\n",
            "Puntuacion: 5\n",
            "Respuestas: ['A', 'B', 'C', 'D', 'A', 'B', 'C', 'D', 'A', 'B']\n"
          ]
        }
      ]
    },
    {
      "cell_type": "code",
      "source": [
        "# Solucion Instructor\n",
        "# Inicializamos los datos\n",
        "respuestas = []  # Lista para almacenar las respuestas\n",
        "# Lista de respuestas correctas\n",
        "gabarito = ['D', 'A', 'C', 'B', 'A', 'D', 'C', 'C', 'A', 'B']\n",
        "nota = 0  # Acumulará la nota total\n",
        "\n",
        "# Recopilamos las respuestas del estudiante\n",
        "for i in range(0, 10):\n",
        "  respuestas.append(input(f'Introduzca la respuesta a la pregunta {i + 1}: ').upper())\n",
        "\n",
        "# Verificamos si las respuestas coinciden y las sumamos a la nota\n",
        "for i in range(0, 10):\n",
        "  if respuestas[i] == gabarito[i]:\n",
        "    nota += 1\n",
        "\n",
        "# Mostrando la nota final\n",
        "print(f'Nota final: {nota}')"
      ],
      "metadata": {
        "id": "LfFxELNjaNw1"
      },
      "execution_count": null,
      "outputs": []
    },
    {
      "cell_type": "markdown",
      "source": [
        "10 - Un instituto de meteorología desea realizar un estudio de la temperatura media de cada mes del año. Para ello, debes crear un código que recoja y almacene esas temperaturas medias en una lista. Luego, calcula el promedio anual de las temperaturas y muestra todas las temperaturas por encima del promedio anual y en qué mes ocurrieron, mostrando los meses por su nombre (Enero, Febrero, etc.)."
      ],
      "metadata": {
        "id": "hExIR7Sc-GoV"
      }
    },
    {
      "cell_type": "code",
      "source": [
        "# Inicializamos la lista para almacenar los promedios mensuales de temperatura\n",
        "temperaturas = []\n",
        "\n",
        "# Creamos un diccionario auxiliar con los llave valor para los meses del año\n",
        "# La llave corresponde la posicion de mes y el valor al mes\n",
        "meses = {0 : 'Enero',\n",
        "         1 : 'Frebrero',\n",
        "         2 : 'Marzo',\n",
        "         3 : 'Abril',\n",
        "         4 : 'Mayo',\n",
        "         5 : 'Junio',\n",
        "         6 : 'Julio',\n",
        "         7 : 'Agosto',\n",
        "         8 : 'Septiembre',\n",
        "         9 : 'Octubre',\n",
        "         10 : 'Noviembre',\n",
        "         11 : 'Diciembre'}\n",
        "\n",
        "# Obtenemos los valores de temperaturas mediante un bucle\n",
        "for t in range (0,12):\n",
        "  # Capturamos el valor de la temperatura\n",
        "  temperatura = float(input('Ingrese la temperatura promedio del mes de {}: ' .format(meses[t])))\n",
        "  # Agregamos la temperatura la lista para almacenar las temperaturas.\n",
        "  temperaturas.append(temperatura)\n",
        "\n",
        "# Calculamos el promedio sumando cada uno de los valores en la lista y dividiendo entre 12 mees\n",
        "promedio = sum(temperaturas) / 12\n",
        "\n",
        "print('\\n### Temperaturas Superiores al Promedio Anual: ####')\n",
        "# Imprimimos los valores de las temperaturas para cada mes utilizando un ciclo pare recorrer el diccionario de meses y la lista de temperaturas\n",
        "for i in range (0,12):\n",
        "  # Evaluamos si la tempertura promedio del mes es mayor al promedio general\n",
        "  if temperaturas[i] > promedio:\n",
        "    # Para los meses que tienen una temperatura promedio mayor a la promedio general imprimimos el mes, su valor de temperatura media y la media general\n",
        "    print('{} ----> temperatura {} vs promedio {}' .format(meses[i], temperaturas[i],promedio) )\n"
      ],
      "metadata": {
        "colab": {
          "base_uri": "https://localhost:8080/"
        },
        "id": "MQwD3VR9_v-t",
        "outputId": "6df174a0-4668-41e4-dc5a-1f4ceb843a4e"
      },
      "execution_count": null,
      "outputs": [
        {
          "output_type": "stream",
          "name": "stdout",
          "text": [
            "Ingrese la temperatura promedio del mes de Enero: 26\n",
            "Ingrese la temperatura promedio del mes de Frebrero: 26\n",
            "Ingrese la temperatura promedio del mes de Marzo: 29\n",
            "Ingrese la temperatura promedio del mes de Abril: 28\n",
            "Ingrese la temperatura promedio del mes de Mayo: 30\n",
            "Ingrese la temperatura promedio del mes de Junio: 28\n",
            "Ingrese la temperatura promedio del mes de Julio: 27\n",
            "Ingrese la temperatura promedio del mes de Agosto: 28\n",
            "Ingrese la temperatura promedio del mes de Septiembre: 28\n",
            "Ingrese la temperatura promedio del mes de Octubre: 28\n",
            "Ingrese la temperatura promedio del mes de Noviembre: 27\n",
            "Ingrese la temperatura promedio del mes de Diciembre: 28\n",
            "\n",
            "### Temperaturas Superiores al Promedio Anual: ####\n",
            "Marzo ----> temperatura 29.0 vs promedio 27.75\n",
            "Abril ----> temperatura 28.0 vs promedio 27.75\n",
            "Mayo ----> temperatura 30.0 vs promedio 27.75\n",
            "Junio ----> temperatura 28.0 vs promedio 27.75\n",
            "Agosto ----> temperatura 28.0 vs promedio 27.75\n",
            "Septiembre ----> temperatura 28.0 vs promedio 27.75\n",
            "Octubre ----> temperatura 28.0 vs promedio 27.75\n",
            "Diciembre ----> temperatura 28.0 vs promedio 27.75\n"
          ]
        }
      ]
    },
    {
      "cell_type": "code",
      "source": [
        "# Inicializamos la lista para almacenar los promedios mensuales de temperatura\n",
        "temperaturas = []\n",
        "\n",
        "# Incializamos una lista auxiliar con los meses del año.\n",
        "meses = ['Enero','Frebrero','Marzo','Abril','Mayo','Junio','Julio','Agosto','Septiembre','Octubre','Noviembre','Diciembre']\n",
        "\n",
        "# Obtenemos los valores de temperaturas mediante un bucle\n",
        "for t in range (0,12):\n",
        "  # Capturamos el valor de la temperatura\n",
        "  temperatura = float(input('Ingrese la temperatura promedio del mes de {}: ' .format(meses[t])))\n",
        "  # Agregamos la temperatura la lista para almacenar las temperaturas.\n",
        "  temperaturas.append(temperatura)\n",
        "\n",
        "# Calculamos el promedio sumando cada uno de los valores en la lista y dividiendo entre 12 mees\n",
        "promedio = sum(temperaturas) / 12\n",
        "\n",
        "print('\\n### Temperaturas Superiores al Promedio Anual: ####')\n",
        "# Imprimimos los valores de las temperaturas para cada mes utilizando un ciclo pare recorrer la lista de meses y la lista de temperaturas\n",
        "for i in range (0,12):\n",
        "  # Evaluamos si la tempertura promedio del mes es mayor al promedio general\n",
        "  if temperaturas[i] > promedio:\n",
        "    # Para los meses que tienen una temperatura promedio mayor a la promedio general imprimimos el mes, su valor de temperatura media y la media general\n",
        "    print('{} ----> temperatura {} vs promedio {}' .format(meses[i], temperaturas[i],promedio) )"
      ],
      "metadata": {
        "colab": {
          "base_uri": "https://localhost:8080/"
        },
        "id": "ag192oGBa598",
        "outputId": "d5624582-c9ad-4093-b983-cb1324207547"
      },
      "execution_count": null,
      "outputs": [
        {
          "output_type": "stream",
          "name": "stdout",
          "text": [
            "Ingrese la temperatura promedio del mes de Enero: 26\n",
            "Ingrese la temperatura promedio del mes de Frebrero: 26\n",
            "Ingrese la temperatura promedio del mes de Marzo: 29\n",
            "Ingrese la temperatura promedio del mes de Abril: 28\n",
            "Ingrese la temperatura promedio del mes de Mayo: 30\n",
            "Ingrese la temperatura promedio del mes de Junio: 28\n",
            "Ingrese la temperatura promedio del mes de Julio: 27\n",
            "Ingrese la temperatura promedio del mes de Agosto: 28\n",
            "Ingrese la temperatura promedio del mes de Septiembre: 28\n",
            "Ingrese la temperatura promedio del mes de Octubre: 28\n",
            "Ingrese la temperatura promedio del mes de Noviembre: 27\n",
            "Ingrese la temperatura promedio del mes de Diciembre: 28\n",
            "\n",
            "### Temperaturas Superiores al Promedio Anual: ####\n",
            "Marzo ----> temperatura 29.0 vs promedio 27.75\n",
            "Abril ----> temperatura 28.0 vs promedio 27.75\n",
            "Mayo ----> temperatura 30.0 vs promedio 27.75\n",
            "Junio ----> temperatura 28.0 vs promedio 27.75\n",
            "Agosto ----> temperatura 28.0 vs promedio 27.75\n",
            "Septiembre ----> temperatura 28.0 vs promedio 27.75\n",
            "Octubre ----> temperatura 28.0 vs promedio 27.75\n",
            "Diciembre ----> temperatura 28.0 vs promedio 27.75\n"
          ]
        }
      ]
    },
    {
      "cell_type": "code",
      "source": [
        "# Solucion instructor\n",
        "# Recopilamos la lista de temperaturas mensuales\n",
        "temperaturas_mensuales = []\n",
        "for i in range(0, 12):\n",
        "  temperaturas_mensuales.append(float(input(f'Ingrese la temperatura promedio del mes {i+1}: ')))\n",
        "# Creamos una lista auxiliar para los nombres de los meses\n",
        "meses = ['Enero', 'Febrero', 'Marzo', 'Abril', 'Mayo', 'Junio', 'Julio', 'Agosto', 'Septiembre', 'Octubre', 'Noviembre', 'Diciembre']\n",
        "# Calculamos el promedio\n",
        "media_anual = sum(temperaturas_mensuales) / len(temperaturas_mensuales)\n",
        "\n",
        "# Resultado\n",
        "print('Temperaturas por encima del promedio en: ')\n",
        "for i in range(0, 12):\n",
        "  # Verificamos todas las temperaturas en comparación con la media anual\n",
        "  if temperaturas_mensuales[i] > media_anual:\n",
        "    # Dado que los índices de los meses corresponden a las temperaturas,\n",
        "    # podemos imprimirlos con el mismo índice\n",
        "    print(meses[i])\n"
      ],
      "metadata": {
        "colab": {
          "base_uri": "https://localhost:8080/"
        },
        "id": "L1LkZBXvanw0",
        "outputId": "39e28692-5771-4eb1-fba6-5f74ad764335"
      },
      "execution_count": null,
      "outputs": [
        {
          "output_type": "stream",
          "name": "stdout",
          "text": [
            "Ingrese la temperatura promedio del mes 1: 26\n",
            "Ingrese la temperatura promedio del mes 2: 26\n",
            "Ingrese la temperatura promedio del mes 3: 29\n",
            "Ingrese la temperatura promedio del mes 4: 28\n",
            "Ingrese la temperatura promedio del mes 5: 30\n",
            "Ingrese la temperatura promedio del mes 6: 28\n",
            "Ingrese la temperatura promedio del mes 7: 27\n",
            "Ingrese la temperatura promedio del mes 8: 28\n",
            "Ingrese la temperatura promedio del mes 9: 28\n",
            "Ingrese la temperatura promedio del mes 10: 28\n",
            "Ingrese la temperatura promedio del mes 11: 27\n",
            "Ingrese la temperatura promedio del mes 12: 28\n",
            "Temperaturas por encima del promedio en: \n",
            "Marzo\n",
            "Abril\n",
            "Mayo\n",
            "Junio\n",
            "Agosto\n",
            "Septiembre\n",
            "Octubre\n",
            "Diciembre\n"
          ]
        }
      ]
    },
    {
      "cell_type": "markdown",
      "source": [
        "11 - Una empresa de comercio electrónico está interesada en analizar las ventas de sus productos. Los datos de ventas se han almacenado en un diccionario:\n",
        "\n",
        "```\n",
        "  {\n",
        "  'Producto A': 300,\n",
        "  'Producto B': 80,\n",
        "  'Producto C': 60,\n",
        "  'Producto D': 200,\n",
        "  'Producto E': 250,\n",
        "  'Producto F': 30\n",
        "  }\n",
        "```\n",
        "\n",
        "Escribe un código que calcule el total de ventas y el producto más vendido."
      ],
      "metadata": {
        "id": "iZQwTht-S9Re"
      }
    },
    {
      "cell_type": "code",
      "source": [
        "# Inializamos el diccionario datos de producto y venta\n",
        "ventas = {'Producto A': 300,\n",
        "          'Producto B': 80,\n",
        "          'Producto C': 60,\n",
        "          'Producto D': 200,\n",
        "          'Producto E': 250,\n",
        "          'Producto F': 30\n",
        "          }\n",
        "\n",
        "# Inicializamos la variable auxiliar para obtener el producto con mas ventas\n",
        "mayor = 0\n",
        "\n",
        "# Calculamos el total de ventas a partir de la suma de los valores de los datos.\n",
        "total_ventas = sum(ventas.values());\n",
        "\n",
        "# Utilizamos un ciclo para evaluar los valores y obtener el producto mas vendido.\n",
        "for llave, valor in ventas.items():\n",
        "  # Evaluamos si el valor del producto es mayor al mayor valor obtenido en la variable auxiliar\n",
        "  if valor > mayor:\n",
        "    # Si el valor actual es mayor se guarda la llave que identifica al valor actual\n",
        "    producto = llave\n",
        "    # El valor actual se guarda como el valor mayor\n",
        "    mayor = valor\n",
        "\n",
        "# Imprimimos los resultados\n",
        "print('Total ventas: {}' .format(total_ventas))\n",
        "print('Producto mas vendido: {}' .format(producto))\n"
      ],
      "metadata": {
        "colab": {
          "base_uri": "https://localhost:8080/"
        },
        "id": "a95JCJUs-JwI",
        "outputId": "5d4a7663-1e0d-4b83-a256-4c3ecc7e8061"
      },
      "execution_count": null,
      "outputs": [
        {
          "output_type": "stream",
          "name": "stdout",
          "text": [
            "Total ventas: 920\n",
            "Producto mas vendido: Producto A\n"
          ]
        }
      ]
    },
    {
      "cell_type": "code",
      "source": [
        "ventas = {'Producto A': 300,\n",
        "          'Producto B': 80,\n",
        "          'Producto C': 60,\n",
        "          'Producto D': 200,\n",
        "          'Producto E': 250,\n",
        "          'Producto F': 30\n",
        "          }\n",
        "\n",
        "total_ventas = sum(ventas.values());\n",
        "\n",
        "productos = list(ventas.keys())\n",
        "\n",
        "valores_ordenados = list(ventas.values())\n",
        "valores_ordenados.sort()\n",
        "\n",
        "valores = list(ventas.values())\n",
        "\n",
        "mayor = valores_ordenados[-1]\n",
        "\n",
        "print('Total ventas: {}' .format(total_ventas))\n",
        "print('Producto mas vendido: {}' .format(productos[valores.index(mayor)]))\n"
      ],
      "metadata": {
        "colab": {
          "base_uri": "https://localhost:8080/"
        },
        "id": "qMYOMqYdTlff",
        "outputId": "aecb55dd-fcf0-4491-dcf7-0931cb195515"
      },
      "execution_count": null,
      "outputs": [
        {
          "output_type": "stream",
          "name": "stdout",
          "text": [
            "Total ventas: 920\n",
            "Producto mas vendido: Producto A\n"
          ]
        }
      ]
    },
    {
      "cell_type": "code",
      "source": [
        "# Solucion instructor\n",
        "# Diccionario de ventas\n",
        "datos_ventas = {'Producto A': 300, 'Producto B': 80, 'Producto C': 60, 'Producto D': 200, 'Producto E': 250, 'Producto F': 30}\n",
        "\n",
        "# Inicializamos las variables\n",
        "total_ventas = 0  # Sumará todas las ventas\n",
        "producto_mas_vendido = ''  # Almacenará el nombre del producto más vendido\n",
        "unidades_producto_mas_vendido = 0  # Almacenará la cantidad más alta de ventas\n",
        "\n",
        "# Recorremos las claves y elementos del diccionario\n",
        "for producto in datos_ventas.keys():\n",
        "    # Sumamos el total de ventas\n",
        "    total_ventas += datos_ventas[producto]\n",
        "    # Verificamos si el valor de ventas actual (datos_ventas[producto]) es mayor que el valor almacenado en unidades_producto_mas_vendido\n",
        "    # Cada vez que datos_ventas[producto] supere el valor en unidades_producto_mas_vendido,\n",
        "    # la variable unidades_producto_mas_vendido será igual a datos_ventas[producto], asignando un nuevo valor\n",
        "    # De manera similar, producto_mas_vendido también se actualiza con el producto actual\n",
        "    if datos_ventas[producto] > unidades_producto_mas_vendido:\n",
        "        unidades_producto_mas_vendido = datos_ventas[producto]\n",
        "        producto_mas_vendido = producto\n",
        "# Resultados\n",
        "print(f'Total de ventas es {total_ventas}')\n",
        "print(f'{producto_mas_vendido} es el más vendido')\n"
      ],
      "metadata": {
        "colab": {
          "base_uri": "https://localhost:8080/"
        },
        "id": "ZaEajB1HdND_",
        "outputId": "3d7e9d90-bfab-45de-bfd5-0a4382a0b1d2"
      },
      "execution_count": null,
      "outputs": [
        {
          "output_type": "stream",
          "name": "stdout",
          "text": [
            "Total de ventas es 920\n",
            "Producto A es el más vendido\n"
          ]
        }
      ]
    },
    {
      "cell_type": "markdown",
      "source": [
        "12 - Se realizó una encuesta de mercado para decidir cuál diseño de marca infantil es más atractivo para los niños. Los votos de la encuesta se pueden ver a continuación:\n",
        "\n",
        "```\n",
        "Tabla de votos de la marca\n",
        "Diseño 1 - 1334 votos\n",
        "Diseño 2 - 982 votos\n",
        "Diseño 3 - 1751 votos\n",
        "Diseño 4 - 210 votos\n",
        "Diseño 5 - 1811 votos\n",
        "```\n",
        "\n",
        "Adapta los datos proporcionados a una estructura de diccionario. A partir de ello, informa el diseño ganador y el porcentaje de votos recibidos.\n",
        "\n"
      ],
      "metadata": {
        "id": "Rj-63583e_I4"
      }
    },
    {
      "cell_type": "code",
      "source": [
        "# Incializamos el diccionario con los datos de los diseños y su cantidad de votos.\n",
        "votos = {'Diseño 1' : 1334,\n",
        "         'Diseño 2' : 982,\n",
        "         'Diseño 3' : 1751,\n",
        "         'Diseño 4' : 210,\n",
        "         'Diseño 5' : 1811\n",
        "         }\n",
        "\n",
        "# Inicializamos una variable auxiliar para determinar la mayor cantidad de votos.\n",
        "mayor = 0\n",
        "\n",
        "# Calculamos el total de voto con la suma de los valores de los datos\n",
        "total_votos = sum(votos.values());\n",
        "\n",
        "# Recorremos los datos mediante un bucle para validar el diseño con mas votos\n",
        "for llave, valor in votos.items():\n",
        "  # Evaluamos si el valor actual es mayor al valor de la variable auxiliar\n",
        "  if valor > mayor:\n",
        "    # Si el valor es mayor se guarda la llave que identifica al valor actual\n",
        "    diseño = llave\n",
        "    # Si el valor es mayor actualizamos la variable auxiliar.\n",
        "    mayor = valor\n",
        "    # Si el valor es mayor calculamos el porcentaje de votos.\n",
        "    porcentaje = 100 * (valor / total_votos)\n",
        "\n",
        "# Imprimimos los resultados.\n",
        "print('Diseño ganador: {}' .format(diseño))\n",
        "print('Porcentaje votos: {:.2f}%' .format(porcentaje))"
      ],
      "metadata": {
        "colab": {
          "base_uri": "https://localhost:8080/"
        },
        "id": "dAgoCbl6_vrN",
        "outputId": "8bb83ce2-e52e-4e5d-8087-86df278d85c6"
      },
      "execution_count": null,
      "outputs": [
        {
          "output_type": "stream",
          "name": "stdout",
          "text": [
            "Diseño ganador: Diseño 5\n",
            "Porcentaje votos: 29.75%\n"
          ]
        }
      ]
    },
    {
      "cell_type": "code",
      "source": [
        "votos = {'Diseño 1' : 1334,\n",
        "         'Diseño 2' : 982,\n",
        "         'Diseño 3' : 1751,\n",
        "         'Diseño 4' : 210,\n",
        "         'Diseño 5' : 1811\n",
        "         }\n",
        "\n",
        "llaves = list(votos.keys())\n",
        "\n",
        "valores_ordenados = list(votos.values())\n",
        "valores_ordenados.sort()\n",
        "\n",
        "valores = list(votos.values())\n",
        "\n",
        "votos_diseño = valores_ordenados[-1]\n",
        "\n",
        "diseño = llaves[valores.index(votos_diseño)]\n",
        "\n",
        "total_votos = sum(votos.values())\n",
        "\n",
        "porcentaje = 100 * (votos_diseño / total_votos)\n",
        "\n",
        "print(f'Diseño ganador: {diseño}' )\n",
        "print('Porcentaje de votos: {:.2f}%' .format(porcentaje))"
      ],
      "metadata": {
        "colab": {
          "base_uri": "https://localhost:8080/"
        },
        "id": "WVFnI5jghuj5",
        "outputId": "5fc7f5d4-386b-4085-95cd-c459fd6dc2b9"
      },
      "execution_count": null,
      "outputs": [
        {
          "output_type": "stream",
          "name": "stdout",
          "text": [
            "Diseño ganador: Diseño 5\n",
            "Porcentaje de votos: 29.75%\n"
          ]
        }
      ]
    },
    {
      "cell_type": "code",
      "source": [
        "# Solucion Instructor\n",
        "# Diccionario de votos por diseño\n",
        "votos = {'Diseño 1': 1334, 'Diseño 2': 982, 'Diseño 3': 1751, 'Diseño 4': 210, 'Diseño 5': 1811}\n",
        "\n",
        "# Inicializamos las variables\n",
        "total_votos = 0  # Sumará todos los votos\n",
        "ganador = ''  # Almacenará el nombre del diseño ganador\n",
        "voto_ganador = 0  # Almacenará la cantidad ganadora de votos\n",
        "\n",
        "# Recorremos las claves y elementos del diccionario\n",
        "for diseño, voto_diseño in votos.items():\n",
        "    # Sumamos el total de votos\n",
        "    total_votos += voto_diseño\n",
        "    # Verificamos si el voto del diseño actual (voto_diseño) es mayor que el valor almacenado en voto_ganador\n",
        "    # Cada vez que voto_diseño supere el valor en voto_ganador,\n",
        "    # la variable voto_ganador será igual a voto_diseño, asignando un nuevo valor\n",
        "    # De manera similar, el ganador también se actualiza con el diseño actual\n",
        "    if voto_diseño > voto_ganador:\n",
        "        voto_ganador = voto_diseño\n",
        "        ganador = diseño\n",
        "# Calculamos el porcentaje del diseño ganador\n",
        "porcentaje = 100 * (voto_ganador) / (total_votos)\n",
        "\n",
        "# Resultado\n",
        "print(f'{ganador} es el ganador: ')\n",
        "print(f'Porcentaje de votos: {porcentaje}%')"
      ],
      "metadata": {
        "id": "zUxoDuW1eZ13"
      },
      "execution_count": null,
      "outputs": []
    },
    {
      "cell_type": "markdown",
      "source": [
        "13 - Los empleados de un departamento de tu empresa recibirán una bonificación del 10% de su salario debido a un excelente rendimiento del equipo. El departamento de finanzas ha solicitado tu ayuda para verificar las consecuencias financieras de esta bonificación en los recursos. Se te ha enviado una lista con los salarios que recibirán la bonificación: [1172, 1644, 2617, 5130, 5532, 6341, 6650, 7238, 7685, 7782, 7903]. La bonificación de cada empleado no puede ser inferior a 200. En el código, convierte cada uno de los salarios en claves de un diccionario y la bonificación de cada salario en el valor correspondiente. Luego, informa el gasto total en bonificaciones, cuántos empleados recibieron la bonificación mínima y cuál fue el valor más alto de la bonificación proporcionada."
      ],
      "metadata": {
        "id": "sVmFttQqpRi8"
      }
    },
    {
      "cell_type": "code",
      "source": [
        "# Inicializamos la lista con los datos de los salarios.\n",
        "salarios_bonificacion = [1172, 1644, 2617, 5130, 5532, 6341, 6650, 7238, 7685, 7782, 7903]\n",
        "\n",
        "# Asignamos el porcentaje de bonificacion a una variable.\n",
        "porcentaje = 0.1\n",
        "\n",
        "# Incializamos el diccionario que almacenarla las llaves valor de salario y bonificacion.\n",
        "bonificaciones = {}\n",
        "\n",
        "# Incializamos una variable para calcular el gasto total en bonificaciones.\n",
        "gasto_total = 0\n",
        "\n",
        "# Inicializamos una variable para contar los empleados con bonificacion minima.\n",
        "bono_minimo = 0\n",
        "\n",
        "# Incializmos una variable auxiliar para obtener la mayor bonificacion\n",
        "bono_mayor = 0\n",
        "\n",
        "# Recorremos la lista de salarios y calculamos la bonificacion correspondiente.\n",
        "for s in salarios_bonificacion:\n",
        "  # Calculamos la bonificacion multiplicando el salario por el porcentaje de bonificacion\n",
        "  bono = s * porcentaje\n",
        "  # Evalaumos si el bono es superior al minimo\n",
        "  if bono > 200:\n",
        "    # Si el valor es superior al minimo asignamos esa bonificacion\n",
        "    bonificacion = bono\n",
        "  else:\n",
        "    # Si el valor es inferior al minimo, se asigna como bonificacion 200\n",
        "    bonificacion = 200\n",
        "    # Si el valor de bono es inferior al minimo se incrementa el contador de empleados con bonificacion minima.\n",
        "    bono_minimo += 1\n",
        "  # Almacenamos en el diccionario para la llave correspondiente al salario su valor correspondiente a la bonificacion\n",
        "  bonificaciones[s] = bonificacion\n",
        "  # Se incrementa el valor del gasto de bonificaciones sumando la bonificacion asignada al salario actual\n",
        "  gasto_total += bonificaciones[s]\n",
        "\n",
        "print('### Resultado ###')\n",
        "# Recorremos el diccionario de bonificaciones para imprimr cada llave (salario) con su respectivo valor (bonificacion)\n",
        "for llave, valor in bonificaciones.items():\n",
        "  print('Salario: {} ---> Bonificacion: {:.2f}' .format(llave,valor))\n",
        "  # Evaluamos si el valor de bonificacion actuales mayor al mayor valor almacenado en la variable auxiliar.\n",
        "  if valor > bono_mayor:\n",
        "    bono_mayor = valor\n",
        "\n",
        "# Imprimimos los resultados del gasto total en bonificaciones, la cantidad de empleados con bonificacion minima y la bonificacion mayor\n",
        "print('\\nGasto total en bonificaciones: {:.2f}' .format(gasto_total))\n",
        "print('Empleados con bonificacion minima: {}' .format(bono_minimo))\n",
        "print('Bonificacion mas alta: {:.2f}' .format(bono_mayor))"
      ],
      "metadata": {
        "colab": {
          "base_uri": "https://localhost:8080/"
        },
        "id": "A-oVN_yQe-cg",
        "outputId": "f8273d7e-c65c-47d6-877c-50dcf58497d6"
      },
      "execution_count": null,
      "outputs": [
        {
          "output_type": "stream",
          "name": "stdout",
          "text": [
            "### Resultado ###\n",
            "Salario: 1172 ---> Bonificacion: 200.00\n",
            "Salario: 1644 ---> Bonificacion: 200.00\n",
            "Salario: 2617 ---> Bonificacion: 261.70\n",
            "Salario: 5130 ---> Bonificacion: 513.00\n",
            "Salario: 5532 ---> Bonificacion: 553.20\n",
            "Salario: 6341 ---> Bonificacion: 634.10\n",
            "Salario: 6650 ---> Bonificacion: 665.00\n",
            "Salario: 7238 ---> Bonificacion: 723.80\n",
            "Salario: 7685 ---> Bonificacion: 768.50\n",
            "Salario: 7782 ---> Bonificacion: 778.20\n",
            "Salario: 7903 ---> Bonificacion: 790.30\n",
            "\n",
            "Gasto total en bonificaciones: 6087.80\n",
            "Empleados con bonificacion minima: 2\n",
            "Bonificacion mas alta: 790.30\n"
          ]
        }
      ]
    },
    {
      "cell_type": "code",
      "source": [
        "salarios_bonificacion = [1172, 1644, 2617, 5130, 5532, 6341, 6650, 7238, 7685, 7782, 7903]\n",
        "porcentaje = 0.1\n",
        "bonificaciones = {}\n",
        "gasto_total = 0\n",
        "bono_minimo = 0\n",
        "\n",
        "for s in salarios_bonificacion:\n",
        "  if s * porcentaje > 200:\n",
        "    bonificacion = s * porcentaje\n",
        "  else:\n",
        "    bonificacion = 200\n",
        "    bono_minimo += 1\n",
        "  bonificaciones[s] = bonificacion\n",
        "  gasto_total += bonificaciones[s]\n",
        "\n",
        "bonos = list(bonificaciones.values())\n",
        "bonos.sort()\n",
        "bono_mayor = bonos[-1]\n",
        "\n",
        "print('### Resultado ###')\n",
        "\n",
        "for llave, valor in bonificaciones.items():\n",
        "  print('Salario: {} ---> Bonificacion: {:.2f}' .format(llave,valor))\n",
        "\n",
        "print('\\nGasto total en bonificaciones: {:.2f}' .format(gasto_total))\n",
        "print('Empleados con bonificacion minima: {}' .format(bono_minimo))\n",
        "print('Bonificacion mas alta: {:.2f}' .format(bono_mayor))"
      ],
      "metadata": {
        "colab": {
          "base_uri": "https://localhost:8080/"
        },
        "id": "y1fgUFoypWgo",
        "outputId": "612ae4ab-b894-4392-e916-0eb60ad0ee2d"
      },
      "execution_count": null,
      "outputs": [
        {
          "output_type": "stream",
          "name": "stdout",
          "text": [
            "### Resultado ###\n",
            "Salario: 1172 ---> Bonificacion: 200.00\n",
            "Salario: 1644 ---> Bonificacion: 200.00\n",
            "Salario: 2617 ---> Bonificacion: 261.70\n",
            "Salario: 5130 ---> Bonificacion: 513.00\n",
            "Salario: 5532 ---> Bonificacion: 553.20\n",
            "Salario: 6341 ---> Bonificacion: 634.10\n",
            "Salario: 6650 ---> Bonificacion: 665.00\n",
            "Salario: 7238 ---> Bonificacion: 723.80\n",
            "Salario: 7685 ---> Bonificacion: 768.50\n",
            "Salario: 7782 ---> Bonificacion: 778.20\n",
            "Salario: 7903 ---> Bonificacion: 790.30\n",
            "\n",
            "Gasto total en bonificaciones: 6087.80\n",
            "Empleados con bonificacion minima: 2\n",
            "Bonificacion mas alta: 790.30\n"
          ]
        }
      ]
    },
    {
      "cell_type": "code",
      "source": [
        "# Soucion instructor\n",
        "# Lista de salarios\n",
        "salarios = [1172, 1644, 2617, 5130, 5532, 6341, 6650, 7238, 7685, 7782, 7903]\n",
        "# Inicializamos las variables\n",
        "diccionario_abonos = {}  # Diccionario de abonos\n",
        "total_abono = 0  # Sumará todos los gastos en abonos\n",
        "abonos_minimo = 0  # Almacenará la cantidad de abonos mínimos\n",
        "mayor_abono = 0  # Almacenará el mayor valor de abono\n",
        "\n",
        "# Recorremos toda la lista de salarios\n",
        "for salario in salarios:\n",
        "    # Calculamos el valor teórico del abono\n",
        "    abono = salario * 0.1\n",
        "    # Si el abono es inferior a 200,\n",
        "    # ajustamos el valor del abono al mínimo (200)\n",
        "    if abono < 200:\n",
        "        abono = 200\n",
        "    # Agregamos un nuevo dato en el diccionario con la clave abono\n",
        "    diccionario_abonos[salario] = abono\n",
        "\n",
        "# Recorremos todos los valores del diccionario de abonos\n",
        "for abono in diccionario_abonos.values():\n",
        "    # Contamos los salarios mínimos\n",
        "    if abono == 200:\n",
        "        abonos_minimo += 1\n",
        "    # Verificamos si el abono leído es mayor que el valor almacenado en mayor_abono\n",
        "    # Cada vez que el abono supere el valor de mayor_abono,\n",
        "    # la variable mayor_abono será igual al abono, asignando un nuevo valor\n",
        "    if abono > mayor_abono:\n",
        "        mayor_abono = abono\n",
        "    # Sumamos los abonos\n",
        "    total_abono += abono\n",
        "# Resultados\n",
        "print(f'Abonos: {diccionario_abonos}')\n",
        "print(f'Total de gastos en abonos: {total_abono}')\n",
        "print(f'Número de empleados que recibieron el abono mínimo: {abonos_minimo}')\n",
        "print(f'Mayor valor de abono: {mayor_abono}')\n"
      ],
      "metadata": {
        "colab": {
          "base_uri": "https://localhost:8080/"
        },
        "id": "4SnXS3XIej-d",
        "outputId": "6304bf41-4cde-4830-bd73-491e6a9dfd36"
      },
      "execution_count": null,
      "outputs": [
        {
          "output_type": "stream",
          "name": "stdout",
          "text": [
            "Abonos: {1172: 200, 1644: 200, 2617: 261.7, 5130: 513.0, 5532: 553.2, 6341: 634.1, 6650: 665.0, 7238: 723.8000000000001, 7685: 768.5, 7782: 778.2, 7903: 790.3000000000001}\n",
            "Total de gastos en abonos: 6087.8\n",
            "Número de empleados que recibieron el abono mínimo: 2\n",
            "Mayor valor de abono: 790.3000000000001\n"
          ]
        }
      ]
    },
    {
      "cell_type": "markdown",
      "source": [
        "14 - Un equipo de científicos de datos está estudiando la diversidad biológica en un bosque. El equipo recopiló información sobre el número de especies de plantas y animales en cada área del bosque y almacenó estos datos en un diccionario. En él, la clave describe el área de los datos y los valores en las listas corresponden a las especies de plantas y animales en esas áreas, respectivamente.\n",
        "```\n",
        " {\n",
        "  'Área Norte': [2819, 7236],\n",
        "  'Área Este': [1440, 9492],\n",
        "  'Área Sur': [5969, 7496],\n",
        "  'Área Oeste': [14446, 49688],\n",
        "  'Área Centro': [22558, 45148\n",
        "  }\n",
        "```\n",
        "Escribe un código para calcular el promedio de especies por área e identificar el área con la mayor diversidad biológica. Sugerencia: utiliza las funciones incorporadas sum() y len()."
      ],
      "metadata": {
        "id": "NYIac-psu2UV"
      }
    },
    {
      "cell_type": "code",
      "source": [
        "# Incializamos el diccionario con los datos de numero de especies de plantas y animales por cada area del bosque.\n",
        "especies = {\n",
        "            'Área Norte': [2819, 7236],\n",
        "            'Área Este': [1440, 9492],\n",
        "            'Área Sur': [5969, 7496],\n",
        "            'Área Oeste': [14446, 49688],\n",
        "            'Área Centro': [22558, 45148]\n",
        "            }\n",
        "\n",
        "# Inicializamos una variable auxiliar para determinar el area con mayor diversidad biologica\n",
        "mayor = 0\n",
        "\n",
        "# Inicializmos una variable para calcular la media total\n",
        "total = 0\n",
        "\n",
        "# Recorremos los datos mediante un bucle\n",
        "for llave, valor in especies.items():\n",
        "  # Calculamos el total para el area mediante la suma de los valores asociados al area actual.\n",
        "  total_area = sum(valor)\n",
        "  # Calculamos la cantidad elementos correspondiente asociados al area actual\n",
        "  cantidad_area = len(valor)\n",
        "  # Caculamos la media correspondiente al area actual con el total de especies del area entre la cantidad de valores del area\n",
        "  media_area = total_area / cantidad_area\n",
        "  # Agregamos la media del area al total general.\n",
        "  total += media_area\n",
        "\n",
        "  # Imprimimos el area actual y valor de la media del area\n",
        "  print(f'{llave} --> promedio especies: {media_area}')\n",
        "  # Evaluamos si el total actual es el mayor en comparacion con el valor almacenado en la variable auxiliar.\n",
        "  if total_area > mayor:\n",
        "    # Si el valor es mayor, se signa el total del area a la variable auxiliar.\n",
        "    mayor = total_area\n",
        "    # Si el valor es mayor se guarda el area actual en una variable\n",
        "    mayor_diversidad = llave\n",
        "\n",
        "# Obtenemos la cantidad de elementos totales.\n",
        "areas = len(especies)\n",
        "# Calculamo la media total a partir del total acumulado de las medias de area entre el total elementos\n",
        "media = total / areas\n",
        "\n",
        "# Imprimimos la media general y el area con mayor diversidad.\n",
        "print('\\nPromedio de especies por area: {:.2f}' .format(media))\n",
        "print('Zona con mayor diversidad: {}' .format(mayor_diversidad))\n"
      ],
      "metadata": {
        "colab": {
          "base_uri": "https://localhost:8080/"
        },
        "id": "aIr1uv9Pu33F",
        "outputId": "095d89d7-f669-48fe-8215-08c7fa663497"
      },
      "execution_count": null,
      "outputs": [
        {
          "output_type": "stream",
          "name": "stdout",
          "text": [
            "Área Norte --> promedio especies: 5027.5\n",
            "Área Este --> promedio especies: 5466.0\n",
            "Área Sur --> promedio especies: 6732.5\n",
            "Área Oeste --> promedio especies: 32067.0\n",
            "Área Centro --> promedio especies: 33853.0\n",
            "\n",
            "Promedio de especies por area: 16629.20\n",
            "Zona con mayor diversidad: Área Centro\n"
          ]
        }
      ]
    },
    {
      "cell_type": "code",
      "source": [
        "# Solucion Instructor\n",
        "# Especificamos los datos para un diccionario\n",
        "datos = {'Área Norte': [2819, 7236],\n",
        "         'Área Este': [1440, 9492],\n",
        "         'Área Sur': [5969, 7496],\n",
        "         'Área Oeste': [14446, 49688],\n",
        "         'Área Centro': [22558, 45148]}\n",
        "# Inicializamos las variables\n",
        "suma_media = 0  # Sumará todos los promedios\n",
        "mayor_diversidad = ''  # Almacenará el área con la mayor diversidad\n",
        "mayor_suma = 0  # Almacenará la mayor suma de especies\n",
        "# Recorremos las claves y elementos del diccionario\n",
        "for área, especies in datos.items():\n",
        "    # Sumamos el número de especies en cada área utilizando la función sum\n",
        "    suma_especies = sum(especies)\n",
        "    # Calculamos el promedio dividiendo la suma de las especies entre la cantidad de especies\n",
        "    media = suma_especies / len(especies)\n",
        "    # Imprimimos\n",
        "    print(f'El {área} tiene un promedio de {media} especies')\n",
        "    # Verificamos si la suma de especies es mayor que el valor almacenado de mayor_suma\n",
        "    # Cada vez que suma_especies supere el valor de mayor_suma,\n",
        "    # la variable mayor_suma será igual a suma_especies, asignando un nuevo valor\n",
        "    # De manera similar, mayor_diversidad también se actualiza\n",
        "    if suma_especies > mayor_suma:\n",
        "        mayor_suma = suma_especies\n",
        "        mayor_diversidad = área\n",
        "    # Sumamos los promedios\n",
        "    suma_media += media\n",
        "# La media total será la suma_media dividida por la cantidad de áreas\n",
        "media_total = suma_media / len(datos)\n",
        "print(f'Media general de especies: {media_total}')\n",
        "print(f'Área con la mayor diversidad biológica: {mayor_diversidad}')\n"
      ],
      "metadata": {
        "colab": {
          "base_uri": "https://localhost:8080/"
        },
        "id": "C8eMAptIg1Gw",
        "outputId": "ff7739f5-2e14-4164-f986-b6efc88c51f3"
      },
      "execution_count": null,
      "outputs": [
        {
          "output_type": "stream",
          "name": "stdout",
          "text": [
            "El Área Norte tiene un promedio de 5027.5 especies\n",
            "El Área Este tiene un promedio de 5466.0 especies\n",
            "El Área Sur tiene un promedio de 6732.5 especies\n",
            "El Área Oeste tiene un promedio de 32067.0 especies\n",
            "El Área Centro tiene un promedio de 33853.0 especies\n",
            "Media general de especies: 16629.2\n",
            "Área con la mayor diversidad biológica: Área Centro\n"
          ]
        }
      ]
    },
    {
      "cell_type": "markdown",
      "source": [
        "15 - El departamento de Recursos Humanos de tu empresa te pidió ayuda para analizar las edades de los colaboradores de 4 sectores de la empresa. Para ello, te proporcionaron los siguientes datos:\n",
        "\n",
        "```\n",
        "  {\n",
        "  'Setor A': [22, 26, 30, 30, 35, 38, 40, 56, 57, 65],\n",
        "  'Setor B': [22, 24, 26, 33, 41, 49, 50, 54, 60, 64],\n",
        "  'Setor C': [23, 26, 26, 29, 34, 35, 36, 41, 52, 56],\n",
        "  'Setor D': [19, 20, 25, 27, 34, 39, 42, 44, 50, 65]\n",
        "  }\n",
        "```\n",
        "\n",
        "Dado que cada sector tiene 10 colaboradores, construye un código que calcule la media de edad de cada sector, la edad media general entre todos los sectores y cuántas personas están por encima de la edad media general."
      ],
      "metadata": {
        "id": "KXQ2FWyquWPF"
      }
    },
    {
      "cell_type": "code",
      "source": [
        "# Almacenamos los datos como un diccionario.\n",
        "edades = {\n",
        "          'Setor A': [22, 26, 30, 30, 35, 38, 40, 56, 57, 65],\n",
        "          'Setor B': [22, 24, 26, 33, 41, 49, 50, 54, 60, 64],\n",
        "          'Setor C': [23, 26, 26, 29, 34, 35, 36, 41, 52, 56],\n",
        "          'Setor D': [19, 20, 25, 27, 34, 39, 42, 44, 50, 65]\n",
        "          }\n",
        "\n",
        "# Definimos una variable para contar las personas con edad mayor a la media general\n",
        "mayor_media = 0\n",
        "# Definimos una variable para almacenar la suma total de edades para el calculo para la media general\n",
        "total_general = 0\n",
        "# Definimos una variable para almacenar la cantidad de colaboradores para calcular la media general\n",
        "colaboradores = 0\n",
        "\n",
        "# Recorremos los datos mediante un bucle que lee las llaves y valores de los elementos del diccionario.\n",
        "for llave, valor in edades.items():\n",
        "  # Calculamos la suma de edades del sector.\n",
        "  total_sector = sum(valor)\n",
        "  # Obtenemos la cantidad de colaboradores del sector.\n",
        "  colaboradores_sector = len(valor)\n",
        "  # Calculamos la media del sector a partir de la suma total de edades del sector y la cantidad de colaboradores del sector.\n",
        "  media_sector = total_sector / colaboradores_sector.\n",
        "  # Acumulamos el total de edades del sector al total de edades general.\n",
        "  total_general += total_sector\n",
        "  # Acumulamos el total del sector al total de colaboradores general.\n",
        "  colaboradores += colaboradores_sector\n",
        "  # Imprimimos el sector y la media correspondiente.\n",
        "  print('Sector: {} ---> Edad media: {:.2f}' .format(llave, media_sector))\n",
        "\n",
        "# Calculamos la media general a partir de suma de las edades de todos los sectors y el total de colaboradores de todos los sectores.\n",
        "media_general = total_general / colaboradores\n",
        "\n",
        "# Recorremos los datos para evaluar las edades.\n",
        "for llave, valor in edades.items():\n",
        "  # Recorremos los valores de edades para cada sector.\n",
        "  for e in valor:\n",
        "    # Evaluamos si el valor es mayor a la media general.\n",
        "    if e > media_general:\n",
        "      # Si el valor es mayor a la media general incrementaos el contador de personas con edad mayor a la media general.\n",
        "      mayor_media += 1\n",
        "\n",
        "# Imprmimos la media general y el total de personas con edad mayor a la media.\n",
        "print('Edad media general: {:.2f}' .format(media_general))\n",
        "print('Colaboradores con edad mayor a la media: {}' .format(mayor_media))"
      ],
      "metadata": {
        "colab": {
          "base_uri": "https://localhost:8080/"
        },
        "id": "5Z8r9uDm3_ik",
        "outputId": "e3504775-654e-4cf8-bfba-5c871c8492a1"
      },
      "execution_count": null,
      "outputs": [
        {
          "output_type": "stream",
          "name": "stdout",
          "text": [
            "Sector: Setor A ---> Edad media: 39.90\n",
            "Sector: Setor B ---> Edad media: 42.30\n",
            "Sector: Setor C ---> Edad media: 35.80\n",
            "Sector: Setor D ---> Edad media: 36.50\n",
            "Edad media general: 38.62\n",
            "Colaboradores con edad mayor a la media: 18\n"
          ]
        }
      ]
    },
    {
      "cell_type": "code",
      "source": [
        "# Solucion Instructor\n",
        "# Especificamos los datos para un diccionario\n",
        "datos = {'Sector A': [22, 26, 30, 30, 35, 38, 40, 56, 57, 65],\n",
        "        'Sector B': [22, 24, 26, 33, 41, 49, 50, 54, 60, 64],\n",
        "        'Sector C': [23, 26, 26, 29, 34, 35, 36, 41, 52, 56],\n",
        "        'Sector D': [19, 20, 25, 27, 34, 39, 42, 44, 50, 65]}\n",
        "# Inicializamos la variable que sumará todas las edades\n",
        "total_edades = 0\n",
        "# Recorremos las claves y elementos del diccionario\n",
        "for sector, edades in datos.items():\n",
        "  # Calculamos el promedio dividiendo la suma de las edades entre la cantidad de empleados en cada sector\n",
        "  media_edad = sum(edades) / len(edades)\n",
        "  # Imprimimos\n",
        "  print(f'El {sector} tiene un promedio de {media_edad}')\n",
        "  # Sumamos los promedios\n",
        "  total_edades += sum(edades)\n",
        "# La media total será el total_edades dividido por la cantidad de personas totales (sectores * empleados por sector)\n",
        "media_total = total_edades / (len(edades) * len(datos))\n",
        "print(f'La media de edad general es {media_total}')\n",
        "\n",
        "# Inicializamos la variable que contará a todas las personas con edades por encima de la media\n",
        "arriba_media = 0\n",
        "# Recorremos nuevamente las claves y elementos del diccionario\n",
        "for sector, edades in datos.items():\n",
        "  # Leemos los elementos (edades) dentro de cada lista de edades en el diccionario\n",
        "  for edad in edades:\n",
        "    # Verificamos si el valor de la edad es superior a la media total\n",
        "    if edad > media_total:\n",
        "      # En caso de que el valor de la edad sea superior a la media, incrementamos en uno el contador\n",
        "      arriba_media += 1\n",
        "# Resultado\n",
        "print(f'{arriba_media} personas están por encima de la edad media general')\n"
      ],
      "metadata": {
        "colab": {
          "base_uri": "https://localhost:8080/"
        },
        "id": "6NulUVulkSat",
        "outputId": "0b4e82e4-9198-4ba0-f38d-8f7af9ddfb68"
      },
      "execution_count": null,
      "outputs": [
        {
          "output_type": "stream",
          "name": "stdout",
          "text": [
            "El Sector A tiene un promedio de 39.9\n",
            "El Sector B tiene un promedio de 42.3\n",
            "El Sector C tiene un promedio de 35.8\n",
            "El Sector D tiene un promedio de 36.5\n",
            "La media de edad general es 38.625\n",
            "18 personas están por encima de la edad media general\n"
          ]
        }
      ]
    }
  ]
}