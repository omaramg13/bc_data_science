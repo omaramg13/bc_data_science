{
  "nbformat": 4,
  "nbformat_minor": 0,
  "metadata": {
    "colab": {
      "provenance": [],
      "authorship_tag": "ABX9TyMg73xZDPymyWb3jBeFj5iX",
      "include_colab_link": true
    },
    "kernelspec": {
      "name": "python3",
      "display_name": "Python 3"
    },
    "language_info": {
      "name": "python"
    }
  },
  "cells": [
    {
      "cell_type": "markdown",
      "metadata": {
        "id": "view-in-github",
        "colab_type": "text"
      },
      "source": [
        "<a href=\"https://colab.research.google.com/github/omaramg13/bc_data_science/blob/main/OAMG_Desafios_Clase_04_Estructuras_de_repeticion.ipynb\" target=\"_parent\"><img src=\"https://colab.research.google.com/assets/colab-badge.svg\" alt=\"Open In Colab\"/></a>"
      ]
    },
    {
      "cell_type": "markdown",
      "source": [
        "# Desafios\n",
        "\n",
        "Nombre: Omar Alejandro Morales Granados\n",
        "\n",
        "Practica de estructuras de repeticion\n",
        "\n",
        "`while`\n",
        "\n",
        "`for`\n",
        "\n",
        "**Entrenando la programación**\n",
        "\n",
        "1 - Escribe un programa que solicite dos números enteros e imprima todos los números enteros entre ellos.\n"
      ],
      "metadata": {
        "id": "ldhRHC9QVmfq"
      }
    },
    {
      "cell_type": "code",
      "execution_count": 3,
      "metadata": {
        "colab": {
          "base_uri": "https://localhost:8080/"
        },
        "id": "loxEi7OvVXOd",
        "outputId": "82caf09d-fdce-46b4-a851-fe9f01307f19"
      },
      "outputs": [
        {
          "output_type": "stream",
          "name": "stdout",
          "text": [
            "Ingrese el numero inicial del rango: 5\n",
            "Ingrese el numero final del rango: 15\n",
            "5\n",
            "6\n",
            "7\n",
            "8\n",
            "9\n",
            "10\n",
            "11\n",
            "12\n",
            "13\n",
            "14\n",
            "15\n"
          ]
        }
      ],
      "source": [
        "# Solucion 1 Omar Morales while\n",
        "a = int(input('Ingrese el numero inicial del rango: '))\n",
        "b = int(input('Ingrese el numero final del rango: '))\n",
        "\n",
        "contador = a;\n",
        "while contador <= b:\n",
        "  print(contador)\n",
        "  contador += 1"
      ]
    },
    {
      "cell_type": "code",
      "source": [
        "# Solucion 1.b Omar Morales while\n",
        "a = int(input('Ingrese el numero inicial del rango: '))\n",
        "b = int(input('Ingrese el numero final del rango: '))\n",
        "\n",
        "# Evaluamos si el primer numero es menor que el segundo numero\n",
        "if a < b:\n",
        "  # Se asigna el primer numero como inicio para el bucle\n",
        "  contador = a\n",
        "  # Se inicia el bucle a iniciando en el primer numero hasta llegar al segundo numero.\n",
        "  while contador <= b:\n",
        "    # Se imprime el numero entero en la posicion actual del rango, se incrementa el contador.\n",
        "    print(contador)\n",
        "    contador += 1\n",
        "# Evaluamos si el primer numero es mayor que el segundo\n",
        "elif a > b:\n",
        "  # Se asigna el segundo numero como inicio para el bucle\n",
        "  contador = b\n",
        "  # Se inicia el bucle a iniciando en el segundo numero hasta llegar al primer numero.\n",
        "  while contador <= a:\n",
        "    # Se imprime el numero entero en la posicion actual del rango, se incrementa el contador.\n",
        "    print(contador)\n",
        "    contador += 1\n",
        "# Si los numeros son iguales se imprime un mensaje.\n",
        "else:\n",
        "  print('Los numeros son iguales')"
      ],
      "metadata": {
        "colab": {
          "base_uri": "https://localhost:8080/"
        },
        "id": "pYdf7ovaHusF",
        "outputId": "9c41ff19-16b5-4524-8ba9-52aa31f359c8"
      },
      "execution_count": 42,
      "outputs": [
        {
          "output_type": "stream",
          "name": "stdout",
          "text": [
            "Ingrese el numero inicial del rango: 10\n",
            "Ingrese el numero final del rango: 5\n",
            "5\n",
            "6\n",
            "7\n",
            "8\n",
            "9\n",
            "10\n"
          ]
        }
      ]
    },
    {
      "cell_type": "code",
      "source": [
        "# Solucion 2 Omar Morales for\n",
        "a = int(input('Ingrese el numero inicial del rango: '))\n",
        "b = int(input('Ingrese el numero final del rango: '))\n",
        "\n",
        "for n in range(a,b+1):\n",
        "  print(n)"
      ],
      "metadata": {
        "colab": {
          "base_uri": "https://localhost:8080/"
        },
        "id": "9SVUwzM2WLmV",
        "outputId": "9be57c16-7b28-4f0f-b7e6-d5c2aac38b7c"
      },
      "execution_count": 4,
      "outputs": [
        {
          "output_type": "stream",
          "name": "stdout",
          "text": [
            "Ingrese el numero inicial del rango: 5\n",
            "Ingrese el numero final del rango: 15\n",
            "5\n",
            "6\n",
            "7\n",
            "8\n",
            "9\n",
            "10\n",
            "11\n",
            "12\n",
            "13\n",
            "14\n",
            "15\n"
          ]
        }
      ]
    },
    {
      "cell_type": "code",
      "source": [
        "# Solucion 2.b Omar Morales for\n",
        "a = int(input('Ingrese el numero inicial del rango: '))\n",
        "b = int(input('Ingrese el numero final del rango: '))\n",
        "\n",
        "# Evaluamos si el primer numero es menor que el segundo, el primer numero inicia el rango\n",
        "if a < b:\n",
        "  # El bucle inicia el en primer numero y finaliza en el segundo numero.\n",
        "  for n in range(a,b+1):\n",
        "    # Se imprime el numero entero en la posicion actual del rango.\n",
        "    print(n)\n",
        "# Evaluamos si el primer numero es menor que el segundo, el primer numero inicia el rango\n",
        "elif a > b:\n",
        "  # El bucle inicia el en segundo numero y finaliza en el primer numero.\n",
        "  for n in range(b,a+1):\n",
        "    # Se imprime el numero entero en la posicion actual del rango.\n",
        "    print(n)\n",
        "# Si los numeros son iguales se imprime un mensaje.\n",
        "else:\n",
        "  print('Los numeros son iguales')"
      ],
      "metadata": {
        "colab": {
          "base_uri": "https://localhost:8080/"
        },
        "id": "zelnpQjzJS1f",
        "outputId": "84d0642d-cb88-4e35-85fd-5a3285ed3a79"
      },
      "execution_count": 43,
      "outputs": [
        {
          "output_type": "stream",
          "name": "stdout",
          "text": [
            "Ingrese el numero inicial del rango: 10\n",
            "Ingrese el numero final del rango: 5\n",
            "5\n",
            "6\n",
            "7\n",
            "8\n",
            "9\n",
            "10\n"
          ]
        }
      ]
    },
    {
      "cell_type": "code",
      "source": [
        "# Solucion Instructor\n",
        "# Recolectamos los valores de inicio y fin\n",
        "inicio = int(input('Ingresa el primer número entero: '))\n",
        "fin = int(input('Ingresa el segundo número entero: '))\n",
        "\n",
        "# Verificamos si el valor de inicio es menor que el fin\n",
        "if inicio < fin:\n",
        "  # Podemos imprimir los enteros entre el valor menor y el valor mayor\n",
        "  for i in range(inicio + 1, fin):\n",
        "    print(i)\n",
        "elif inicio > fin:\n",
        "  for i in range(fin + 1, inicio):\n",
        "    print(i)\n",
        "else: # En caso de que los números sean iguales, no podemos imprimir ninguna secuencia.\n",
        "  print('Los números son iguales.')"
      ],
      "metadata": {
        "id": "VvIyAwEiHnNr"
      },
      "execution_count": null,
      "outputs": []
    },
    {
      "cell_type": "markdown",
      "source": [
        "2 - Escribe un programa para calcular cuántos días tomará que la colonia de una bacteria A supere o iguale a la colonia de una bacteria B, basado en tasas de crecimiento del 3% y 1.5%, respectivamente. Supón que la colonia A comienza con 4 elementos y B con 10."
      ],
      "metadata": {
        "id": "BvYyPUatXUwb"
      }
    },
    {
      "cell_type": "code",
      "source": [
        "# Solucion 1 Omar Morales while\n",
        "# Asignamos el valor inicial de cada colonia de bacterias\n",
        "inicio_a = 4\n",
        "inicio_b = 10\n",
        "# Variables para el control del crecimiento de la colonia, se inicializan con el valor inicial\n",
        "colonia_a = inicio_a\n",
        "colonia_b = inicio_b\n",
        "# Inicializamos el contador de dias en 1\n",
        "dias = 0\n",
        "# Guardamos el factor de crecimiento de cada colonia en una variable\n",
        "crecimiento_a = 0.03\n",
        "crecimiento_b = 0.015\n",
        "\n",
        "# Ejecutamos el bucle mientras la colonia A sea menor que la colonia B\n",
        "while colonia_a <= colonia_b:\n",
        "  # Incrementamos el contador de dias\n",
        "  dias += 1\n",
        "  # Calculamos el nuevo tamaño de cada colonia segun el factor de crecimiento\n",
        "  colonia_a = colonia_a + (colonia_a*crecimiento_a)\n",
        "  colonia_b = colonia_b + (colonia_b*crecimiento_b)\n",
        "\n",
        "# Imprimos la cantidad de dias que toma a la colonia A superar o igualar a la colonia B.\n",
        "print(f'Toma {dias} dias para que la colonia A que inicia con {inicio_a} elementos y tasa de crecimiento {crecimiento_a*100}% supere o iguale a la colonia B que inicia con {inicio_b} elementos y tasa de crecimiento {crecimiento_b*100}%' )"
      ],
      "metadata": {
        "colab": {
          "base_uri": "https://localhost:8080/"
        },
        "id": "GdXTUJItXWFI",
        "outputId": "03ba9ef1-f2da-4ce2-bece-f5c13c0afdef"
      },
      "execution_count": 45,
      "outputs": [
        {
          "output_type": "stream",
          "name": "stdout",
          "text": [
            "Toma 63 dias para que la colonia A que inicia con 4 elementos y tasa de crecimiento 3.0% supere o iguale a la colonia B que inicia con 10 elementos y tasa de crecimiento 1.5%\n"
          ]
        }
      ]
    },
    {
      "cell_type": "code",
      "source": [
        "# Solucion 1.b Omar Morales while\n",
        "# Asignamos el valor inicial de cada colonia de bacterias\n",
        "inicio_a = 4\n",
        "inicio_b = 10\n",
        "# Variables para el control del crecimiento de la colonia, se inicializan con el valor inicial\n",
        "colonia_a = inicio_a\n",
        "colonia_b = inicio_b\n",
        "# Inicializamos el contador de dias en 1\n",
        "dias = 0\n",
        "# Guardamos el factor de crecimiento de cada colonia en una variable\n",
        "crecimiento_a = 0.03\n",
        "crecimiento_b = 0.015\n",
        "\n",
        "# Ejecutamos el bucle mientras la colonia A sea menor que la colonia B\n",
        "while colonia_a <= colonia_b:\n",
        "  # Calculamos el nuevo tamaño de cada colonia segun el factor de crecimiento\n",
        "  colonia_a *= 1 + crecimiento_a\n",
        "  colonia_b *= 1 + crecimiento_b\n",
        "  # Incrementamos el contador de dias\n",
        "  dias += 1\n",
        "\n",
        "# Imprimos la cantidad de dias que toma a la colonia A superar o igualar a la colonia B.\n",
        "print(f'Toma {dias} dias para que la colonia A que inicia con {inicio_a} elementos y tasa de crecimiento {crecimiento_a*100}% supere o iguale a la colonia B que inicia con {inicio_b} elementos y tasa de crecimiento {crecimiento_b*100}%' )"
      ],
      "metadata": {
        "id": "--ky1BdXLLH6"
      },
      "execution_count": null,
      "outputs": []
    },
    {
      "cell_type": "code",
      "source": [
        "# Solucion 2 Omar Morales for\n",
        "# Asignamos el valor inicial de cada colonia de bacterias\n",
        "inicio_a = 4\n",
        "inicio_b = 10\n",
        "# Variables para el control del crecimiento de la colonia, se inicializan con el valor inicial\n",
        "colonia_a = inicio_a\n",
        "colonia_b = inicio_b\n",
        "# Guardamos el factor de crecimiento de cada colonia en una variable\n",
        "crecimiento_a = 0.03\n",
        "crecimiento_b = 0.015\n",
        "\n",
        "# Al utilizar for se especifica un rango, en este caso especifico un rango entre 1 y 365 dias\n",
        "for n in range(0,365,1):\n",
        "  # Evaluamos si la colonia A es mayor o igual que la colonia B\n",
        "  if colonia_a >= colonia_b:\n",
        "    # Imprimos la cantidad de dias que toma a la colonia A superar o igualar a la colonia B.\n",
        "    print(f'Toma {n} dias para que la colonia A que inicia con {inicio_a} elementos y tasa de crecimiento {crecimiento_a*100}% supere o iguale a la colonia B que inicia con {inicio_b} elementos y tasa de crecimiento {crecimiento_b*100}%' )\n",
        "    # Se sale del ciclo una vez alcanzada la condicion\n",
        "    break\n",
        "  else:\n",
        "    # Se calcula el crecimiento de la colonia y se pasa a la siguiente iteracion del rango.\n",
        "    colonia_a = colonia_a + (colonia_a*crecimiento_a)\n",
        "    colonia_b = colonia_b + (colonia_b*crecimiento_b)\n"
      ],
      "metadata": {
        "colab": {
          "base_uri": "https://localhost:8080/"
        },
        "id": "ndtQKE0xbJgp",
        "outputId": "fb74b131-249d-48b7-a751-499dbcdb39b4"
      },
      "execution_count": 46,
      "outputs": [
        {
          "output_type": "stream",
          "name": "stdout",
          "text": [
            "Toma 63 dias para que la colonia A que inicia con 4 elementos y tasa de crecimiento 3.0% supere o iguale a la colonia B que inicia con 10 elementos y tasa de crecimiento 1.5%\n"
          ]
        }
      ]
    },
    {
      "cell_type": "code",
      "source": [
        "# Solucion 2.b Omar Morales for\n",
        "# Asignamos el valor inicial de cada colonia de bacterias\n",
        "inicio_a = 4\n",
        "inicio_b = 10\n",
        "# Variables para el control del crecimiento de la colonia, se inicializan con el valor inicial\n",
        "colonia_a = inicio_a\n",
        "colonia_b = inicio_b\n",
        "# Guardamos el factor de crecimiento de cada colonia en una variable\n",
        "crecimiento_a = 0.03\n",
        "crecimiento_b = 0.015\n",
        "\n",
        "# Al utilizar for se especifica un rango, en este caso especifico un rango entre 1 y 365 dias\n",
        "for n in range(0,365,1):\n",
        "  # Evaluamos si la colonia A es mayor o igual que la colonia B\n",
        "  if colonia_a >= colonia_b:\n",
        "    # Imprimos la cantidad de dias que toma a la colonia A superar o igualar a la colonia B.\n",
        "    print(f'Toma {n} dias para que la colonia A que inicia con {inicio_a} elementos y tasa de crecimiento {crecimiento_a*100}% supere o iguale a la colonia B que inicia con {inicio_b} elementos y tasa de crecimiento {crecimiento_b*100}%' )\n",
        "    # Se sale del ciclo una vez alcanzada la condicion\n",
        "    break\n",
        "  else:\n",
        "    # Se calcula el crecimiento de la colonia y se pasa a la siguiente iteracion del rango.\n",
        "    colonia_a *= 1 + crecimiento_a\n",
        "    colonia_b *= 1 + crecimiento_b\n"
      ],
      "metadata": {
        "colab": {
          "base_uri": "https://localhost:8080/"
        },
        "id": "Q9SGDMLdLo8D",
        "outputId": "c882bd19-d1bf-4cb3-9370-d3f70d58eca8"
      },
      "execution_count": 47,
      "outputs": [
        {
          "output_type": "stream",
          "name": "stdout",
          "text": [
            "Toma 63 dias para que la colonia A que inicia con 4 elementos y tasa de crecimiento 3.0% supere o iguale a la colonia B que inicia con 10 elementos y tasa de crecimiento 1.5%\n"
          ]
        }
      ]
    },
    {
      "cell_type": "code",
      "source": [
        "# Número inicial de bacterias\n",
        "colonia_a = 4\n",
        "colonia_b = 10\n",
        "\n",
        "# Tasas de crecimiento de las colonias\n",
        "tasa_a = 0.03\n",
        "tasa_b = 0.015\n",
        "\n",
        "# Contador de días\n",
        "días = 0\n",
        "\n",
        "# La condición que termina el bucle es cuando\n",
        "# la colonia A supera a la colonia B\n",
        "while colonia_a <= colonia_b:\n",
        "  # Usamos un operador de asignación con multiplicación\n",
        "  colonia_a *= 1 + tasa_a\n",
        "  colonia_b *= 1 + tasa_b\n",
        "  # Contamos los días en cada iteración\n",
        "  días += 1\n",
        "\n",
        "# Resultado final\n",
        "print(f'Necesitará {días} días para que la colonia A supere a la colonia B.')"
      ],
      "metadata": {
        "colab": {
          "base_uri": "https://localhost:8080/"
        },
        "id": "sGBdDFdDL4E0",
        "outputId": "c45e46b9-ab2a-4dce-81d1-792ac5e43910"
      },
      "execution_count": 48,
      "outputs": [
        {
          "output_type": "stream",
          "name": "stdout",
          "text": [
            "Necesitará 63 días para que la colonia A supere a la colonia B.\n"
          ]
        }
      ]
    },
    {
      "cell_type": "markdown",
      "source": [
        "3 - Para procesar una cantidad de 15 datos de evaluaciones de usuarios de un servicio de la empresa, necesitamos verificar si las calificaciones son válidas. Por lo tanto, escribe un programa que recibirá calificaciones del 0 al 5 y verificará si son valores válidos. Si se ingresa una calificación superior a 5 o inferior a 0, se repetirá hasta que el usuario ingrese un valor válido."
      ],
      "metadata": {
        "id": "ABSiiWy7eKkr"
      }
    },
    {
      "cell_type": "code",
      "source": [
        "# Solucion 1 Omar Morales for + while\n",
        "# Bucle for para obtener las 15 evaluaciones\n",
        "for n in range(1,16):\n",
        "  evaluacion = float(input(f'Ingrese su evaluacion de servcio {n}, coloque un valor entre 0 y 5: '))\n",
        "  # Bucle while que verifica si el valor ingresado no es valido, si el valor es invalido se solicita nuevamente.\n",
        "  while evaluacion < 0 or evaluacion > 5:\n",
        "    evaluacion = float(input(f'Ingrese un valor valido para la evaluacion del servcio {n} , coloque un valor entre 0 y 5: '))\n",
        "print('Proceso finalizado, todas las calificaciones son válidas')"
      ],
      "metadata": {
        "colab": {
          "base_uri": "https://localhost:8080/"
        },
        "id": "6mCwMfIFeVjQ",
        "outputId": "23e21e4e-3a38-4c73-b735-5b55c73b4076"
      },
      "execution_count": 51,
      "outputs": [
        {
          "output_type": "stream",
          "name": "stdout",
          "text": [
            "Ingrese su evaluacion de servcio 1, coloque un valor entre 0 y 5: 1\n",
            "Ingrese su evaluacion de servcio 2, coloque un valor entre 0 y 5: 2\n",
            "Ingrese su evaluacion de servcio 3, coloque un valor entre 0 y 5: 3\n",
            "Ingrese su evaluacion de servcio 4, coloque un valor entre 0 y 5: 4\n",
            "Ingrese su evaluacion de servcio 5, coloque un valor entre 0 y 5: 5\n",
            "Ingrese su evaluacion de servcio 6, coloque un valor entre 0 y 5: 0\n",
            "Ingrese su evaluacion de servcio 7, coloque un valor entre 0 y 5: 1\n",
            "Ingrese su evaluacion de servcio 8, coloque un valor entre 0 y 5: 2\n",
            "Ingrese su evaluacion de servcio 9, coloque un valor entre 0 y 5: 3\n",
            "Ingrese su evaluacion de servcio 10, coloque un valor entre 0 y 5: 4\n",
            "Ingrese su evaluacion de servcio 11, coloque un valor entre 0 y 5: 5\n",
            "Ingrese su evaluacion de servcio 12, coloque un valor entre 0 y 5: 0\n",
            "Ingrese su evaluacion de servcio 13, coloque un valor entre 0 y 5: 1\n",
            "Ingrese su evaluacion de servcio 14, coloque un valor entre 0 y 5: 2\n",
            "Ingrese su evaluacion de servcio 15, coloque un valor entre 0 y 5: 3\n",
            "Proceso finalizado, todas las calificaciones son válidas\n"
          ]
        }
      ]
    },
    {
      "cell_type": "code",
      "source": [
        "# Solucion 2 Omar Morales while + while\n",
        "# Inicializamos el contador de iteraciones con valor 1.\n",
        "contador = 1\n",
        "\n",
        "# Bucle while para obtener las 15 evaluaciones\n",
        "while contador <= 15:\n",
        "  evaluacion = float(input(f'Ingrese su evaluacion de servcio {contador}, coloque un valor entre 0 y 5: '))\n",
        "  # Bucle while que verifica si el valor ingresado no es valido, si el valor es invalido se solicita nuevamente.\n",
        "  while evaluacion < 0 or evaluacion > 5:\n",
        "    evaluacion = float(input(f'Ingrese un valor valido para la evaluacion del servcio {contador} , coloque un valor entre 0 y 5: '))\n",
        "  contador += 1\n",
        "print('Proceso finalizado, todas las calificaciones son válidas')"
      ],
      "metadata": {
        "colab": {
          "base_uri": "https://localhost:8080/"
        },
        "id": "kn5X4GtigoST",
        "outputId": "f44dcbc6-7e65-41ec-d6b9-9ac6b06d38cd"
      },
      "execution_count": 52,
      "outputs": [
        {
          "output_type": "stream",
          "name": "stdout",
          "text": [
            "Ingrese su evaluacion de servcio 1, coloque un valor entre 0 y 5: 1\n",
            "Ingrese su evaluacion de servcio 2, coloque un valor entre 0 y 5: 2\n",
            "Ingrese su evaluacion de servcio 3, coloque un valor entre 0 y 5: 3\n",
            "Ingrese su evaluacion de servcio 4, coloque un valor entre 0 y 5: 4\n",
            "Ingrese su evaluacion de servcio 5, coloque un valor entre 0 y 5: 5\n",
            "Ingrese su evaluacion de servcio 6, coloque un valor entre 0 y 5: 0\n",
            "Ingrese su evaluacion de servcio 7, coloque un valor entre 0 y 5: 5\n",
            "Ingrese su evaluacion de servcio 8, coloque un valor entre 0 y 5: 4\n",
            "Ingrese su evaluacion de servcio 9, coloque un valor entre 0 y 5: 3\n",
            "Ingrese su evaluacion de servcio 10, coloque un valor entre 0 y 5: 2\n",
            "Ingrese su evaluacion de servcio 11, coloque un valor entre 0 y 5: 1\n",
            "Ingrese su evaluacion de servcio 12, coloque un valor entre 0 y 5: 1\n",
            "Ingrese su evaluacion de servcio 13, coloque un valor entre 0 y 5: 2\n",
            "Ingrese su evaluacion de servcio 14, coloque un valor entre 0 y 5: 3\n",
            "Ingrese su evaluacion de servcio 15, coloque un valor entre 0 y 5: 4\n",
            "Proceso finalizado, todas las calificaciones son válidas\n"
          ]
        }
      ]
    },
    {
      "cell_type": "code",
      "source": [
        "# Solucion Instructor\n",
        "# Bucle para recopilar las 15 notas\n",
        "for i in range(15):\n",
        "  nota = float(input(f'Ingresa la nota del usuario {i}: ')\n",
        "\n",
        "  # Verifica si la nota está entre 0 y 5\n",
        "  # Si no lo está, el bucle se repetirá hasta que se obtenga un valor válido\n",
        "  while (nota < 0) or (nota > 5):\n",
        "    nota = float(input(f'Nota no válida, ingresa nuevamente la nota del usuario {i}: '))\n",
        "\n",
        "print('Verificación completa. Todas las notas son válidas.')"
      ],
      "metadata": {
        "id": "tLDEeuD2MMrr"
      },
      "execution_count": null,
      "outputs": []
    },
    {
      "cell_type": "markdown",
      "source": [
        "4 - Desarrolla un programa que lea un conjunto indefinido de temperaturas en grados Celsius y calcule su promedio. La lectura debe detenerse al ingresar el valor -273°C."
      ],
      "metadata": {
        "id": "oRO-2m7KeUYd"
      }
    },
    {
      "cell_type": "code",
      "source": [
        "# Solucion Omar Morales\n",
        "# Incializamos la temperatura en cero\n",
        "\n",
        "contador = 0\n",
        "suma = 0\n",
        "\n",
        "temperatura = float(input('Ingrese la temperatura en grados Celcius: '))\n",
        "\n",
        "# El ciclo evalua el si el valor de la temperatura no es -273 grados Celcuis,\n",
        "# mientras la condicion sea verdarera se solicita que ingrese el valor de la temperatura\n",
        "while temperatura != -273:\n",
        "  contador += 1\n",
        "  suma += temperatura\n",
        "  temperatura = float(input('Ingrese la temperatura en grados Celcius: '))\n",
        "\n",
        "promedio = suma / contador\n",
        "print('La temperatura promedio es de {} grados Celcios' .format(promedio))"
      ],
      "metadata": {
        "colab": {
          "base_uri": "https://localhost:8080/"
        },
        "id": "TeA5bh9NiNUW",
        "outputId": "2cc3404a-5b32-4da4-bed1-424354f9fafc"
      },
      "execution_count": 58,
      "outputs": [
        {
          "output_type": "stream",
          "name": "stdout",
          "text": [
            "Ingrese la temperatura en grados Celcius: 35\n",
            "Ingrese la temperatura en grados Celcius: 36\n",
            "Ingrese la temperatura en grados Celcius: 37\n",
            "Ingrese la temperatura en grados Celcius: -273\n",
            "La temperatura promedio es de 36.0 grados Celcios\n"
          ]
        }
      ]
    },
    {
      "cell_type": "code",
      "source": [
        "# Solucion Instructor\n",
        "# Recopilamos la temperatura\n",
        "temperatura = float(input('Ingresa la temperatura en grados Celsius: '))\n",
        "\n",
        "# Inicializamos un contador y una suma para calcular el promedio\n",
        "contador = 0\n",
        "suma = 0\n",
        "\n",
        "# Nuestro código se ejecuta hasta que el valor de temperatura sea igual a -273\n",
        "while temperatura != -273:\n",
        "    # La suma se actualiza sumando la temperatura a la variable suma\n",
        "    suma += temperatura\n",
        "    # Contamos la cantidad de valores recopilados con el contador\n",
        "    contador += 1\n",
        "    # Recopilamos nuevamente la temperatura\n",
        "    temperatura = float(input('Ingresa la temperatura en grados Celsius: '))\n",
        "\n",
        "promedio = suma / contador\n",
        "\n",
        "print(f'El promedio de las temperaturas es: {promedio}')"
      ],
      "metadata": {
        "id": "24r2si6EQH4T"
      },
      "execution_count": null,
      "outputs": []
    },
    {
      "cell_type": "markdown",
      "source": [
        "5 - Escribe un programa que calcule el factorial de un número entero proporcionado por el usuario. Recuerda que el factorial de un número entero es el producto de ese número por todos sus antecesores hasta llegar al número 1. Por ejemplo, el factorial de 5 es 5 x 4 x 3 x 2 x 1 = 120."
      ],
      "metadata": {
        "id": "ZUdhra0QiCn-"
      }
    },
    {
      "cell_type": "code",
      "source": [
        "# Solucion 1 Omar Morales while\n",
        "# Se solicita el valor del numero y se almacena en una variable\n",
        "numero = int(input('Ingrese un numero entero: '))\n",
        "# Variable auxiliar para calcular el factorial\n",
        "n = numero\n",
        "# Se incializa el valor del factorial: Si numero =  1, el factorial = numero.\n",
        "factorial = n\n",
        "\n",
        "# Se ejecuta el bucle mientras el valor de n sea mayor a 1\n",
        "while n > 1:\n",
        "  # Se calcula el valor del factorial multiplicando por el inicial del factorial (valor incial de n o numero) valor del antecesor del numero\n",
        "  # (n - 1)\n",
        "  factorial *= n-1\n",
        "  # Se reduce el contador para pasar al siguiente antecesor y repetir el calculo.\n",
        "  n -= 1\n",
        "\n",
        "print(f'El factorial de {numero} es {factorial}')"
      ],
      "metadata": {
        "colab": {
          "base_uri": "https://localhost:8080/"
        },
        "id": "2sRzVBjCjUXP",
        "outputId": "8c4fb7ae-4148-466e-c30b-1773ef3a69c0"
      },
      "execution_count": 29,
      "outputs": [
        {
          "output_type": "stream",
          "name": "stdout",
          "text": [
            "Ingrese un numero entero: 10\n",
            "El factorial de 10 es 3628800\n"
          ]
        }
      ]
    },
    {
      "cell_type": "code",
      "source": [
        "# Solucion 2 Omar Morales for\n",
        "numero = int(input('Ingrese un numero entero: '))\n",
        "factorial = numero\n",
        "\n",
        "# Se ejecuta el bucle mientras el valor de n sea mayor a 1\n",
        "# El rango inicia con el valor del numero y termina en 1 (no inclusivo)\n",
        "# El rango se recorre en pasos negativos (decrementa en 1)\n",
        "for n in range (numero,1,-1):\n",
        "  # El calculo del factorial multiplica el numero por su antecesor en cada interacion hasta llegar a 1.\n",
        "  factorial *= n-1\n",
        "\n",
        "print(f'El factorial de {numero} es {factorial}')"
      ],
      "metadata": {
        "colab": {
          "base_uri": "https://localhost:8080/"
        },
        "id": "ENBoKNTalXyb",
        "outputId": "c5308af1-b67c-47f9-bfb3-c62a0265bca6"
      },
      "execution_count": 30,
      "outputs": [
        {
          "output_type": "stream",
          "name": "stdout",
          "text": [
            "Ingrese un numero entero: 10\n",
            "El factorial de 10 es 3628800\n"
          ]
        }
      ]
    },
    {
      "cell_type": "markdown",
      "source": [
        "**Momento de los proyectos**\n",
        "\n",
        "6 - Escribe un programa que genere la tabla de multiplicar de un número entero del 1 al 10, según la elección del usuario. Como ejemplo, para el número 2, la tabla de multiplicar debe mostrarse en el siguiente formato:\n",
        "```\n",
        "Tabla de multiplicar del 2:\n",
        "2 x 1 = 2\n",
        "2 x 2 = 4\n",
        "[...]\n",
        "2 x 10 = 20\n",
        "```"
      ],
      "metadata": {
        "id": "mhpsv2GQl612"
      }
    },
    {
      "cell_type": "code",
      "source": [
        "# Solucion 1 Omar Morales while\n",
        "# Obtenemos el numero y lo asignamos a una variable\n",
        "numero = int(input('Ingrese un numero entero: '))\n",
        "# Inicializamos el contador para el bucle while en 1.\n",
        "contador = 1\n",
        "\n",
        "# Imprimimos el mensaje de la tabla a multiplicar a generar\n",
        "print(f'Tabla de multiplicar del numero {numero}:')\n",
        "\n",
        "# Utilizamos el bucle para generar la tabla de multiplicar del numero iniciando en 1 hasta llegar a 10.\n",
        "while contador <= 10:\n",
        "  # Imprimimos la operacion y el resultado:\n",
        "  print(f'{numero} x {contador} = {numero*contador}')\n",
        "  # Incrementaos el contador para realizar la siguiente iteracion\n",
        "  contador += 1"
      ],
      "metadata": {
        "colab": {
          "base_uri": "https://localhost:8080/"
        },
        "id": "7luy7dBMmK3d",
        "outputId": "2cf12406-f19f-421d-d8fb-ab23ef391178"
      },
      "execution_count": 32,
      "outputs": [
        {
          "output_type": "stream",
          "name": "stdout",
          "text": [
            "Ingrese un numero entero: 5\n",
            "Tabla de multiplicar del numero 5:\n",
            "5 x 1 = 5\n",
            "5 x 2 = 10\n",
            "5 x 3 = 15\n",
            "5 x 4 = 20\n",
            "5 x 5 = 25\n",
            "5 x 6 = 30\n",
            "5 x 7 = 35\n",
            "5 x 8 = 40\n",
            "5 x 9 = 45\n",
            "5 x 10 = 50\n"
          ]
        }
      ]
    },
    {
      "cell_type": "code",
      "source": [
        "# Solucion 2 Omar Morales for\n",
        "# Obtenemos el numero y lo asignamos a una variable\n",
        "numero = int(input('Ingrese un numero entero: '))\n",
        "\n",
        "# Imprimimos el mensaje de la tabla a multiplicar a generar\n",
        "print(f'Tabla de multiplicar del numero {numero}:')\n",
        "\n",
        "# Utilizamos el bucle para generar la tabla de multiplicar del numero iniciando en 1 hasta llegar a 10.\n",
        "for n in range(1,11):\n",
        "  # Imprimimos la operacion y el resultado:\n",
        "  print(f'{numero} x {n} = {numero*n}')"
      ],
      "metadata": {
        "colab": {
          "base_uri": "https://localhost:8080/"
        },
        "id": "Y-SSSsyMmKyN",
        "outputId": "3757c535-e919-4c09-d113-ac653de21837"
      },
      "execution_count": 34,
      "outputs": [
        {
          "output_type": "stream",
          "name": "stdout",
          "text": [
            "Ingrese un numero entero: 5\n",
            "Tabla de multiplicar del numero 5:\n",
            "5 x 1 = 5\n",
            "5 x 2 = 10\n",
            "5 x 3 = 15\n",
            "5 x 4 = 20\n",
            "5 x 5 = 25\n",
            "5 x 6 = 30\n",
            "5 x 7 = 35\n",
            "5 x 8 = 40\n",
            "5 x 9 = 45\n",
            "5 x 10 = 50\n"
          ]
        }
      ]
    },
    {
      "cell_type": "markdown",
      "source": [
        "7 - Los números primos tienen diversas aplicaciones en Ciencia de Datos, como en criptografía y seguridad. Un número primo es aquel que es divisible solo por sí mismo y por 1. Por lo tanto, crea un programa que solicite un número entero y determine si es un número primo o no."
      ],
      "metadata": {
        "id": "jygKt_kFqStC"
      }
    },
    {
      "cell_type": "code",
      "source": [
        "# Solucion 1 Omar Morales while\n",
        "# Obtenemos el numero a evaluar\n",
        "numero = int(input('Ingrese un numero: '))\n",
        "# Incializamos el contador\n",
        "contador = 1\n",
        "# inicializamos variable para contar cuantos numeros pueden dividir al numero a evaluar\n",
        "divisor = 0\n",
        "# incializamos una variable de tipo boolean para indicar si el numero es primo (True) o no (False)\n",
        "primo = True\n",
        "\n",
        "# Ejecutamos el ciclo iniciando en 1 hasta el numero ingresado\n",
        "while contador <= numero:\n",
        "  # Evaluamos si el numero ingresado se puede dividir por el contador actual\n",
        "  if numero % contador == 0:\n",
        "    # Si se puede dividir incrementamos el contador de divisores.\n",
        "    divisor += 1\n",
        "    # Si el contador es mayor o igual a 3 el numero ya no es un numero primo\n",
        "    if divisor >= 3:\n",
        "      # Se cambia la variable de tipo boolean a Falso.\n",
        "      primo = False\n",
        "      # Se finaliza el bucle, ya no es necesario probar los divisores hasta alcanzar el numero.\n",
        "      break\n",
        "  # Incrementamos el contador para la siguiente iteracion del ciclo.\n",
        "  contador += 1\n",
        "\n",
        "# Evaluamos el valor del boolean para indicar si el numero es primo (True) o no (False)\n",
        "if primo:\n",
        "  print(f'El numero {numero} es primo')\n",
        "else:\n",
        "  print(f'El numero {numero} no es primo')\n"
      ],
      "metadata": {
        "colab": {
          "base_uri": "https://localhost:8080/"
        },
        "id": "s6k3FztfqSG9",
        "outputId": "fbe0b674-f834-4fa9-9b42-1988542f6d62"
      },
      "execution_count": 20,
      "outputs": [
        {
          "output_type": "stream",
          "name": "stdout",
          "text": [
            "Ingrese un numero: 114\n",
            "El numero 114 no es primo\n"
          ]
        }
      ]
    },
    {
      "cell_type": "code",
      "source": [
        "# Solucion 1b Omar Morales while\n",
        "# Obtenemos el numero a evaluar\n",
        "numero = int(input('Ingrese un numero: '))\n",
        "# Incializamos el contador\n",
        "contador = 2\n",
        "# incializamos una variable de tipo boolean para indicar si el numero es primo (True) o no (False)\n",
        "primo = True\n",
        "\n",
        "if numero > 1:\n",
        "  # Ejecutamos el ciclo iniciando en 1 hasta el numero ingresado\n",
        "  while contador < numero:\n",
        "    # Evaluamos si el numero ingresado se puede dividir por otro numero distinto de 1 y el numero mismo\n",
        "    if numero % contador == 0:\n",
        "      primo = False\n",
        "      # Se finaliza el bucle, ya no es necesario probar los divisores hasta alcanzar el numero.\n",
        "      break\n",
        "    # Incrementamos el contador para la siguiente iteracion del ciclo.\n",
        "    contador += 1\n",
        "else:\n",
        "  primo = False\n",
        "\n",
        "# Evaluamos el valor del boolean para indicar si el numero es primo (True) o no (False)\n",
        "if primo:\n",
        "  print(f'El numero {numero} es primo')\n",
        "else:\n",
        "  print(f'El numero {numero} no es primo')"
      ],
      "metadata": {
        "colab": {
          "base_uri": "https://localhost:8080/"
        },
        "id": "82heUmkyUkkR",
        "outputId": "3a78f3f0-91f4-4be0-c714-ba94ca4d9304"
      },
      "execution_count": 75,
      "outputs": [
        {
          "output_type": "stream",
          "name": "stdout",
          "text": [
            "Ingrese un numero: 1\n",
            "El numero 1 no es primo\n"
          ]
        }
      ]
    },
    {
      "cell_type": "code",
      "source": [
        "# Solucion 2 Omar Morales for\n",
        "# Obtenemos el numero a evaluar\n",
        "numero = int(input('Ingrese un numero: '))\n",
        "# inicializamos variable para contar cuantos numeros pueden dividir al numero a evaluar\n",
        "divisor = 0\n",
        "# incializamos una variable de tipo boolean para indicar si el numero es primo (True) o no (False)\n",
        "primo = True\n",
        "\n",
        "# Ejecutamos el ciclo iniciando en 1 hasta el numero ingresado\n",
        "for n in range(1,numero):\n",
        "# Evaluamos si el numero ingresado se puede dividir por el contador actual\n",
        "  if numero % contador == 0:\n",
        "    # Si se puede dividir incrementamos el contador de divisores.\n",
        "    divisor += 1\n",
        "    # Si el contador es mayor o igual a 3 el numero ya no es un numero primo\n",
        "    if divisor >= 3:\n",
        "      # Se cambia la variable de tipo boolean a Falso.\n",
        "      primo = False\n",
        "      # Se finaliza el bucle, ya no es necesario probar los divisores hasta alcanzar el numero.\n",
        "      break\n",
        "\n",
        "# Evaluamos el valor del boolean para indicar si el numero es primo (True) o no (False)\n",
        "if primo:\n",
        "  print(f'El numero {numero} es primo')\n",
        "else:\n",
        "  print(f'El numero {numero} no es primo')"
      ],
      "metadata": {
        "colab": {
          "base_uri": "https://localhost:8080/"
        },
        "id": "epCcqCkb5dVt",
        "outputId": "28e861d8-d4ab-410b-f14d-25f82b48dcde"
      },
      "execution_count": 64,
      "outputs": [
        {
          "output_type": "stream",
          "name": "stdout",
          "text": [
            "Ingrese un numero: 1\n",
            "El numero 1 es primo\n"
          ]
        }
      ]
    },
    {
      "cell_type": "code",
      "source": [
        "# Solucion 2b Omar Morales for\n",
        "# Obtenemos el numero a evaluar\n",
        "numero = int(input('Ingrese un numero: '))\n",
        "# inicializamos variable para contar cuantos numeros pueden dividir al numero a evaluar\n",
        "divisor = 0\n",
        "# incializamos una variable de tipo boolean para indicar si el numero es primo (True) o no (False)\n",
        "primo = True\n",
        "\n",
        "if numero > 1:\n",
        "  # Ejecutamos el ciclo iniciando en 2 hasta el numero ingresado (no inclusivo)\n",
        "  for n in range(2,numero):\n",
        "    # Evaluamos si el numero ingresado se puede dividir por el contador actual\n",
        "    if numero % n == 0:\n",
        "      # Si se puede dividir por otro numero distinto de 1 o el mismo no es un numero primo\n",
        "      primo = False;\n",
        "      break\n",
        "else:\n",
        "  primo = False;\n",
        "\n",
        "# Evaluamos el valor del boolean para indicar si el numero es primo (True) o no (False)\n",
        "if primo:\n",
        "  print(f'El numero {numero} es primo')\n",
        "else:\n",
        "  print(f'El numero {numero} no es primo')"
      ],
      "metadata": {
        "colab": {
          "base_uri": "https://localhost:8080/"
        },
        "id": "9LKQPuqXSd3n",
        "outputId": "0fd8ee1f-4881-470c-e18e-2c16a7c40b8f"
      },
      "execution_count": 69,
      "outputs": [
        {
          "output_type": "stream",
          "name": "stdout",
          "text": [
            "Ingrese un numero: 997\n",
            "El numero 997 es primo\n"
          ]
        }
      ]
    },
    {
      "cell_type": "code",
      "source": [
        "# Solucion Instructor\n",
        "# Recopilamos el número\n",
        "num = int(input('Ingresa un número entero: '))\n",
        "\n",
        "# Los números enteros iguales o menores que 1 no se consideran primos\n",
        "if num > 1:\n",
        "    for i in range(2, num):\n",
        "        # Verificamos todos los residuos de la división entre todos los números menores que num\n",
        "        # Si algún residuo es 0, significa que es divisible por otro número además de sí mismo y 1\n",
        "        if (num % i) == 0:\n",
        "            print(f'{num} no es un número primo')\n",
        "            break\n",
        "    else:\n",
        "        print(f'{num} es un número primo')\n",
        "else:\n",
        "    print(f'{num} no es un número primo')"
      ],
      "metadata": {
        "colab": {
          "base_uri": "https://localhost:8080/"
        },
        "id": "D3oSpkj1RPS9",
        "outputId": "fbc1fc25-8d3e-4323-942d-47c770ef50f8"
      },
      "execution_count": 62,
      "outputs": [
        {
          "output_type": "stream",
          "name": "stdout",
          "text": [
            "Ingresa un número entero: 997\n",
            "997 es un número primo\n"
          ]
        }
      ]
    },
    {
      "cell_type": "markdown",
      "source": [
        "8 - Vamos a comprender la distribución de edades de los pensionistas de una empresa de seguros. Escribe un programa que lea las edades de una cantidad no informada de clientes y muestre la distribución en los intervalos [0-25], [26-50], [51-75] y [76-100]. La entrada de datos se detendrá al ingresar un número negativo."
      ],
      "metadata": {
        "id": "C3BKM7BO539Z"
      }
    },
    {
      "cell_type": "code",
      "source": [
        "# Solucion 1 Omar Morales while\n",
        "# Inicializamos la variable edad, se utilizaa para el control del flujo del bucle\n",
        "# Si se ingresa un valor negativo se finaliza la captura de datos:\n",
        "edad = 0\n",
        "# Inicializamos las variables para contabilizar la distribucion en intervalos\n",
        "# Contador de clientes en el rango de 0 a 25\n",
        "rango_1 = 0\n",
        "# Contador de clientes en el rango de 26 a 50\n",
        "rango_2 = 0\n",
        "# Contador de clientes en el rango de 51 a 75\n",
        "rango_3 = 0\n",
        "# Contador de clientes en el rango de 76 a 100\n",
        "rango_4 = 0\n",
        "# Contador total de clientes\n",
        "total = 0\n",
        "\n",
        "# Si se ingrese un valor negativo se termina el bucle\n",
        "while edad >= 0:\n",
        "  edad = int(input('Ingrese la edad, ingrese un valor entre 0 y 100, ingrese un valor negativo para terminar: '))\n",
        "  # Las edades mayores a 100 estan fuera del rango y no se consideran validas\n",
        "  while edad > 100:\n",
        "    edad = int(input('La edad es invalida, ingrese un valor entre 0 y 100, ingrese un valor negativo para terminar'))\n",
        "  # Evaluamos el primer rango e incrementamos su contador\n",
        "  if edad>= 0 and edad <= 25:\n",
        "    rango_1 += 1\n",
        "  # Evaluamos el segundo rango e incrementamos su contador\n",
        "  elif edad >= 26 and edad <= 50:\n",
        "    rango_2 += 1\n",
        "  # Evaluamos el tercer rango e incrementamos su contador\n",
        "  elif edad >= 51 and edad <= 75:\n",
        "    rango_3 += 1\n",
        "  # Evaluamos el cuarto rango e incrementamos su contador\n",
        "  elif edad >= 76 and edad <= 100:\n",
        "    rango_4 += 1\n",
        "\n",
        "# Calculamos el total sumando los contadores de cada rango valido.\n",
        "total = rango_1 + rango_2 + rango_3 + rango_4\n",
        "\n",
        "print(f'\\nClientes totales {total}')\n",
        "print(f'Rango 0-25 {rango_1}')\n",
        "print(f'Rango 26-50 {rango_2}')\n",
        "print(f'Rango 51 a 75 {rango_3}')\n",
        "print(f'Rango 76 a 100 {rango_4}')"
      ],
      "metadata": {
        "colab": {
          "base_uri": "https://localhost:8080/"
        },
        "id": "XAZxV7yK6CgX",
        "outputId": "b2b85003-c0b2-4585-871a-a327f9de0ff6"
      },
      "execution_count": 63,
      "outputs": [
        {
          "output_type": "stream",
          "name": "stdout",
          "text": [
            "Ingrese la edad, ingrese un valor entre 0 y 100, ingrese un valor negativo para terminar: 0\n",
            "Ingrese la edad, ingrese un valor entre 0 y 100, ingrese un valor negativo para terminar: 26\n",
            "Ingrese la edad, ingrese un valor entre 0 y 100, ingrese un valor negativo para terminar: 51\n",
            "Ingrese la edad, ingrese un valor entre 0 y 100, ingrese un valor negativo para terminar: 76\n",
            "Ingrese la edad, ingrese un valor entre 0 y 100, ingrese un valor negativo para terminar: -1\n",
            "\n",
            "Clientes totales 4\n",
            "Rango 0-25 1\n",
            "Rango 26-50 1\n",
            "Rango 51 a 75 1\n",
            "Rango 76 a 100 1\n"
          ]
        }
      ]
    },
    {
      "cell_type": "markdown",
      "source": [
        "9 - En una elección para la gerencia de una empresa con 20 empleados, hay cuatro candidatos. Escribe un programa que calcule al ganador de la elección. La votación se realizó de la siguiente manera:\n",
        "\n",
        "Cada empleado votó por uno de los cuatro candidatos (representados por los números 1, 2, 3 y 4).\n",
        "\n",
        "También se contaron los votos nulos (representados por el número 5) y los votos en blanco (representados por el número 6).\n",
        "\n",
        "Al final de la votación, el programa debe mostrar el número total de votos para cada candidato, los votos nulos y los votos en blanco. Además, debe calcular y mostrar el porcentaje de votos nulos con respecto al total de votos y el porcentaje de votos en blanco con respecto al total de votos."
      ],
      "metadata": {
        "id": "CjRC9Jbp__na"
      }
    },
    {
      "cell_type": "code",
      "source": [
        "# Solucion 1 Omar Morales for\n",
        "# Inicializamos los contadores de votos para cada candidato, nulos y blancos\n",
        "candidato_1 = 0\n",
        "candidato_2 = 0\n",
        "candidato_3 = 0\n",
        "candidato_4 = 0\n",
        "nulos = 0\n",
        "blancos = 0\n",
        "# Incializamos la variable votos\n",
        "voto = 0\n",
        "\n",
        "# Utilizamos el bucle con el rango de 1 a 21 para capturar los 20 votos.\n",
        "for n in range(1,21):\n",
        "  voto = int(input(f'Votacion {n}. Selecione un valor: (1) candidato 1, (2) candidato 2, (3) candidato 3, (4) candidato 4, (5) nulo, (6) blanco: '))\n",
        "  # Validamos que se ingrese una de las opciones validas para voto.\n",
        "  while voto < 1 or voto > 6:\n",
        "    voto = int(input(f'Votacion {n}. Selecione un valor valido: (1) candidato 1, (2) candidato 2, (3) candidato 3, (4) candidato 4, (5) nulo, (6) blanco: '))\n",
        "  # Evaluamos los votos para el candidato 1 e incrementamos el contador\n",
        "  if voto == 1:\n",
        "    candidato_1 += 1\n",
        "  # Evaluamos los votos para el candidato 2 e incrementamos el contador\n",
        "  if voto == 2:\n",
        "    candidato_2 += 1\n",
        "  # Evaluamos los votos para el candidato 3 e incrementamos el contador\n",
        "  if voto == 3:\n",
        "    candidato_3 += 1\n",
        "  # Evaluamos los votos para el candidato 4 e incrementamos el contador\n",
        "  if voto == 4:\n",
        "    candidato_4 += 1\n",
        "  # Evaluamos los votos nulos e incrementamos el contador\n",
        "  if voto == 5:\n",
        "    nulos += 1\n",
        "  # Evaluamos los en blanco e incrementamos el contador\n",
        "  if voto == 6:\n",
        "    blancos += 1\n",
        "\n",
        "# Imprimimos los resultados de los votos acumulados para cada candidato, los votos nulos y los votos en blanco.\n",
        "print('\\n### Resultados Votacion: ###')\n",
        "print(f'Candidato 1: {candidato_1} votos')\n",
        "print(f'Candidato 2: {candidato_2} votos')\n",
        "print(f'Candidato 3: {candidato_3} votos')\n",
        "print(f'Candidato 4: {candidato_4} votos')\n",
        "print(f'Votos nulos: {nulos} votos')\n",
        "print(f'Votos en blanco: {blancos} votos')\n",
        "# Imprimimos el porcentaje respecto a total de votos para los votos nulos\n",
        "print('Porcentaje nulos: {}%' .format(100*nulos/(candidato_1+candidato_2+candidato_3+candidato_4+nulos+blancos)))\n",
        "# Imprimimos el porcentaje respecto a total de votos para los votos en blanco\n",
        "print('Porcentaje blancos: {}%' .format(100*blancos/(candidato_1+candidato_2+candidato_3+candidato_4+nulos+blancos)))"
      ],
      "metadata": {
        "colab": {
          "base_uri": "https://localhost:8080/"
        },
        "id": "jJ9uxRS1AA_Z",
        "outputId": "118d46f1-1e95-4646-db45-3af1008454c9"
      },
      "execution_count": 38,
      "outputs": [
        {
          "output_type": "stream",
          "name": "stdout",
          "text": [
            "Votacion 1. Selecione un valor: (1) candidato 1, (2) candidato 2, (3) candidato 3, (4) candidato 4, (5) nulo, (6) blanco: 1\n",
            "Votacion 2. Selecione un valor: (1) candidato 1, (2) candidato 2, (3) candidato 3, (4) candidato 4, (5) nulo, (6) blanco: 2\n",
            "Votacion 3. Selecione un valor: (1) candidato 1, (2) candidato 2, (3) candidato 3, (4) candidato 4, (5) nulo, (6) blanco: 3\n",
            "Votacion 4. Selecione un valor: (1) candidato 1, (2) candidato 2, (3) candidato 3, (4) candidato 4, (5) nulo, (6) blanco: 4\n",
            "Votacion 5. Selecione un valor: (1) candidato 1, (2) candidato 2, (3) candidato 3, (4) candidato 4, (5) nulo, (6) blanco: 1\n",
            "Votacion 6. Selecione un valor: (1) candidato 1, (2) candidato 2, (3) candidato 3, (4) candidato 4, (5) nulo, (6) blanco: 2\n",
            "Votacion 7. Selecione un valor: (1) candidato 1, (2) candidato 2, (3) candidato 3, (4) candidato 4, (5) nulo, (6) blanco: 3\n",
            "Votacion 8. Selecione un valor: (1) candidato 1, (2) candidato 2, (3) candidato 3, (4) candidato 4, (5) nulo, (6) blanco: 4\n",
            "Votacion 9. Selecione un valor: (1) candidato 1, (2) candidato 2, (3) candidato 3, (4) candidato 4, (5) nulo, (6) blanco: 2\n",
            "Votacion 10. Selecione un valor: (1) candidato 1, (2) candidato 2, (3) candidato 3, (4) candidato 4, (5) nulo, (6) blanco: 2\n",
            "Votacion 11. Selecione un valor: (1) candidato 1, (2) candidato 2, (3) candidato 3, (4) candidato 4, (5) nulo, (6) blanco: 2\n",
            "Votacion 12. Selecione un valor: (1) candidato 1, (2) candidato 2, (3) candidato 3, (4) candidato 4, (5) nulo, (6) blanco: 3\n",
            "Votacion 13. Selecione un valor: (1) candidato 1, (2) candidato 2, (3) candidato 3, (4) candidato 4, (5) nulo, (6) blanco: 4\n",
            "Votacion 14. Selecione un valor: (1) candidato 1, (2) candidato 2, (3) candidato 3, (4) candidato 4, (5) nulo, (6) blanco: 5\n",
            "Votacion 15. Selecione un valor: (1) candidato 1, (2) candidato 2, (3) candidato 3, (4) candidato 4, (5) nulo, (6) blanco: 6\n",
            "Votacion 16. Selecione un valor: (1) candidato 1, (2) candidato 2, (3) candidato 3, (4) candidato 4, (5) nulo, (6) blanco: 1\n",
            "Votacion 17. Selecione un valor: (1) candidato 1, (2) candidato 2, (3) candidato 3, (4) candidato 4, (5) nulo, (6) blanco: 2\n",
            "Votacion 18. Selecione un valor: (1) candidato 1, (2) candidato 2, (3) candidato 3, (4) candidato 4, (5) nulo, (6) blanco: 3\n",
            "Votacion 19. Selecione un valor: (1) candidato 1, (2) candidato 2, (3) candidato 3, (4) candidato 4, (5) nulo, (6) blanco: 4\n",
            "Votacion 20. Selecione un valor: (1) candidato 1, (2) candidato 2, (3) candidato 3, (4) candidato 4, (5) nulo, (6) blanco: 5\n",
            "\n",
            "### Resultados Votacion: ###\n",
            "Candidato 1: 3 votos\n",
            "Candidato 2: 6 votos\n",
            "Candidato 3: 4 votos\n",
            "Candidato 4: 4 votos\n",
            "Votos nulos: 2 votos\n",
            "Votos en blanco: 1 votos\n",
            "Porcentaje nulos: 10.0%\n",
            "Porcentaje blancos: 5.0%\n"
          ]
        }
      ]
    },
    {
      "cell_type": "code",
      "source": [
        "# Solucion 2 Omar Morales while\n",
        "# Inicializamos los contadores de votos para cada candidato, nulos y blancos\n",
        "candidato_1 = 0\n",
        "candidato_2 = 0\n",
        "candidato_3 = 0\n",
        "candidato_4 = 0\n",
        "nulos = 0\n",
        "blancos = 0\n",
        "# Incializamos la variable votos\n",
        "voto = 0\n",
        "# Inicializamos el contador para el control de flujo del bucle\n",
        "contador = 1\n",
        "\n",
        "# Utilizamos el bucle con el rango de 1 a 21 para capturar los 20 votos.\n",
        "while contador <= 20:\n",
        "  voto = int(input(f'Votacion {contador}. Selecione un valor: (1) candidato 1, (2) candidato 2, (3) candidato 3, (4) candidato 4, (5) nulo, (6) blanco: '))\n",
        "  # Validamos que se ingrese una de las opciones validas para voto.\n",
        "  while voto < 1 or voto > 6:\n",
        "    voto = int(input(f'Votacion {n}. Selecione un valor valido: (1) candidato 1, (2) candidato 2, (3) candidato 3, (4) candidato 4, (5) nulo, (6) blanco: '))\n",
        "  # Evaluamos los votos para el candidato 1 e incrementamos el contador\n",
        "  if voto == 1:\n",
        "    candidato_1 += 1\n",
        "  # Evaluamos los votos para el candidato 2 e incrementamos el contador\n",
        "  if voto == 2:\n",
        "    candidato_2 += 1\n",
        "  # Evaluamos los votos para el candidato 3 e incrementamos el contador\n",
        "  if voto == 3:\n",
        "    candidato_3 += 1\n",
        "  # Evaluamos los votos para el candidato 4 e incrementamos el contador\n",
        "  if voto == 4:\n",
        "    candidato_4 += 1\n",
        "  # Evaluamos los votos nulos e incrementamos el contador\n",
        "  if voto == 5:\n",
        "    nulos += 1\n",
        "  # Evaluamos los en blanco e incrementamos el contador\n",
        "  if voto == 6:\n",
        "    blancos += 1\n",
        "  contador += 1\n",
        "\n",
        "\n",
        "# Imprimimos los resultados de los votos acumulados para cada candidato, los votos nulos y los votos en blanco.\n",
        "print('\\n### Resultados Votacion: ###')\n",
        "print(f'Candidato 1: {candidato_1} votos')\n",
        "print(f'Candidato 2: {candidato_2} votos')\n",
        "print(f'Candidato 3: {candidato_3} votos')\n",
        "print(f'Candidato 4: {candidato_4} votos')\n",
        "print(f'Votos nulos: {nulos} votos')\n",
        "print(f'Votos en blanco: {blancos} votos')\n",
        "# Imprimimos el porcentaje respecto a total de votos para los votos nulos\n",
        "print('Porcentaje nulos: {}%' .format(100*nulos/(candidato_1+candidato_2+candidato_3+candidato_4+nulos+blancos)))\n",
        "# Imprimimos el porcentaje respecto a total de votos para los votos en blanco\n",
        "print('Porcentaje blancos: {}%' .format(100*blancos/(candidato_1+candidato_2+candidato_3+candidato_4+nulos+blancos)))"
      ],
      "metadata": {
        "colab": {
          "base_uri": "https://localhost:8080/"
        },
        "id": "40q1HlnBGzJm",
        "outputId": "944f0256-9c7b-4ef4-bcf4-b694e39f58ae"
      },
      "execution_count": 40,
      "outputs": [
        {
          "output_type": "stream",
          "name": "stdout",
          "text": [
            "Votacion 1. Selecione un valor: (1) candidato 1, (2) candidato 2, (3) candidato 3, (4) candidato 4, (5) nulo, (6) blanco: 1\n",
            "Votacion 2. Selecione un valor: (1) candidato 1, (2) candidato 2, (3) candidato 3, (4) candidato 4, (5) nulo, (6) blanco: 2\n",
            "Votacion 3. Selecione un valor: (1) candidato 1, (2) candidato 2, (3) candidato 3, (4) candidato 4, (5) nulo, (6) blanco: 3\n",
            "Votacion 4. Selecione un valor: (1) candidato 1, (2) candidato 2, (3) candidato 3, (4) candidato 4, (5) nulo, (6) blanco: 4\n",
            "Votacion 5. Selecione un valor: (1) candidato 1, (2) candidato 2, (3) candidato 3, (4) candidato 4, (5) nulo, (6) blanco: 5\n",
            "Votacion 6. Selecione un valor: (1) candidato 1, (2) candidato 2, (3) candidato 3, (4) candidato 4, (5) nulo, (6) blanco: 6\n",
            "Votacion 7. Selecione un valor: (1) candidato 1, (2) candidato 2, (3) candidato 3, (4) candidato 4, (5) nulo, (6) blanco: 1\n",
            "Votacion 8. Selecione un valor: (1) candidato 1, (2) candidato 2, (3) candidato 3, (4) candidato 4, (5) nulo, (6) blanco: 2\n",
            "Votacion 9. Selecione un valor: (1) candidato 1, (2) candidato 2, (3) candidato 3, (4) candidato 4, (5) nulo, (6) blanco: 1\n",
            "Votacion 10. Selecione un valor: (1) candidato 1, (2) candidato 2, (3) candidato 3, (4) candidato 4, (5) nulo, (6) blanco: 2\n",
            "Votacion 11. Selecione un valor: (1) candidato 1, (2) candidato 2, (3) candidato 3, (4) candidato 4, (5) nulo, (6) blanco: 3\n",
            "Votacion 12. Selecione un valor: (1) candidato 1, (2) candidato 2, (3) candidato 3, (4) candidato 4, (5) nulo, (6) blanco: 4\n",
            "Votacion 13. Selecione un valor: (1) candidato 1, (2) candidato 2, (3) candidato 3, (4) candidato 4, (5) nulo, (6) blanco: 5\n",
            "Votacion 14. Selecione un valor: (1) candidato 1, (2) candidato 2, (3) candidato 3, (4) candidato 4, (5) nulo, (6) blanco: 6\n",
            "Votacion 15. Selecione un valor: (1) candidato 1, (2) candidato 2, (3) candidato 3, (4) candidato 4, (5) nulo, (6) blanco: 1\n",
            "Votacion 16. Selecione un valor: (1) candidato 1, (2) candidato 2, (3) candidato 3, (4) candidato 4, (5) nulo, (6) blanco: 3\n",
            "Votacion 17. Selecione un valor: (1) candidato 1, (2) candidato 2, (3) candidato 3, (4) candidato 4, (5) nulo, (6) blanco: 4\n",
            "Votacion 18. Selecione un valor: (1) candidato 1, (2) candidato 2, (3) candidato 3, (4) candidato 4, (5) nulo, (6) blanco: 4\n",
            "Votacion 19. Selecione un valor: (1) candidato 1, (2) candidato 2, (3) candidato 3, (4) candidato 4, (5) nulo, (6) blanco: 1\n",
            "Votacion 20. Selecione un valor: (1) candidato 1, (2) candidato 2, (3) candidato 3, (4) candidato 4, (5) nulo, (6) blanco: 2\n",
            "\n",
            "### Resultados Votacion: ###\n",
            "Candidato 1: 5 votos\n",
            "Candidato 2: 4 votos\n",
            "Candidato 3: 3 votos\n",
            "Candidato 4: 4 votos\n",
            "Votos nulos: 2 votos\n",
            "Votos en blanco: 2 votos\n",
            "Porcentaje nulos: 10.0%\n",
            "Porcentaje blancos: 10.0%\n"
          ]
        }
      ]
    }
  ]
}