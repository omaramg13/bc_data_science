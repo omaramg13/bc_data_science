{
  "nbformat": 4,
  "nbformat_minor": 0,
  "metadata": {
    "colab": {
      "provenance": [],
      "authorship_tag": "ABX9TyPNtmu+Lvt+4spXDIOM7yLD",
      "include_colab_link": true
    },
    "kernelspec": {
      "name": "python3",
      "display_name": "Python 3"
    },
    "language_info": {
      "name": "python"
    }
  },
  "cells": [
    {
      "cell_type": "markdown",
      "metadata": {
        "id": "view-in-github",
        "colab_type": "text"
      },
      "source": [
        "<a href=\"https://colab.research.google.com/github/omaramg13/bc_data_science/blob/main/OAMG_Desafios_Clase_02_Manipulando_datos_en_Python.ipynb\" target=\"_parent\"><img src=\"https://colab.research.google.com/assets/colab-badge.svg\" alt=\"Open In Colab\"/></a>"
      ]
    },
    {
      "cell_type": "markdown",
      "source": [
        "# Desafios\n",
        "Nombre: Omar Alejandro Morales Granados.\n",
        "\n",
        "Vamos a practicar el uso de varios tipos de variables y la función input a través de algunas actividades. Resuelve los problemas propuestos en código.\n",
        "\n",
        "## Recopilación y muestra de datos\n",
        "\n",
        "1 - Crea un programa que solicite al usuario que escriba su nombre y luego imprima \"Hola, [nombre].\""
      ],
      "metadata": {
        "id": "6VwYprA0FxDA"
      }
    },
    {
      "cell_type": "code",
      "execution_count": 1,
      "metadata": {
        "colab": {
          "base_uri": "https://localhost:8080/"
        },
        "id": "0hlzmv-aHJ84",
        "outputId": "dfcccc4a-296f-408f-99d5-cb5973c9760c"
      },
      "outputs": [
        {
          "output_type": "stream",
          "name": "stdout",
          "text": [
            "Favor ingrese su nombre: Omar\n",
            "Omar\n"
          ]
        }
      ],
      "source": [
        "nombre = input(\"Favor ingrese su nombre: \")\n",
        "print(nombre)"
      ]
    },
    {
      "cell_type": "markdown",
      "source": [
        "2 - Crea un programa que solicite al usuario que escriba su nombre y edad, y luego imprima \"Hola, [nombre], tienes [edad] años.\""
      ],
      "metadata": {
        "id": "wB_8BbbNGYpw"
      }
    },
    {
      "cell_type": "code",
      "source": [
        "nombre = input(\"Escriba su nombre: \")\n",
        "edad = input(\"Ingrese su edad: \")\n",
        "print(f'Hola, {nombre}, tienes {edad} años')"
      ],
      "metadata": {
        "colab": {
          "base_uri": "https://localhost:8080/"
        },
        "id": "2BZ3NQxCICrl",
        "outputId": "3d41c545-cc32-400e-d514-57b498851ed6"
      },
      "execution_count": 4,
      "outputs": [
        {
          "output_type": "stream",
          "name": "stdout",
          "text": [
            "Escriba su nombre: Omar\n",
            "Ingrese su edad: 39\n",
            "Hola, Omar, tienes 39 años\n"
          ]
        }
      ]
    },
    {
      "cell_type": "markdown",
      "source": [
        "3 - Crea un programa que solicite al usuario que escriba su nombre, edad y altura en metros, y luego imprima \"Hola, [nombre], tienes [edad] años y mides [altura] metros.\""
      ],
      "metadata": {
        "id": "mAW_DUVOJKth"
      }
    },
    {
      "cell_type": "code",
      "source": [
        "nombre = input(\"Escriba su nombre: \")\n",
        "edad = input(\"Ingrese su edad: \")\n",
        "altura_metros = input(\"Indique su altura en metros: \")\n",
        "print(f'Hola, {nombre}, tienes {edad} años y mides {altura_metros}')"
      ],
      "metadata": {
        "colab": {
          "base_uri": "https://localhost:8080/"
        },
        "id": "_Tm-GIgXHwhm",
        "outputId": "faa26e0f-5e55-4a8b-c9d7-a9a6f6869503"
      },
      "execution_count": 5,
      "outputs": [
        {
          "output_type": "stream",
          "name": "stdout",
          "text": [
            "Escriba su nombre: Omar\n",
            "Ingrese su edad: 39\n",
            "Indique su altura en metros: 1.76\n",
            "Hola, Omar, tienes 39 años y mides 1.76\n"
          ]
        }
      ]
    },
    {
      "cell_type": "markdown",
      "source": [
        "## Calculadora con operadores\n",
        "\n",
        "4 - Crea un programa que solicite dos valores numéricos al usuario y luego imprima la suma de ambos valores."
      ],
      "metadata": {
        "id": "z5AkN2hgJMmO"
      }
    },
    {
      "cell_type": "code",
      "source": [
        "sumando_a = int(input(\"Ingrese el primer valor para la suma: \"))\n",
        "sumando_b = int(input(\"Ingrese el segundo valor para la suma: \"))\n",
        "resultado = sumando_a + sumando_b\n",
        "print(f'El resultado de la suma de {sumando_a} y {sumando_b} es {resultado}')"
      ],
      "metadata": {
        "colab": {
          "base_uri": "https://localhost:8080/"
        },
        "id": "EZyXmDGWJTCH",
        "outputId": "69708a9d-6126-456c-b4de-2d552f9c6374"
      },
      "execution_count": 7,
      "outputs": [
        {
          "output_type": "stream",
          "name": "stdout",
          "text": [
            "Ingrese el primer valor para la suma: 13\n",
            "Ingrese el segundo valor para la suma: 23\n",
            "El resultado de la suma de 13 y 23 es 36\n"
          ]
        }
      ]
    },
    {
      "cell_type": "markdown",
      "source": [
        "5 - Crea un programa que solicite tres valores numéricos al usuario y luego imprima la suma de los tres valores."
      ],
      "metadata": {
        "id": "vu_cSoNHJT4r"
      }
    },
    {
      "cell_type": "code",
      "source": [
        "sumando_a = int(input(\"Ingrese el primer valor para la suma: \"))\n",
        "sumando_b = int(input(\"Ingrese el segundo valor para la suma: \"))\n",
        "sumando_c = int(input(\"Ingrese el tercer valor para la suma: \"))\n",
        "resultado = sumando_a + sumando_b + sumando_c\n",
        "print(f'El resultado de la suma de {sumando_a}, {sumando_b} y {sumando_c} es {resultado}')"
      ],
      "metadata": {
        "colab": {
          "base_uri": "https://localhost:8080/"
        },
        "id": "y-2axPzWJX5G",
        "outputId": "70220128-fa32-4c74-ab8b-bba17f10041f"
      },
      "execution_count": 8,
      "outputs": [
        {
          "output_type": "stream",
          "name": "stdout",
          "text": [
            "Ingrese el primer valor para la suma: 13\n",
            "Ingrese el segundo valor para la suma: 413\n",
            "Ingrese el tercer valor para la suma: 8413\n",
            "El resultado de la suma de 13, 413 y 8413 es 8839\n"
          ]
        }
      ]
    },
    {
      "cell_type": "markdown",
      "source": [
        "6 - Crea un programa que solicite dos valores numéricos al usuario y luego imprima la resta del primero menos el segundo valor."
      ],
      "metadata": {
        "id": "uILcctokJZw_"
      }
    },
    {
      "cell_type": "code",
      "source": [
        "minuendo = int(input(\"Ingrese el primer valor para la resta (minuendo): \"))\n",
        "sustraendo = int(input(\"Ingrese el segundo valor para la resta (sustraendo): \"))\n",
        "diferencia = minuendo - sustraendo\n",
        "print(f'El resultado de la resta de {minuendo} menos {sustraendo} es {diferencia}')"
      ],
      "metadata": {
        "colab": {
          "base_uri": "https://localhost:8080/"
        },
        "id": "kQBV8dZEJbZe",
        "outputId": "3cea6339-e4bb-42b6-a672-23f98425209b"
      },
      "execution_count": 10,
      "outputs": [
        {
          "output_type": "stream",
          "name": "stdout",
          "text": [
            "Ingrese el primer valor para la resta (minuendo): 39\n",
            "Ingrese el segundo valor para la resta (sustraendo): 12\n",
            "El resultado de la resta de 39 menos 12 es 27\n"
          ]
        }
      ]
    },
    {
      "cell_type": "markdown",
      "source": [
        "7 - Crea un programa que solicite dos valores numéricos al usuario y luego imprima la multiplicación de los dos valores."
      ],
      "metadata": {
        "id": "ywlIHOFCJejJ"
      }
    },
    {
      "cell_type": "code",
      "source": [
        "factor_a = int(input(\"Ingrese el primer factor para la multiplicacion: \"))\n",
        "factor_b = int(input(\"Ingrese el segundo factor para la multiplicacion: \"))\n",
        "producto = factor_a - factor_b\n",
        "print(f'El resultado del producto de {factor_a} por {factor_b} es {producto}')"
      ],
      "metadata": {
        "colab": {
          "base_uri": "https://localhost:8080/"
        },
        "id": "prGpfcX1JdvX",
        "outputId": "514fde4e-5e35-4a88-ac46-ce0282409f1b"
      },
      "execution_count": 11,
      "outputs": [
        {
          "output_type": "stream",
          "name": "stdout",
          "text": [
            "Ingrese el primer factor para la multiplicacion: 13\n",
            "Ingrese el segundo factor para la multiplicacion: 27\n",
            "El resultado del producto de 13 por 27 es -14\n"
          ]
        }
      ]
    },
    {
      "cell_type": "markdown",
      "source": [
        "8 - Crea un programa que solicite dos valores numéricos, un numerador y un denominador, y realice la división entre los dos valores. Asegúrate de que el valor del denominador no sea igual a 0."
      ],
      "metadata": {
        "id": "xdBKT-s9JgSJ"
      }
    },
    {
      "cell_type": "code",
      "source": [
        "factor_a = int(input(\"Ingrese el primer factor para la multiplicacion: \"))\n",
        "factor_b = int(input(\"Ingrese el segundo factor para la multiplicacion: \"))\n",
        "producto = factor_a - factor_b\n",
        "print(f'El resultado del producto de {factor_a} por {factor_b} es {producto}')"
      ],
      "metadata": {
        "id": "qevEPd0cJjb-"
      },
      "execution_count": null,
      "outputs": []
    },
    {
      "cell_type": "markdown",
      "source": [
        "9 - Crea un programa que solicite dos valores numéricos, un operador y una potencia, y realice la exponenciación entre estos dos valores."
      ],
      "metadata": {
        "id": "XxDIUTZyJzJ8"
      }
    },
    {
      "cell_type": "code",
      "source": [
        "base = int(input(\"Ingrese el numero base para realizar la potenciacion: \"))\n",
        "exponente = int(input(\"Ingrese el exponente que se aplicara al numero base: \"))\n",
        "potencia = base ** exponente\n",
        "print(f'La potencian del numero base {base} elevado al exponente {exponente} es {potencia}')\n"
      ],
      "metadata": {
        "colab": {
          "base_uri": "https://localhost:8080/"
        },
        "id": "Cu-8ZJsKJ2TG",
        "outputId": "baab6690-e259-4876-8992-b15bef991b80"
      },
      "execution_count": 18,
      "outputs": [
        {
          "output_type": "stream",
          "name": "stdout",
          "text": [
            "Ingrese el numero base para realizar la potenciacion: 2\n",
            "Ingrese el exponente que se aplicara al numero base: -6\n",
            "La potencian del numero base 2 elevado al exponente -6 es 0.015625\n"
          ]
        }
      ]
    },
    {
      "cell_type": "markdown",
      "source": [
        "10 - Crea un programa que solicite dos valores numéricos, un numerador y un denominador, y realice la división entera entre los dos valores. Asegúrate de que el valor del denominador no sea igual a 0."
      ],
      "metadata": {
        "id": "ps8CuXOwJ3BL"
      }
    },
    {
      "cell_type": "code",
      "source": [
        "def es_igual_cero (x):\n",
        "  return x == 0\n",
        "\n",
        "dividendo = int(input(\"Ingrese el primer valor (dividendo) para la division entera: \"))\n",
        "divisor = int(input(\"Ingrese el segundo valor (divisor) para la division entera, el valor debe ser mayor que cero: \"))\n",
        "if es_igual_cero(divisor):\n",
        "  print(f'El valor ingresado es cero, el divisor debe ser distinto de cero.')\n",
        "else:\n",
        "    cociente = dividendo // divisor\n",
        "    print(f'El resultado de la division entera de {dividendo} entre {divisor} es {cociente}')"
      ],
      "metadata": {
        "colab": {
          "base_uri": "https://localhost:8080/"
        },
        "id": "xu2kenELJ6jc",
        "outputId": "9e57f451-b0f6-4f4c-805e-bf505813c085"
      },
      "execution_count": 20,
      "outputs": [
        {
          "output_type": "stream",
          "name": "stdout",
          "text": [
            "Ingrese el primer valor (dividendo) para la division entera: 13\n",
            "Ingrese el segundo valor (divisor) para la division entera, el valor debe ser mayor que cero: 2\n",
            "El resultado de la division entera de 13 entre 2 es 6\n"
          ]
        }
      ]
    },
    {
      "cell_type": "markdown",
      "source": [
        "11 - Crea un programa que solicite dos valores numéricos, un numerador y un denominador, y devuelva el resto de la división entre los dos valores. Asegúrate de que el valor del denominador no sea igual a 0."
      ],
      "metadata": {
        "id": "W2zytaQFJ7E0"
      }
    },
    {
      "cell_type": "code",
      "source": [
        "def es_igual_cero (x):\n",
        "  return x == 0\n",
        "\n",
        "dividendo = int(input(\"Ingrese el primer valor (dividendo) para la division: \"))\n",
        "divisor = int(input(\"Ingrese el segundo valor (divisor) para la division(debe ser mayor que cero): \"))\n",
        "if es_igual_cero(divisor):\n",
        "  print(f'El valor ingresado es cero, el divisor debe ser distinto de cero.')\n",
        "else:\n",
        "    modulo = dividendo % divisor\n",
        "    print(f'El residuo (resto) de la division de {dividendo} entre {divisor} es {modulo}')"
      ],
      "metadata": {
        "colab": {
          "base_uri": "https://localhost:8080/"
        },
        "id": "EJXM91NnJ-Dh",
        "outputId": "0aabdf24-fcde-4e2d-a93e-6289c8c96bf9"
      },
      "execution_count": 21,
      "outputs": [
        {
          "output_type": "stream",
          "name": "stdout",
          "text": [
            "Ingrese el primer valor (dividendo) para la division: 13\n",
            "Ingrese el segundo valor (divisor) para la division(debe ser mayor que cero): 2\n",
            "El residuo (resto) de la division de 13 entre 2 es 1\n"
          ]
        }
      ]
    },
    {
      "cell_type": "markdown",
      "source": [
        "12 - Crea un código que solicite las 3 notas de un estudiante e imprima el promedio de las notas."
      ],
      "metadata": {
        "id": "0zwCWWJ9J_CR"
      }
    },
    {
      "cell_type": "code",
      "source": [
        "primera_nota = float(input('Ingrese la primera nota para calcular su promedio: '))\n",
        "segunda_nota = float(input('Ingrese la segunda nota para calcular su promedio: '))\n",
        "tercera_nota = float(input('Ingrese la tercera nota para calcular su promedio: '))\n",
        "promedio = (primera_nota + segunda_nota + tercera_nota)/3\n",
        "print('Sus notas son %.2f, %.2f, %.2f y el promedio de sus notas es %.2f' %(primera_nota, segunda_nota, tercera_nota, promedio))"
      ],
      "metadata": {
        "colab": {
          "base_uri": "https://localhost:8080/"
        },
        "id": "sRKtDrRzKLwi",
        "outputId": "2fe063ba-37a8-46fa-e518-d601ee726378"
      },
      "execution_count": 27,
      "outputs": [
        {
          "output_type": "stream",
          "name": "stdout",
          "text": [
            "Ingrese la primera nota para calcular su promedio: 9.12\n",
            "Ingrese la segunda nota para calcular su promedio: 8.34\n",
            "Ingrese la tercera nota para calcular su promedio: 7.56\n",
            "Sus notas son 9.12, 8.34, 7.56 y el promedio de sus notas es 8.34\n"
          ]
        }
      ]
    },
    {
      "cell_type": "markdown",
      "source": [
        "13 - Crea un código que calcule e imprima el promedio ponderado de los números 5, 12, 20 y 15 con pesos respectivamente iguales a 1, 2, 3 y 4."
      ],
      "metadata": {
        "id": "FFATgtJfKNH_"
      }
    },
    {
      "cell_type": "code",
      "source": [
        "valor_a = 5\n",
        "peso_a = 1\n",
        "valor_b = 12\n",
        "peso_b = 2\n",
        "valor_c = 20\n",
        "peso_c = 3\n",
        "valor_d = 15\n",
        "peso_d = 4\n",
        "promedio_ponderado = (valor_a * peso_a + valor_b * peso_b + valor_c * peso_c + valor_d * peso_d) / (peso_a + peso_b + peso_c + peso_d)\n",
        "print('El promedio ponderado de los numeros %d, %d, %d, %d con pesos %d, %d, %d, %d respectivamente es %.2f' %(valor_a, valor_b, valor_c, valor_d, peso_a, peso_b, peso_c, peso_d, promedio_ponderado))"
      ],
      "metadata": {
        "colab": {
          "base_uri": "https://localhost:8080/"
        },
        "id": "W432LZBOKP3q",
        "outputId": "7aa8db50-e6c7-4ff3-95d3-4e41568b25c8"
      },
      "execution_count": 28,
      "outputs": [
        {
          "output_type": "stream",
          "name": "stdout",
          "text": [
            "El promedio ponderado de los numeros 5, 12, 20, 15 con pesos 1, 2, 3, 4 respectivamente es 14.90\n"
          ]
        }
      ]
    },
    {
      "cell_type": "markdown",
      "source": [
        "## Editando textos\n",
        "\n",
        "14 - Crea una variable llamada \"frase\" y asígnale una cadena de texto de tu elección. Luego, imprime la frase en pantalla."
      ],
      "metadata": {
        "id": "WmVK4pW5KUP-"
      }
    },
    {
      "cell_type": "code",
      "source": [
        "frase = '¡El hombre elige! ¡El esclavo obedece!'\n",
        "print(frase)"
      ],
      "metadata": {
        "colab": {
          "base_uri": "https://localhost:8080/"
        },
        "id": "3fvLDKKYKZnj",
        "outputId": "17b8a87c-f5be-4596-9008-a30fff2f7fe5"
      },
      "execution_count": 29,
      "outputs": [
        {
          "output_type": "stream",
          "name": "stdout",
          "text": [
            "¡El hombre elige! ¡El esclavo obedece!\n"
          ]
        }
      ]
    },
    {
      "cell_type": "markdown",
      "source": [
        "15 - Crea un código que solicite una frase y luego imprima la frase en pantalla."
      ],
      "metadata": {
        "id": "QTcyhzjoKaQC"
      }
    },
    {
      "cell_type": "code",
      "source": [
        "frase = input(\"Escriba una frase: \")\n",
        "print(frase)"
      ],
      "metadata": {
        "colab": {
          "base_uri": "https://localhost:8080/"
        },
        "id": "OvwM4LG9Kc2O",
        "outputId": "2c5bfbc6-483a-4f20-e2fe-2f06a5601b86"
      },
      "execution_count": 30,
      "outputs": [
        {
          "output_type": "stream",
          "name": "stdout",
          "text": [
            "Escriba una frase: Un gran poder conlleva una gran responsabilidad.\n",
            "Un gran poder conlleva una gran responsabilidad.\n"
          ]
        }
      ]
    },
    {
      "cell_type": "markdown",
      "source": [
        "16 - Crea un código que solicite una frase al usuario y luego imprima la misma frase ingresada pero en mayúsculas."
      ],
      "metadata": {
        "id": "Pli6FS2rKdiL"
      }
    },
    {
      "cell_type": "code",
      "source": [
        "frase = input (\"Escribe una frase: \")\n",
        "print(frase.upper())"
      ],
      "metadata": {
        "colab": {
          "base_uri": "https://localhost:8080/"
        },
        "id": "i0UxWCQuKh23",
        "outputId": "ac871beb-c314-42b3-d31a-a6276d01022f"
      },
      "execution_count": 31,
      "outputs": [
        {
          "output_type": "stream",
          "name": "stdout",
          "text": [
            "Escribe una frase: ya basta freezer!\n",
            "YA BASTA FREEZER!\n"
          ]
        }
      ]
    },
    {
      "cell_type": "markdown",
      "source": [
        "17 - Crea un código que solicite una frase al usuario y luego imprima la misma frase ingresada pero en minúsculas."
      ],
      "metadata": {
        "id": "ZaW7a1obKigc"
      }
    },
    {
      "cell_type": "code",
      "source": [
        "frase = input (\"Escriba una frase: \")\n",
        "print(frase.lower())"
      ],
      "metadata": {
        "colab": {
          "base_uri": "https://localhost:8080/"
        },
        "id": "4Up9-unBKmLd",
        "outputId": "2bc7e96f-89ce-486d-b843-46cf4800a59a"
      },
      "execution_count": 32,
      "outputs": [
        {
          "output_type": "stream",
          "name": "stdout",
          "text": [
            "Escriba una frase: SOLO UN SITH PIENSA EN ABSOLUTOS\n",
            "solo un sith piensa en absolutos\n"
          ]
        }
      ]
    },
    {
      "cell_type": "markdown",
      "source": [
        "18 - Crea una variable llamada \"frase\" y asígnale una cadena de texto de tu elección. Luego, imprime la frase sin espacios en blanco al principio y al final."
      ],
      "metadata": {
        "id": "BvATenCnKm38"
      }
    },
    {
      "cell_type": "code",
      "source": [
        "frase = '   Esto es Esparata   '\n",
        "print(frase)\n",
        "print(len(frase))\n",
        "print(frase.strip())\n",
        "print(len(frase.strip()))"
      ],
      "metadata": {
        "colab": {
          "base_uri": "https://localhost:8080/"
        },
        "id": "fTaLfD4qKqhI",
        "outputId": "af4823fc-99b1-4200-a208-2637c269b3df"
      },
      "execution_count": 35,
      "outputs": [
        {
          "output_type": "stream",
          "name": "stdout",
          "text": [
            "   Esto es Esparata   \n",
            "22\n",
            "Esto es Esparata\n",
            "16\n"
          ]
        }
      ]
    },
    {
      "cell_type": "markdown",
      "source": [
        "19 - Crea un código que solicite una frase al usuario y luego imprima la misma frase sin espacios en blanco al principio y al final."
      ],
      "metadata": {
        "id": "IJvvEu92Kre9"
      }
    },
    {
      "cell_type": "code",
      "source": [
        "frase = input (\"Escriba una frase: \")\n",
        "print(frase)\n",
        "print(len(frase))\n",
        "print(frase.strip())\n",
        "print(len(frase.strip()))"
      ],
      "metadata": {
        "colab": {
          "base_uri": "https://localhost:8080/"
        },
        "id": "Fdj2_mFzKuRN",
        "outputId": "00181c1f-d706-484a-f9c1-1ac273d7f275"
      },
      "execution_count": 42,
      "outputs": [
        {
          "output_type": "stream",
          "name": "stdout",
          "text": [
            "Escriba una frase:       Muchos años después, frente al pelotón de fusilamiento, el coronel Aureliano Buendía había de recordar aquella tarde remota en que su padre lo llevó a conocer el hielo.        \n",
            "      Muchos años después, frente al pelotón de fusilamiento, el coronel Aureliano Buendía había de recordar aquella tarde remota en que su padre lo llevó a conocer el hielo.        \n",
            "182\n",
            "Muchos años después, frente al pelotón de fusilamiento, el coronel Aureliano Buendía había de recordar aquella tarde remota en que su padre lo llevó a conocer el hielo.\n",
            "168\n"
          ]
        }
      ]
    },
    {
      "cell_type": "markdown",
      "source": [
        "20 - Crea un código que solicite una frase al usuario y luego imprima la misma frase sin espacios en blanco al principio y al final, además de convertirla a minúsculas."
      ],
      "metadata": {
        "id": "VOwUMjzIKu2c"
      }
    },
    {
      "cell_type": "code",
      "source": [
        "frase = input (\"Escriba una frase: \")\n",
        "print(frase)\n",
        "print(len(frase))\n",
        "print(frase.lower().strip())\n",
        "print(len(frase.lower().strip()))"
      ],
      "metadata": {
        "colab": {
          "base_uri": "https://localhost:8080/"
        },
        "id": "1hY4QChuKy7j",
        "outputId": "fda083de-f47d-4ea5-fe47-0082f733afbf"
      },
      "execution_count": 41,
      "outputs": [
        {
          "output_type": "stream",
          "name": "stdout",
          "text": [
            "Escriba una frase:       Muchos años después, frente al pelotón de fusilamiento, el coronel Aureliano Buendía había de recordar aquella tarde remota en que su padre lo llevó a conocer el hielo.        \n",
            "      Muchos años después, frente al pelotón de fusilamiento, el coronel Aureliano Buendía había de recordar aquella tarde remota en que su padre lo llevó a conocer el hielo.        \n",
            "182\n",
            "muchos años después, frente al pelotón de fusilamiento, el coronel aureliano buendía había de recordar aquella tarde remota en que su padre lo llevó a conocer el hielo.\n",
            "168\n"
          ]
        }
      ]
    },
    {
      "cell_type": "markdown",
      "source": [
        "21 - Crea un código que solicite una frase al usuario y luego imprima la misma frase con todas las vocales \"e\" reemplazadas por la letra \"f\"."
      ],
      "metadata": {
        "id": "sRx4NVPvKzfM"
      }
    },
    {
      "cell_type": "code",
      "source": [
        "frase = input (\"Escriba una frase: \")\n",
        "print(frase)\n",
        "print(frase.replace('e','f'))"
      ],
      "metadata": {
        "colab": {
          "base_uri": "https://localhost:8080/"
        },
        "id": "WRaULvQMK8NU",
        "outputId": "4dc68452-e5c4-4031-cc72-4e2b5445e840"
      },
      "execution_count": 43,
      "outputs": [
        {
          "output_type": "stream",
          "name": "stdout",
          "text": [
            "Escriba una frase: Muchos años después, frente al pelotón de fusilamiento, el coronel Aureliano Buendía había de recordar aquella tarde remota en que su padre lo llevó a conocer el hielo.\n",
            "Muchos años después, frente al pelotón de fusilamiento, el coronel Aureliano Buendía había de recordar aquella tarde remota en que su padre lo llevó a conocer el hielo.\n",
            "Muchos años dfspués, frfntf al pflotón df fusilamifnto, fl coronfl Aurfliano Bufndía había df rfcordar aquflla tardf rfmota fn quf su padrf lo llfvó a conocfr fl hiflo.\n"
          ]
        }
      ]
    },
    {
      "cell_type": "markdown",
      "source": [
        "22 - Crea un código que solicite una frase al usuario y luego imprima la misma frase con todas las vocales \"a\" reemplazadas por el carácter \"@\"."
      ],
      "metadata": {
        "id": "ZdI8O62jK2f3"
      }
    },
    {
      "cell_type": "code",
      "source": [
        "frase = input (\"Escriba una frase: \")\n",
        "print(frase)\n",
        "print(frase.replace('e',chr(64)))"
      ],
      "metadata": {
        "colab": {
          "base_uri": "https://localhost:8080/"
        },
        "id": "8MbXGnujK9iU",
        "outputId": "d030f90d-c074-4e89-c50f-c01510300684"
      },
      "execution_count": 46,
      "outputs": [
        {
          "output_type": "stream",
          "name": "stdout",
          "text": [
            "Escriba una frase: Muchos años después, frente al pelotón de fusilamiento, el coronel Aureliano Buendía había de recordar aquella tarde remota en que su padre lo llevó a conocer el hielo.\n",
            "Muchos años después, frente al pelotón de fusilamiento, el coronel Aureliano Buendía había de recordar aquella tarde remota en que su padre lo llevó a conocer el hielo.\n",
            "Muchos años d@spués, fr@nt@ al p@lotón d@ fusilami@nto, @l coron@l Aur@liano Bu@ndía había d@ r@cordar aqu@lla tard@ r@mota @n qu@ su padr@ lo ll@vó a conoc@r @l hi@lo.\n"
          ]
        }
      ]
    },
    {
      "cell_type": "markdown",
      "source": [
        "23 - Crea un código que solicite una frase al usuario y luego imprima la misma frase con todas las consonantes \"s\" reemplazadas por el carácter \"$\"."
      ],
      "metadata": {
        "id": "EnzlJ4SVK50c"
      }
    },
    {
      "cell_type": "code",
      "source": [
        "frase = input (\"Escriba una frase: \")\n",
        "print(frase)\n",
        "print(frase.replace('s',chr(36)))"
      ],
      "metadata": {
        "colab": {
          "base_uri": "https://localhost:8080/"
        },
        "id": "fZYOtm0BLBog",
        "outputId": "cbe8d142-4b8b-4d10-ee39-9f1d2cc9a6a8"
      },
      "execution_count": 47,
      "outputs": [
        {
          "output_type": "stream",
          "name": "stdout",
          "text": [
            "Escriba una frase: Muchos años después, frente al pelotón de fusilamiento, el coronel Aureliano Buendía había de recordar aquella tarde remota en que su padre lo llevó a conocer el hielo.\n",
            "Muchos años después, frente al pelotón de fusilamiento, el coronel Aureliano Buendía había de recordar aquella tarde remota en que su padre lo llevó a conocer el hielo.\n",
            "Mucho$ año$ de$pué$, frente al pelotón de fu$ilamiento, el coronel Aureliano Buendía había de recordar aquella tarde remota en que $u padre lo llevó a conocer el hielo.\n"
          ]
        }
      ]
    }
  ]
}