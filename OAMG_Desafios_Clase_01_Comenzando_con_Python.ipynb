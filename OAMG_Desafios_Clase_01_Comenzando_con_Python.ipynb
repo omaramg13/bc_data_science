{
  "nbformat": 4,
  "nbformat_minor": 0,
  "metadata": {
    "colab": {
      "provenance": [],
      "authorship_tag": "ABX9TyMSSXpVdaWAWfNps3VrUPCt",
      "include_colab_link": true
    },
    "kernelspec": {
      "name": "python3",
      "display_name": "Python 3"
    },
    "language_info": {
      "name": "python"
    }
  },
  "cells": [
    {
      "cell_type": "markdown",
      "metadata": {
        "id": "view-in-github",
        "colab_type": "text"
      },
      "source": [
        "<a href=\"https://colab.research.google.com/github/omaramg13/bc_data_science/blob/main/OAMG_Desafios_Clase_01_Comenzando_con_Python.ipynb\" target=\"_parent\"><img src=\"https://colab.research.google.com/assets/colab-badge.svg\" alt=\"Open In Colab\"/></a>"
      ]
    },
    {
      "cell_type": "markdown",
      "source": [
        "# DESAFIOS\n",
        "\n",
        "Nombre: Omar Alejandro Morales Granados.\n",
        "\n",
        "Practica del uso de la función print\n",
        "\n",
        "1 - Imprime la frase \"Escuela de Datos de Alura\"."
      ],
      "metadata": {
        "id": "_w_dOvfI7cwf"
      }
    },
    {
      "cell_type": "code",
      "execution_count": 1,
      "metadata": {
        "colab": {
          "base_uri": "https://localhost:8080/"
        },
        "id": "8cBUxoue7Nzt",
        "outputId": "6b257b18-2c1d-470b-f8ae-9b33b35f27ba"
      },
      "outputs": [
        {
          "output_type": "stream",
          "name": "stdout",
          "text": [
            "Escuela de Datos de Alura\n"
          ]
        }
      ],
      "source": [
        "print(\"Escuela de Datos de Alura\");"
      ]
    },
    {
      "cell_type": "markdown",
      "source": [
        "2 - Imprime tu nombre y tu apellido siguiendo la estructura a continuación:\n",
        "```\n",
        "Nombre: [tu nombre]\n",
        "Apellido: [tu apellido]\n",
        "```"
      ],
      "metadata": {
        "id": "mGF1zXj27xMA"
      }
    },
    {
      "cell_type": "code",
      "source": [
        "print(\"Nombre: Omar Alejandro\");\n",
        "print(\"Apellido: Morales Granados\");"
      ],
      "metadata": {
        "colab": {
          "base_uri": "https://localhost:8080/"
        },
        "id": "p5_-tYiE76hB",
        "outputId": "35883107-cbed-4615-f3c0-d3723f57a234"
      },
      "execution_count": 2,
      "outputs": [
        {
          "output_type": "stream",
          "name": "stdout",
          "text": [
            "Nombre: Omar Alejandro\n",
            "Apellido: Morales Granados\n"
          ]
        }
      ]
    },
    {
      "cell_type": "markdown",
      "source": [
        "3 - Imprime tu primer nombre letra por letra. Por ejemplo, si mi nombre es Álvaro, la salida sería:\n",
        "```\n",
        "Á\n",
        "L\n",
        "V\n",
        "A\n",
        "R\n",
        "O\n",
        "```\n"
      ],
      "metadata": {
        "id": "1wo_xtuP8B6g"
      }
    },
    {
      "cell_type": "code",
      "source": [
        "print(\"O\");\n",
        "print(\"M\");\n",
        "print(\"A\");\n",
        "print(\"R\");"
      ],
      "metadata": {
        "colab": {
          "base_uri": "https://localhost:8080/"
        },
        "id": "V4c3icLM8SEn",
        "outputId": "94f7db39-a9ec-41dc-cbee-36a8a9df28a7"
      },
      "execution_count": 3,
      "outputs": [
        {
          "output_type": "stream",
          "name": "stdout",
          "text": [
            "O\n",
            "M\n",
            "A\n",
            "R\n"
          ]
        }
      ]
    },
    {
      "cell_type": "markdown",
      "source": [
        "4 - Imprime tu fecha de nacimiento en formato día mes año. Recuerda que los valores de día y año no deben estar entre comillas. Suponiendo una fecha de cumpleaños el 28 de febrero de 2003, el formato debe ser como el siguiente:\n",
        "```\n",
        "28 febrero 2003\n",
        "```"
      ],
      "metadata": {
        "id": "dY-aB31S8U6L"
      }
    },
    {
      "cell_type": "code",
      "source": [
        "print(13, \"noviembre\", 1984);\n"
      ],
      "metadata": {
        "id": "VERyR7zq8byc"
      },
      "execution_count": null,
      "outputs": []
    },
    {
      "cell_type": "markdown",
      "source": [
        "5 - Imprime, en una sola instrucción print, el año actual en el que estás realizando este curso. El valor del año debe ser un dato numérico, y la salida de print debe ser la siguiente:\n",
        "```\n",
        "Año actual: [año]\n",
        "```"
      ],
      "metadata": {
        "id": "Wro0auKy8i_O"
      }
    },
    {
      "cell_type": "code",
      "source": [
        "print(\"Año actual:\", 2024);"
      ],
      "metadata": {
        "colab": {
          "base_uri": "https://localhost:8080/"
        },
        "id": "VcZcY4Jf8ofv",
        "outputId": "6b2c97ed-f44a-411f-efa5-47fe0261a5cc"
      },
      "execution_count": 4,
      "outputs": [
        {
          "output_type": "stream",
          "name": "stdout",
          "text": [
            "Año actual: 2024\n"
          ]
        }
      ]
    }
  ]
}