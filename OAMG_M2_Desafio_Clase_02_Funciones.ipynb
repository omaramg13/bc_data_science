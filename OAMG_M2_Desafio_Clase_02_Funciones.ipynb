{
  "nbformat": 4,
  "nbformat_minor": 0,
  "metadata": {
    "colab": {
      "provenance": [],
      "authorship_tag": "ABX9TyNxk40QhtKmRqJAmlH887uL",
      "include_colab_link": true
    },
    "kernelspec": {
      "name": "python3",
      "display_name": "Python 3"
    },
    "language_info": {
      "name": "python"
    }
  },
  "cells": [
    {
      "cell_type": "markdown",
      "metadata": {
        "id": "view-in-github",
        "colab_type": "text"
      },
      "source": [
        "<a href=\"https://colab.research.google.com/github/omaramg13/bc_data_science/blob/main/OAMG_M2_Desafio_Clase_02_Funciones.ipynb\" target=\"_parent\"><img src=\"https://colab.research.google.com/assets/colab-badge.svg\" alt=\"Open In Colab\"/></a>"
      ]
    },
    {
      "cell_type": "markdown",
      "source": [
        "# DESAFIOS\n",
        "\n",
        "Nombre: Omar Alejandro Morales Granados\n",
        "\n",
        "Practica sobre funciones en Python:\n",
        "* Uso de funciones integradas (built-in functions)\n",
        "* Definicion de funciones\n",
        "* Documentacion de funciones\n",
        "* Creacion de funciones lambda (funciones anonimas)\n",
        "\n",
        "## Calentamiento\n",
        "\n",
        "1 - Escribe un código que lee la lista siguiente y realiza:\n",
        "\n",
        "```\n",
        "lista = [16, 14, 63, 65, 17, 99, 70, 11, 20, 48, 79, 32, 17, 89, 12, 25, 66]\n",
        "# 1. Leer el tamaño de la lista\n",
        "# 2. Leer el valor máximo y mínimo\n",
        "# 3. Calcular la suma de los valores de la lista\n",
        "# 4. Mostrar un mensaje al final: La lista tiene `tamano` números, donde el mayor\n",
        "# es `mayor` y el menor es `menor`. La suma de los valores es `suma`.\n",
        "```"
      ],
      "metadata": {
        "id": "aEurRegbv9zS"
      }
    },
    {
      "cell_type": "code",
      "execution_count": null,
      "metadata": {
        "colab": {
          "base_uri": "https://localhost:8080/"
        },
        "id": "EhaeZy-3vz2x",
        "outputId": "436d980e-5385-45c6-8664-2db8f38605bf"
      },
      "outputs": [
        {
          "output_type": "stream",
          "name": "stdout",
          "text": [
            "La lista tiene 17 números, donde el mayor es 99 y el menor es 11. La suma de los valores es 743.\n"
          ]
        }
      ],
      "source": [
        "lista = [16, 14, 63, 65, 17, 99, 70, 11, 20, 48, 79, 32, 17, 89, 12, 25, 66]\n",
        "tamaño = len(lista)\n",
        "mayor = max(lista)\n",
        "menor = min(lista)\n",
        "suma = sum(lista)\n",
        "print(f'La lista tiene {tamaño} números, donde el mayor es {mayor} y el menor es {menor}. La suma de los valores es {suma}.')"
      ]
    },
    {
      "cell_type": "code",
      "source": [
        "#Solucion Instructor\n",
        "lista = [16, 14, 63, 65, 17, 99, 70, 11, 20, 48, 79, 32, 17, 89, 12, 25, 66]\n",
        "\n",
        "# Leer el tamaño de la lista\n",
        "tam = len(lista)\n",
        "\n",
        "# Leer el valor máximo y mínimo\n",
        "mayor = max(lista)\n",
        "menor = min(lista)\n",
        "\n",
        "# Calcular la suma de los valores de la lista\n",
        "soma = sum(lista)\n",
        "\n",
        "# Mostrar un mensaje al final\n",
        "print(f\"La lista tiene {tam} números, donde el mayor es {mayor} y el menor es {menor}. La suma de los valores es {soma}\")"
      ],
      "metadata": {
        "id": "JeV2aBLCl9YX"
      },
      "execution_count": null,
      "outputs": []
    },
    {
      "cell_type": "markdown",
      "source": [
        "2 - Escribe una función que genere la tabla de multiplicar de un número entero del 1 al 10, según la elección del usuario. Como ejemplo, para el número 7, la tabla de multiplicar se debe mostrar en el siguiente formato:\n",
        "```\n",
        "# Tabla del  7:\n",
        "# 7 x 0 = 0\n",
        "# 7 x 1 = 7\n",
        "# [...]\n",
        "# 7 x 10 = 70\n",
        "```"
      ],
      "metadata": {
        "id": "JYXUq6fo0hC6"
      }
    },
    {
      "cell_type": "code",
      "source": [
        "# Definimos la funcion para calcular la tabla de multiplicar del 0 al 10 de un numero entoro\n",
        "def tabla (numero : int=1):\n",
        "  '''Funcion para generar la tabla de multiplicar de un numero entero del 0 al 10\n",
        "\n",
        "  numero : int, default = 1\n",
        "  Numero entero para generar la tabla de multiplicar del 0 al 10\n",
        "\n",
        "  Genera la tabla de multiplicar con el formato siguiente:\n",
        "  Tabla del  7:\n",
        "  7 x 0 = 0\n",
        "  7 x 1 = 7\n",
        "  [...]\n",
        "  7 x 10 = 70\n",
        "  '''\n",
        "  # Imprimimos el encabezado 'Tabla del numero `x`'\n",
        "  print(f'Tabla del {numero}:')\n",
        "  # Utilizamos el bucle para generar la tabla de multiplicar del numero iniciando en 0 hasta llegar a 10.\n",
        "  for n in range(0,11):\n",
        "    # Imprimimos la operacion y el resultado:\n",
        "    print(f'{numero} x {n} = {numero * n}')\n",
        "\n",
        "# Obtenemos el numero entero y lo asignamos a una variable\n",
        "entero = int(input('Ingrese un numero entero: '))\n",
        "\n",
        "# Llamamos la funcion para generar la tabla de multiplicar.\n",
        "tabla(entero)"
      ],
      "metadata": {
        "colab": {
          "base_uri": "https://localhost:8080/"
        },
        "id": "Cj6OygAr0iTu",
        "outputId": "4a20aeb1-d33c-4775-d217-7950de3b6277"
      },
      "execution_count": null,
      "outputs": [
        {
          "output_type": "stream",
          "name": "stdout",
          "text": [
            "Ingrese un numero entero: 13\n",
            "Tabla del 13:\n",
            "13 x 0 = 0\n",
            "13 x 1 = 13\n",
            "13 x 2 = 26\n",
            "13 x 3 = 39\n",
            "13 x 4 = 52\n",
            "13 x 5 = 65\n",
            "13 x 6 = 78\n",
            "13 x 7 = 91\n",
            "13 x 8 = 104\n",
            "13 x 9 = 117\n",
            "13 x 10 = 130\n"
          ]
        }
      ]
    },
    {
      "cell_type": "code",
      "source": [
        "def tabla_multiplicar(numero):\n",
        "    print(f\"Tabla de multiplicar del {numero}:\")\n",
        "    for i in range(11):\n",
        "        print(f\"{numero} x {i} = {numero * i}\")\n",
        "\n",
        "# Uso de la función\n",
        "tabla_multiplicar(7)"
      ],
      "metadata": {
        "id": "eDAOW6vbmTR5"
      },
      "execution_count": null,
      "outputs": []
    },
    {
      "cell_type": "markdown",
      "source": [
        "3 - Crea una función que lea la siguiente lista y devuelva una nueva lista con los múltiplos de 3:\n",
        "\n",
        "```\n",
        "[97, 80, 94, 88, 80, 1, 16, 53, 62, 32, 24, 99]\n",
        "```"
      ],
      "metadata": {
        "id": "DNDDeLBx5UEU"
      }
    },
    {
      "cell_type": "code",
      "source": [
        "lista = [97, 80, 94, 88, 80, 1, 16, 53, 62, 32, 24, 99]\n",
        "\n",
        "def multiplos_3(lista : list=[]) -> list:\n",
        "  '''Funcion que lee una lista y devuelve una nueva lista con los elementos de la lista leida que son multiplos de 3\n",
        "\n",
        "  lista : list, default []\n",
        "  Lista de numeros enteros a evaluar si son multiplos de 3\n",
        "\n",
        "  return = multiplos : list\n",
        "  Retorna una lista con los numeros que son multiplos de 3 de la lista recibida como parametro\n",
        "  '''\n",
        "  # Definimos la lista de multiplos vacia\n",
        "  multiplos=[]\n",
        "  # Evalaumos los items de la lista con un bucle\n",
        "  for i in lista:\n",
        "    # Evaluamos si el item es divisible entre 3\n",
        "    if i % 3 == 0:\n",
        "      # Si el numero es divisible entre 3, lo agregamos a la lista de multiplos\n",
        "      multiplos.append(i)\n",
        "  # Devolvemos la lista con los multiplos encontrados.\n",
        "  return multiplos\n",
        "\n",
        "multiplos = multiplos_3(lista)\n",
        "\n",
        "print(multiplos)"
      ],
      "metadata": {
        "colab": {
          "base_uri": "https://localhost:8080/"
        },
        "id": "VLhzlnSw5eoh",
        "outputId": "8523f985-b0ca-4922-901f-7273da91e7bd"
      },
      "execution_count": null,
      "outputs": [
        {
          "output_type": "stream",
          "name": "stdout",
          "text": [
            "[24, 99]\n"
          ]
        }
      ]
    },
    {
      "cell_type": "code",
      "source": [
        "# Solucion Instructor\n",
        "def multiplos_de_tres(lista):\n",
        "    return [num for num in lista if num % 3 == 0]\n",
        "\n",
        "# Uso de la función\n",
        "lista_original = [97, 80, 94, 88, 80, 1, 16, 53, 62, 32, 24, 99]\n",
        "mult_3 = multiplos_de_tres(lista_original)\n",
        "print(mult_3)\n"
      ],
      "metadata": {
        "id": "ycjVhAgmmZAd"
      },
      "execution_count": null,
      "outputs": []
    },
    {
      "cell_type": "code",
      "source": [
        "def multiplos_3(lista : list=[]) -> list:\n",
        "  '''Funcion que lee una lista y devuelve una nueva lista con los elementos de la lista leida que son multiplos de 3\n",
        "\n",
        "  lista : list, default []\n",
        "  Lista de numeros enteros a evaluar si son multiplos de 3\n",
        "\n",
        "  return = multiplos : list\n",
        "  Retorna una lista con los numeros que son multiplos de 3 de la lista recibida como parametro\n",
        "  '''\n",
        "  return [num for num in lista if num % 3 == 0]\n",
        "\n",
        "lista = [97, 80, 94, 88, 80, 1, 16, 53, 62, 32, 24, 99]\n",
        "\n",
        "multiplos = multiplos_3(lista)\n",
        "\n",
        "print(multiplos)"
      ],
      "metadata": {
        "colab": {
          "base_uri": "https://localhost:8080/"
        },
        "id": "mjTlQKSwlM_-",
        "outputId": "86c1d6ec-fcd4-47f6-a863-c92d6284acd9"
      },
      "execution_count": null,
      "outputs": [
        {
          "output_type": "stream",
          "name": "stdout",
          "text": [
            "[24, 99]\n"
          ]
        }
      ]
    },
    {
      "cell_type": "code",
      "source": [
        "def multiplos_3(lista : list=[]) -> list:\n",
        "  '''Funcion que lee una lista y devuelve una nueva lista con los elementos de la lista leida que son multiplos de 3\n",
        "\n",
        "  lista : list, default []\n",
        "  Lista de numeros enteros a evaluar si son multiplos de 3\n",
        "\n",
        "  return = multiplos : list\n",
        "  Retorna una lista con los numeros que son multiplos de 3 de la lista recibida como parametro\n",
        "  '''\n",
        "  return [num for num in lista if num % 3 == 0]\n",
        "\n",
        "lista = [97, 80, 94, 88, 80, 1, 16, 53, 62, 32, 24, 99]\n",
        "\n",
        "multiplos = multiplos_3(lista)\n",
        "\n",
        "print(multiplos)"
      ],
      "metadata": {
        "id": "svwhOLrilrhX"
      },
      "execution_count": null,
      "outputs": []
    },
    {
      "cell_type": "markdown",
      "source": [
        "4 - Crea una lista de los cuadrados de los números de la siguiente lista [1, 2, 3, 4, 5, 6, 7, 8, 9, 10]. Recuerda utilizar las funciones lambda y map() para calcular el cuadrado de cada elemento de la lista."
      ],
      "metadata": {
        "id": "1LUZGsRWFZ55"
      }
    },
    {
      "cell_type": "code",
      "source": [
        "numeros = [1, 2, 3, 4, 5, 6, 7, 8, 9, 10]\n",
        "\n",
        "cuadrados = list(map(lambda x: pow(x,2), numeros))\n",
        "print(cuadrados)"
      ],
      "metadata": {
        "colab": {
          "base_uri": "https://localhost:8080/"
        },
        "id": "TUhP7-TWFdnJ",
        "outputId": "a5edb811-1399-4d21-8d23-898fa4916166"
      },
      "execution_count": null,
      "outputs": [
        {
          "output_type": "stream",
          "name": "stdout",
          "text": [
            "[1, 4, 9, 16, 25, 36, 49, 64, 81, 100]\n"
          ]
        }
      ]
    },
    {
      "cell_type": "code",
      "source": [
        "# Solucion Instructor\n",
        "numeros = [1, 2, 3, 4, 5, 6, 7, 8, 9, 10]\n",
        "cuadrados = list(map(lambda x: x**2, numeros))\n",
        "print(cuadrados)\n"
      ],
      "metadata": {
        "id": "ySHgftdLmuJL"
      },
      "execution_count": null,
      "outputs": []
    },
    {
      "cell_type": "markdown",
      "source": [
        "## Aplicando a proyectos\n",
        "\n",
        "5 - Has sido contratado como científico(a) de datos de una asociación de skate. Para analizar las notas recibidas por los skaters en algunas competiciones a lo largo del año, necesitas crear un código que calcule la puntuación de los atletas. Para ello, tu código debe recibir 5 notas ingresadas por los jueces."
      ],
      "metadata": {
        "id": "DNdWn5i_GEGl"
      }
    },
    {
      "cell_type": "code",
      "source": [
        "def calcular_puntuacion () -> float:\n",
        "  acum_notas = 0\n",
        "  for i in range(1,6):\n",
        "    nota = float(input(f'Ingrese nota Juez {i}:'))\n",
        "    acum_notas += nota\n",
        "  puntos = round(acum_notas / 5, 2)\n",
        "  return puntos"
      ],
      "metadata": {
        "id": "V1ag9aLYGG0k"
      },
      "execution_count": null,
      "outputs": []
    },
    {
      "cell_type": "code",
      "source": [
        "calcular_puntuacion()"
      ],
      "metadata": {
        "colab": {
          "base_uri": "https://localhost:8080/"
        },
        "id": "IbOXJdIDJnHN",
        "outputId": "cf1683da-a549-4f77-c1fd-70b4db725854"
      },
      "execution_count": null,
      "outputs": [
        {
          "name": "stdout",
          "output_type": "stream",
          "text": [
            "Ingrese nota Juez 1:8.9\n",
            "Ingrese nota Juez 2:9.1\n",
            "Ingrese nota Juez 3:9.3\n",
            "Ingrese nota Juez 4:8.9\n",
            "Ingrese nota Juez 5:9.2\n"
          ]
        },
        {
          "output_type": "execute_result",
          "data": {
            "text/plain": [
              "9.08"
            ]
          },
          "metadata": {},
          "execution_count": 27
        }
      ]
    },
    {
      "cell_type": "code",
      "source": [
        "# Solucion Instructor\n",
        "notas = [float(input(f\"Ingrese la nota {i + 1}: \")) for i in range(5)]\n",
        "notas.sort()\n",
        "media = sum(notas[1:4]) / 3\n",
        "print(f\"Nota de la maniobra: {media:.2f}\")\n"
      ],
      "metadata": {
        "colab": {
          "base_uri": "https://localhost:8080/"
        },
        "id": "jmSSqmi9nBoL",
        "outputId": "3ef46b37-0dfa-47d2-a377-ec3512b16dde"
      },
      "execution_count": null,
      "outputs": [
        {
          "output_type": "stream",
          "name": "stdout",
          "text": [
            "Ingrese la nota 1: 8.9\n",
            "Ingrese la nota 2: 9.1\n",
            "Ingrese la nota 3: 9.3\n",
            "Ingrese la nota 4: 8.9\n",
            "Ingrese la nota 5: 9.2\n",
            "Nota de la maniobra: 9.07\n"
          ]
        }
      ]
    },
    {
      "cell_type": "code",
      "source": [
        "notas = [float(input(f\"Ingrese la nota {i + 1}: \")) for i in range(5)]\n",
        "notas.sort()\n",
        "media = sum(notas) / 5\n",
        "print(f\"Nota de la maniobra: {media:.2f}\")\n"
      ],
      "metadata": {
        "colab": {
          "base_uri": "https://localhost:8080/"
        },
        "id": "QMGlXOYahNDd",
        "outputId": "b5c122a8-0bf1-46b2-f5df-69efbb2521ad"
      },
      "execution_count": null,
      "outputs": [
        {
          "output_type": "stream",
          "name": "stdout",
          "text": [
            "Ingrese la nota 1: 8.9\n",
            "Ingrese la nota 2: 9.1\n",
            "Ingrese la nota 3: 9.3\n",
            "Ingrese la nota 4: 8.9\n",
            "Ingrese la nota 5: 9.2\n",
            "Nota de la maniobra: 9.08\n"
          ]
        }
      ]
    },
    {
      "cell_type": "markdown",
      "source": [
        "6 - Para cumplir con una demanda de una institución educativa para el análisis del rendimiento de sus estudiantes, necesitas crear una función que reciba una lista de 4 notas y devuelva:\n",
        "```\n",
        "# mayor nota\n",
        "# menor nota\n",
        "# media\n",
        "# situación (Aprobado(a) o Reprobado(a))\n",
        "# Uso de la función\n",
        "# Mostrar: El estudiante obtuvo una media de `media`, con la mayor nota de `mayor` puntos y la menor nota de `menor` puntos y fue `situacion`.)\n",
        "```"
      ],
      "metadata": {
        "id": "3FPunMg0JvO9"
      }
    },
    {
      "cell_type": "code",
      "source": [
        "notas = [6.5, 7.5, 9.5, 6.0]\n",
        "\n",
        "def reporte_academico(lista: list=[0]) -> str:\n",
        "  mayor = max(lista)\n",
        "  menor = min(lista)\n",
        "  media = sum(lista) / len(lista)\n",
        "  if media >= 7:\n",
        "    situacion  = 'Aprobado(a)'\n",
        "  else:\n",
        "    situacion  = 'Reprobado(a)'\n",
        "  print(f'El estudiante obtuvo una media de {media}, con la mayor nota de {mayor} puntos y la menor nota de {menor} puntos y fue {situacion}.')\n",
        "\n",
        "reporte_academico(notas)"
      ],
      "metadata": {
        "colab": {
          "base_uri": "https://localhost:8080/"
        },
        "id": "Fzb4oFEzJ-QY",
        "outputId": "1047b34c-2bba-4209-cc0e-a1076bf51d20"
      },
      "execution_count": null,
      "outputs": [
        {
          "output_type": "stream",
          "name": "stdout",
          "text": [
            "El estudiante obtuvo una media de 7.375, con la mayor nota de 9.5 puntos y la menor nota de 6.0 puntos y fue Aprobado(a).\n"
          ]
        }
      ]
    },
    {
      "cell_type": "code",
      "source": [
        "# Solucion instructor\n",
        "def analisis_notas(notas):\n",
        "    mayor = max(notas)\n",
        "    menor = min(notas)\n",
        "    media = sum(notas) / len(notas)\n",
        "    situacion = \"Aprobado\" if media >= 6 else \"Reprobado\"\n",
        "    return mayor, menor, media, situacion\n",
        "\n",
        "# Uso de la función\n",
        "notas_estudiante = [float(input(f\"Ingrese la nota {i + 1}: \")) for i in range(4)]\n",
        "resultado = analisis_notas(notas_estudiante)\n",
        "print(f\"El estudiante obtuvo una media de {resultado[2]:.2f}, con la mayor nota de {resultado[0]:.2f} puntos y la menor nota de {resultado[1]:.2f} puntos y fue {resultado[3]}\")\n"
      ],
      "metadata": {
        "id": "ynerG5mgn7Ri"
      },
      "execution_count": null,
      "outputs": []
    },
    {
      "cell_type": "code",
      "source": [
        "def reporte_academico(lista: list=[0]) -> tuple:\n",
        "  mayor = max(lista)\n",
        "  menor = min(lista)\n",
        "  media = sum(lista) / len(lista)\n",
        "  situacion = 'Aprobado(a)' if media >= 7 else 'Reprobado(a)'\n",
        "  return mayor, menor, media, situacion\n",
        "\n",
        "notas = [float(input(f\"Ingrese la nota {i + 1}: \")) for i in range(4)]\n",
        "\n",
        "resultado = reporte_academico(notas)\n",
        "print(f'El estudiante obtuvo una media de {resultado[2]:.2f}, con la mayor nota de {resultado[0]:.2f} puntos y la menor nota de {resultado[1]:.2f} puntos y fue {resultado[3]}.')\n",
        "\n"
      ],
      "metadata": {
        "colab": {
          "base_uri": "https://localhost:8080/"
        },
        "id": "Kjee7gl0i1k2",
        "outputId": "222514d2-f048-49b2-ad7e-7503efb1f28f"
      },
      "execution_count": null,
      "outputs": [
        {
          "output_type": "stream",
          "name": "stdout",
          "text": [
            "Ingrese la nota 1: 6.5\n",
            "Ingrese la nota 2: 7.5\n",
            "Ingrese la nota 3: 9\n",
            "Ingrese la nota 4: 6.5\n",
            "El estudiante obtuvo una media de 7.38, con la mayor nota de 9.00 puntos y la menor nota de 6.50 puntos y fue Aprobado(a).\n"
          ]
        }
      ]
    },
    {
      "cell_type": "markdown",
      "source": [
        "7 - Has recibido una demanda para tratar 2 listas con los nombres y apellidos de cada estudiante concatenándolos para presentar sus nombres completos en la forma Nombre Apellido. Las listas son:\n",
        "```\n",
        "nombres = [\"juan\", \"MaRia\", \"JOSÉ\"]\n",
        "apellidos = [\"SILVA\", \"sosa\", \"Tavares\"]\n",
        "# Normalizar nombres y apellidos y crear una nueva lista con los nombres completos\n",
        "# Puedes apoyarte en la función map()\n",
        "```\n",
        "\n",
        "\n"
      ],
      "metadata": {
        "id": "cnLPF7s5L5Wr"
      }
    },
    {
      "cell_type": "code",
      "source": [
        "nombres = [\"juan\", \"MaRia\", \"JOSÉ\"]\n",
        "apellidos = [\"SILVA\", \"sosa\", \"Tavares\"]\n",
        "\n",
        "nombres_completos = list(map(lambda x, y: x.capitalize() + ' ' + y.capitalize(), nombres, apellidos ))\n",
        "print(f'Nombres completos: {nombres_completos}')"
      ],
      "metadata": {
        "colab": {
          "base_uri": "https://localhost:8080/"
        },
        "id": "RO7v8SWkMN_3",
        "outputId": "2ad9f0eb-7f89-42b2-9dd4-ec53652945e1"
      },
      "execution_count": null,
      "outputs": [
        {
          "output_type": "stream",
          "name": "stdout",
          "text": [
            "Nombres completos: ['Juan Silva', 'Maria Sosa', 'José Tavares']\n"
          ]
        }
      ]
    },
    {
      "cell_type": "code",
      "source": [
        "nombres = [\"juan\", \"MaRia\", \"JOSÉ\"]\n",
        "sobrenombres = [\"SILVA\", \"sosa\", \"Tavares\"]\n",
        "\n",
        "# Normalizar nombres y apellidos y crear una nueva lista con los nombres completos\n",
        "nombres_normalizados = map(lambda x: x.capitalize(), nombres)\n",
        "sobrenombres_normalizados = map(lambda x: x.capitalize(), sobrenombres)\n",
        "nombres_completos = list(map(lambda x, y: f\"Nome completo: {x} {y}\", nombres_normalizados, sobrenombres_normalizados))\n",
        "print(nombres_completos)"
      ],
      "metadata": {
        "colab": {
          "base_uri": "https://localhost:8080/"
        },
        "id": "Qxr9U3L2oaPA",
        "outputId": "a2e07c27-ce5d-40af-c836-f26cc9be5f5a"
      },
      "execution_count": null,
      "outputs": [
        {
          "output_type": "stream",
          "name": "stdout",
          "text": [
            "['Nome completo: Juan Silva', 'Nome completo: Maria Sosa', 'Nome completo: José Tavares']\n"
          ]
        }
      ]
    },
    {
      "cell_type": "code",
      "source": [
        "nombres = [\"juan\", \"MaRia\", \"JOSÉ\"]\n",
        "apellidos = [\"SILVA\", \"sosa\", \"Tavares\"]\n",
        "\n",
        "nombres_normalizados = list(map(lambda x: x.capitalize(), nombres))\n",
        "apellidos_normalizados = list(map(lambda x: x.capitalize(), apellidos))\n",
        "nombres_completos = list(map(lambda x, y: f'{x} {y}', nombres_normalizados, apellidos_normalizados))\n",
        "print(f'Nombres completos: {nombres_completos}')"
      ],
      "metadata": {
        "colab": {
          "base_uri": "https://localhost:8080/"
        },
        "id": "JlOAEftvkf7H",
        "outputId": "acafc1e0-cabc-45a9-83b0-28169e0465f3"
      },
      "execution_count": null,
      "outputs": [
        {
          "output_type": "stream",
          "name": "stdout",
          "text": [
            "Nombres completos: ['Juan Silva', 'Maria Sosa', 'José Tavares']\n"
          ]
        }
      ]
    },
    {
      "cell_type": "markdown",
      "source": [
        "8 - Como científico de datos en un equipo de fútbol, necesitas implementar nuevas formas de recopilación de datos sobre el rendimiento de los jugadores y del equipo en su conjunto. Tu primera acción es crear una forma de calcular la puntuación del equipo en el campeonato nacional a partir de los datos de goles marcados y recibidos en cada juego.\n",
        "\n",
        "Escribe una función llamada calcula_puntos() que recibe como parámetros dos listas de números enteros, representando los goles marcados y recibidos por el equipo en cada partido del campeonato. La función debe devolver la puntuación del equipo y el rendimiento en porcentaje, teniendo en cuenta que la victoria vale 3 puntos, el empate 1 punto y la derrota 0 puntos.\n",
        "\n",
        "Nota: si la cantidad de goles marcados en un partido es mayor que los recibidos, el equipo ganó. En caso de ser igual, el equipo empató, y si es menor, el equipo perdió. Para calcular el rendimiento, debemos hacer la razón entre la puntuación del equipo y la puntuación máxima que podría recibir.\n",
        "\n",
        "Para la prueba, utiliza las siguientes listas de goles marcados y recibidos:\n",
        "\n",
        "```\n",
        "goles_marcados = [2, 1, 3, 1, 0]\n",
        "goles_recibidos = [1, 2, 2, 1, 3]\n",
        "# Texto probablemente mostrado:\n",
        "# La puntuación del equipo fue `puntos` y su rendimiento fue `desempeno`%\"\n",
        "```"
      ],
      "metadata": {
        "id": "xUIoSwInOLhc"
      }
    },
    {
      "cell_type": "code",
      "source": [
        "goles_marcados = [2, 1, 3, 1, 0]\n",
        "goles_recibidos = [1, 2, 2, 1, 3]\n",
        "\n",
        "def calcula_puntos(marcados : list=[0], recibidos: list=[0]) -> str:\n",
        "  puntos = 0\n",
        "  ganados = 0\n",
        "  perdidos = 0\n",
        "  empatados = 0\n",
        "  if len(marcados) == len(recibidos):\n",
        "    maximo_puntos = len(marcados)*3\n",
        "    for i in range(0,len(marcados)):\n",
        "      if marcados[i] > recibidos[i]:\n",
        "        puntos += 3\n",
        "        ganados += 1\n",
        "      elif marcados[i] == recibidos[i]:\n",
        "        puntos += 1\n",
        "        empatados += 1\n",
        "      else:\n",
        "        perdidos += 1\n",
        "    desempeño = round(100 * (puntos / maximo_puntos), 2)\n",
        "    favor = sum(marcados)\n",
        "    contra = sum(recibidos)\n",
        "    diferencia = favor - contra\n",
        "    print(f'La puntuación del equipo fue {puntos} y su rendimiento fue {desempeño}%')\n",
        "    print(f'Partidos gandados: {ganados}, Partidos empatados: {empatados}, Partidos Perdidos: {perdidos}')\n",
        "    print(f'Goles a favor: {favor}, Goles en contra: {contra}, Diferencia de goles: {diferencia}')\n",
        "  else:\n",
        "    print('Faltan datos')\n",
        "\n",
        "calcula_puntos(goles_marcados, goles_recibidos)"
      ],
      "metadata": {
        "colab": {
          "base_uri": "https://localhost:8080/"
        },
        "id": "Y9ZENPtSOmJE",
        "outputId": "9940a362-846b-46f6-8da0-ede9302862fe"
      },
      "execution_count": null,
      "outputs": [
        {
          "output_type": "stream",
          "name": "stdout",
          "text": [
            "La puntuación del equipo fue 7 y su rendimiento fue 46.67%\n",
            "Partidos gandados: 2, Partidos empatados: 1, Partidos Perdidos: 2\n",
            "Goles a favor: 7, Goles en contra: 9, Diferencia de goles: -2\n"
          ]
        }
      ]
    },
    {
      "cell_type": "code",
      "source": [
        "# Solucion Instructor\n",
        "goles_marcados = [2, 1, 3, 1, 0]\n",
        "goles_sofridos = [1, 2, 2, 1, 3]\n",
        "\n",
        "def calcula_puntos(goles_marcados, goles_sofridos):\n",
        "  puntos = 0\n",
        "  for i in range(len(goles_marcados)):\n",
        "    if goles_marcados[i] > goles_sofridos[i]:\n",
        "      puntos += 3\n",
        "    elif goles_marcados[i] == goles_sofridos[i]:\n",
        "      puntos += 1\n",
        "  aprob = 100 * puntos / (len(goles_marcados) * 3)\n",
        "  return (puntos, aprob)\n",
        "\n",
        "puntos, aprob = calcula_puntos(goles_marcados, goles_sofridos)\n",
        "print(f\"La puntuación del equipo fue de {puntos} y su rendimiento fue de {round(aprob)}%\")"
      ],
      "metadata": {
        "id": "A0HrfCPLZDrm"
      },
      "execution_count": null,
      "outputs": []
    },
    {
      "cell_type": "code",
      "source": [
        "goles_marcados = [2, 1, 3, 1, 0]\n",
        "goles_recibidos = [1, 2, 2, 1, 3]\n",
        "\n",
        "def calcula_puntos(marcados : list=[0], recibidos: list=[0]) -> tuple:\n",
        "  puntos = 0\n",
        "  ganados = 0\n",
        "  perdidos = 0\n",
        "  empatados = 0\n",
        "\n",
        "  if len(marcados) == len(recibidos):\n",
        "    for i in range(0,len(marcados)):\n",
        "      if marcados[i] > recibidos[i]:\n",
        "        puntos += 3\n",
        "        ganados += 1\n",
        "      elif marcados[i] == recibidos[i]:\n",
        "        puntos += 1\n",
        "        empatados += 1\n",
        "      else:\n",
        "        perdidos += 1\n",
        "\n",
        "    desempeño = 100 * (puntos / (len(marcados)*3))\n",
        "    favor = sum(marcados)\n",
        "    contra = sum(recibidos)\n",
        "    diferencia = favor - contra\n",
        "\n",
        "    return(puntos, desempeño, ganados, perdidos, empatados, favor, contra, diferencia)\n",
        "\n",
        "  else:\n",
        "    print('ERROR Faltan datos')\n",
        "    return(0)\n",
        "\n",
        "resultados = calcula_puntos(goles_marcados, goles_recibidos)\n",
        "\n",
        "if resultados != 0:\n",
        "  print(f'La puntuación del equipo fue {resultados[0]} y su rendimiento fue {resultados[1]:.2f}%')\n",
        "  print(f'Partidos gandados: {resultados[2]}, Partidos empatados: {resultados[3]}, Partidos Perdidos: {resultados[4]}')\n",
        "  print(f'Goles a favor: {resultados[5]}, Goles en contra: {resultados[6]}, Diferencia de goles: {resultados[7]}')\n"
      ],
      "metadata": {
        "colab": {
          "base_uri": "https://localhost:8080/"
        },
        "id": "gyb9GBGNtTHw",
        "outputId": "daf1c70a-41e8-4619-d118-2b3f1c6b3d67"
      },
      "execution_count": null,
      "outputs": [
        {
          "output_type": "stream",
          "name": "stdout",
          "text": [
            "La puntuación del equipo fue 7 y su rendimiento fue 46.67%\n",
            "Partidos gandados: 2, Partidos empatados: 2, Partidos Perdidos: 1\n",
            "Goles a favor: 7, Goles en contra: 9, Diferencia de goles: -2\n"
          ]
        }
      ]
    },
    {
      "cell_type": "markdown",
      "source": [
        "9 - Te han desafiado a crear un código que calcule los gastos de un viaje a una de las cuatro ciudades desde Recife, siendo ellas: Salvador, Fortaleza, Natal y Aracaju.\n",
        "\n",
        "El costo diario del hotel es de 150 reales en todas ellas y el consumo de gasolina en el viaje en coche es de 14 km/l, siendo que el precio de la gasolina es de 5 reales por litro. Los gastos con paseos y alimentación a realizar en cada una de ellas por día serían [200, 400, 250, 300], respectivamente.\n",
        "\n",
        "Sabiendo que las distancias entre Recife y cada una de las ciudades son aproximadamente [850, 800, 300, 550] km, crea tres funciones: la primera función calcula los gastos de hotel (gasto_hotel), la segunda calcula los gastos de gasolina (gasto_gasolina) y la tercera los gastos de paseo y alimentación (gasto_paseo).\n",
        "\n",
        "Para probar, simula un viaje de 3 días a Salvador desde Recife. Considera el viaje de ida y vuelta en coche.\n",
        "\n",
        "```\n",
        "# Texto probablemente mostrado:\n",
        "# Con base en los gastos definidos, un viaje de [dias] días a [ciudad] desde\n",
        "# Recife costaría [gastos] reales.\n",
        "```"
      ],
      "metadata": {
        "id": "XNUxr6ouTB0u"
      }
    },
    {
      "cell_type": "code",
      "source": [
        "def gasto_hotel (dias : int, costo: float) -> float:\n",
        "  '''Funcion que calcula el gasto total de hotel para un viaje, recibe como\n",
        "  parametros el costo diario y la cantidad de dias\n",
        "\n",
        "  Devuelve el producto de los parametros recibos\n",
        "\n",
        "  dias: int\n",
        "  Cantidad de dias\n",
        "\n",
        "  costo: float\n",
        "  Costo diario de alojamiento\n",
        "\n",
        "  return = calculo_gasto_hotel : float\n",
        "  '''\n",
        "  calculo_gasto_hotel = dias * costo\n",
        "  return calculo_gasto_hotel\n",
        "\n",
        "def gasto_gasolina (precio: float, km: float, km_l: float) -> float:\n",
        "  '''Funcion que calcula el gasto total de combustible para un viaje,\n",
        "  recibe como parametros el precio del combustible,\n",
        "  la distancia a recorrer y el consumo por litro de combustible\n",
        "\n",
        "  Devuelve el gasto para el viaje de ida y vuelta\n",
        "\n",
        "  El gasto es el producto del precio del combustible por la cantidad de litros\n",
        "  segun la distancia y el consumo de litros por km\n",
        "  El costo se multiplica por 2 para el viaje de ida vuelta.\n",
        "\n",
        "  precio: int\n",
        "  Precio del litro de combustible por litro\n",
        "\n",
        "  km: float\n",
        "  Distancia a recorrer de ida y de vuelta en km\n",
        "\n",
        "  km_l: float\n",
        "  Consumo de gasolina en km/l\n",
        "\n",
        "  return = calculo_gasto_gasolina : float\n",
        "  '''\n",
        "  calculo_gasto_gasolina = 2 * (precio * (km / km_l))\n",
        "  return calculo_gasto_gasolina\n",
        "\n",
        "def gasto_paseo (dias : int, costo: float) -> float:\n",
        "  '''Funcion que calcula el gasto total de alimentacion para un viaje,\n",
        "  recibe como parametros el costo diario de alimentacion y la cantidad de dias\n",
        "\n",
        "  Devuelve el producto de los parametros recibidos\n",
        "\n",
        "  dias: int\n",
        "  Cantidad de dias\n",
        "\n",
        "  costo: float\n",
        "  Costo diario de alimentacion\n",
        "\n",
        "  return = calculo_gasto_paseo : float\n",
        "  '''\n",
        "  calculo_gasto_paseo = dias * costo\n",
        "  return calculo_gasto_paseo\n",
        "\n",
        "costo_hotel = 150\n",
        "consumo_gasolina = 14\n",
        "precio_gasolina = 5\n",
        "costos_paseo = [200, 400, 250, 300]\n",
        "distancias = [850, 800, 300, 550]\n",
        "ciudades = ['Salvador', 'Fortaleza', 'Natal', 'Aracaju']\n",
        "\n",
        "opcion = int(input('Elija la ciudad destino: Salvador (0), Fortaleza (1), Natal (2), Aracaju (3): '))\n",
        "dias = int(input('Especifique la cantidad de dias del viaje: '))\n",
        "\n",
        "gastos_hotel = gasto_hotel(dias, costo_hotel)\n",
        "gastos_gasolina = gasto_gasolina(precio_gasolina, distancias[opcion], consumo_gasolina)\n",
        "gastos_paseo = gasto_paseo(dias, costos_paseo[opcion])\n",
        "\n",
        "gastos = gastos_hotel + gastos_gasolina + gastos_paseo\n",
        "gastos = round(gastos, 2)\n",
        "\n",
        "print('Con base en los gastos definidos, un viaje de {} días a {} desde Recife costaría {} reales.' .format(dias,ciudades[opcion],gastos))"
      ],
      "metadata": {
        "colab": {
          "base_uri": "https://localhost:8080/"
        },
        "id": "Bm3jsAiJTIgy",
        "outputId": "67ba5631-fc77-4e40-8515-fdf1c0b53049"
      },
      "execution_count": null,
      "outputs": [
        {
          "output_type": "stream",
          "name": "stdout",
          "text": [
            "Elija la ciudad destino: Salvador (0), Fortaleza (1), Natal (2), Aracaju (3): 3\n",
            "Especifique la cantidad de dias del viaje: 3\n",
            "Con base en los gastos definidos, un viaje de 3 días a Aracaju desde Recife costaría 1742.86 reales.\n"
          ]
        }
      ]
    },
    {
      "cell_type": "code",
      "source": [
        "def gasto_hotel (dias : int, costo: float) -> float:\n",
        "  '''Funcion que calcula el gasto total de hotel para un viaje, recibe como\n",
        "  parametros el costo diario y la cantidad de dias\n",
        "\n",
        "  Devuelve el producto de los parametros recibos\n",
        "\n",
        "  dias: int\n",
        "  Cantidad de dias\n",
        "\n",
        "  costo: float\n",
        "  Costo diario de alojamiento\n",
        "\n",
        "  return = calculo_gasto_hotel : float\n",
        "  '''\n",
        "  calculo_gasto_hotel = dias * costo\n",
        "  return calculo_gasto_hotel\n",
        "\n",
        "def gasto_gasolina (precio: float, km: float, km_l: float) -> float:\n",
        "  '''Funcion que calcula el gasto total de combustible para un viaje,\n",
        "  recibe como parametros el precio del combustible,\n",
        "  la distancia a recorrer y el consumo por litro de combustible\n",
        "\n",
        "  Devuelve el gasto para el viaje de ida y vuelta\n",
        "\n",
        "  El gasto es el producto del precio del combustible por la cantidad de litros\n",
        "  segun la distancia y el consumo de litros por km\n",
        "  El costo se multiplica por 2 para el viaje de ida vuelta.\n",
        "\n",
        "  precio: int\n",
        "  Precio del litro de combustible por litro\n",
        "\n",
        "  km: float\n",
        "  Distancia a recorrer de ida y de vuelta en km\n",
        "\n",
        "  km_l: float\n",
        "  Consumo de gasolina en km/l\n",
        "\n",
        "  return = calculo_gasto_gasolina : float\n",
        "  '''\n",
        "  calculo_gasto_gasolina = 2 * (precio * (km / km_l))\n",
        "  return calculo_gasto_gasolina\n",
        "\n",
        "def gasto_paseo (dias : int, costo: float) -> float:\n",
        "  '''Funcion que calcula el gasto total de alimentacion para un viaje,\n",
        "  recibe como parametros el costo diario de alimentacion y la cantidad de dias\n",
        "\n",
        "  Devuelve el producto de los parametros recibidos\n",
        "\n",
        "  dias: int\n",
        "  Cantidad de dias\n",
        "\n",
        "  costo: float\n",
        "  Costo diario de alimentacion\n",
        "\n",
        "  return = calculo_gasto_paseo : float\n",
        "  '''\n",
        "  calculo_gasto_paseo = dias * costo\n",
        "  return calculo_gasto_paseo\n",
        "\n",
        "costo_hotel = 150\n",
        "consumo_gasolina = 14\n",
        "precio_gasolina = 5\n",
        "costos_paseo = [200, 400, 250, 300]\n",
        "distancias = [850, 800, 300, 550]\n",
        "ciudades = ['Salvador', 'Fortaleza', 'Natal', 'Aracaju']\n",
        "\n",
        "opcion = ciudades.index(input(f'Elija la ciudad destino: {ciudades}: '))\n",
        "dias = int(input('Especifique la cantidad de dias del viaje: '))\n",
        "\n",
        "gastos_hotel = gasto_hotel(dias, costo_hotel)\n",
        "gastos_gasolina = gasto_gasolina(precio_gasolina, distancias[opcion], consumo_gasolina)\n",
        "gastos_paseo = gasto_paseo(dias, costos_paseo[opcion])\n",
        "\n",
        "gastos = gastos_hotel + gastos_gasolina + gastos_paseo\n",
        "\n",
        "print('Con base en los gastos definidos, un viaje de {} días a {} desde Recife costaría {:.2f} reales.' .format(dias,ciudades[opcion],gastos))"
      ],
      "metadata": {
        "colab": {
          "base_uri": "https://localhost:8080/"
        },
        "id": "K7h0vEBe2HiN",
        "outputId": "331a5cc7-a110-42bf-fa7a-86a8704404d8"
      },
      "execution_count": null,
      "outputs": [
        {
          "output_type": "stream",
          "name": "stdout",
          "text": [
            "Elija la ciudad destino: ['Salvador', 'Fortaleza', 'Natal', 'Aracaju']: Salvador\n",
            "Especifique la cantidad de dias del viaje: 3\n",
            "Con base en los gastos definidos, un viaje de 3 días a Salvador desde Recife costaría 1657.14 reales.\n"
          ]
        }
      ]
    },
    {
      "cell_type": "code",
      "source": [
        "# Solucion Instructor\n",
        "dias = int(input(\"¿Cuántas diarias? \"))\n",
        "ciudad = input(\"¿Cuál es la ciudad? [Salvador, Fortaleza, Natal o Aracaju]: \")\n",
        "distancias = [850, 800, 300, 550]\n",
        "paseo = [200, 400, 250, 300]\n",
        "km_l = 14\n",
        "gasolina = 5\n",
        "\n",
        "def gasto_hotel(dias):\n",
        "    return 150 * dias\n",
        "\n",
        "def gasto_gasolina(ciudad):\n",
        "    if ciudad == \"Salvador\":\n",
        "        return (2 * distancias[0] * gasolina) / km_l\n",
        "    elif ciudad == \"Fortaleza\":\n",
        "        return (2 * distancias[1] * gasolina) / km_l\n",
        "    elif ciudad == \"Natal\":\n",
        "        return (2 * distancias[2] * gasolina) / km_l\n",
        "    elif ciudad == \"Aracaju\":\n",
        "        return (2 * distancias[3] * gasolina) / km_l\n",
        "\n",
        "def gasto_paseo(ciudad, dias):\n",
        "    if ciudad==\"Salvador\":\n",
        "        return paseo[0] * dias\n",
        "    elif ciudad==\"Fortaleza\":\n",
        "        return paseo[1] * dias\n",
        "    elif ciudad==\"Natal\":\n",
        "        return paseo[2] * dias\n",
        "    elif ciudad==\"Aracaju\":\n",
        "        return paseo[3] * dias\n",
        "\n",
        "gastos = gasto_hotel(dias) + gasto_gasolina(ciudad) + gasto_paseo(ciudad, dias)\n",
        "print(f\"Con base en los gastos definidos, un viaje de {dias} días a {ciudad} desde Recife costaría {round(gastos, 2)} reales\")\n"
      ],
      "metadata": {
        "colab": {
          "base_uri": "https://localhost:8080/"
        },
        "id": "yM-oBuHJZkbD",
        "outputId": "ea5c3ac3-13b0-43db-8ee6-51c7c485e3df"
      },
      "execution_count": null,
      "outputs": [
        {
          "output_type": "stream",
          "name": "stdout",
          "text": [
            "¿Cuántas diarias? 3\n",
            "¿Cuál es la ciudad? [Salvador, Fortaleza, Natal o Aracaju]: Aracaju\n",
            "Con base en los gastos definidos, un viaje de 3 días a Aracaju desde Recife costaría 1742.86 reales\n"
          ]
        }
      ]
    },
    {
      "cell_type": "markdown",
      "source": [
        "10 - Has comenzado una pasantía en una empresa que trabaja con procesamiento de lenguaje natural (NLP). Tu líder te solicitó que crees un fragmento de código que reciba una frase escrita por el usuario y filtre solo las palabras con un tamaño mayor o igual a 5, mostrándolas en una lista. Esta demanda se centra en el análisis del patrón de comportamiento de las personas al escribir palabras de esta cantidad de caracteres o más.\n",
        "\n",
        "Consejo: utiliza las funciones lambda y filter() para filtrar estas palabras. Recordando que la función integrada filter() recibe una función (en nuestro caso, una función lambda) y filtra un iterable según la función. Para tratar la frase, utiliza replace() para cambiar ',' '.', '!' y '?' por espacio.\n"
      ],
      "metadata": {
        "id": "U-iY0RdOVJHg"
      }
    },
    {
      "cell_type": "code",
      "source": [
        "def filtar_palabras (frase : str, n: int) -> list:\n",
        "  frase = frase.replace('.',' ').replace(',','').replace('?',' ').replace('¡',' ').replace('¿',' ').replace('!',' ').split(' ')\n",
        "  return list(filter(lambda x: len(x) >= n, frase))\n",
        "\n",
        "frase = input('Ingrese una frase: ')\n",
        "\n",
        "print(filtar_palabras(frase, 5))\n",
        "\n",
        "'''\n",
        "Mientras el corazón late, mientras el cuerpo y alma siguen juntos, no puedo admitir que cualquier criatura dotada de voluntad tiene necesidad de perder la esperanza en la vida.\n",
        "(Viaje al centro de la tierra, Julio Verne)\n",
        "\n",
        "Cada libro, cada volumen que ves aquí, tiene un alma. El alma de la persona que lo escribió y de aquellos que lo leyeron, vivieron y soñaron con él. Cada vez que un libro cambia de manos, cada vez que alguien baja sus ojos a las páginas, su espíritu crece y se fortalece.\n",
        "(La Sombra del Viento, Carlos Ruiz Zafón)\n",
        "\n",
        "Conseguir lo que quieres es tan difícil como no conseguir lo que quieres. Porque entonces tienes que averiguar qué hacer con ello, en lugar de averiguar qué hacer sin ello.\n",
        "(El reino de la posibilidad, David Levithan)\n",
        "\n",
        "¡Qué maravilloso es que nadie necesite esperar ni un solo momento antes de comenzar a mejorar el mundo!\n",
        "(El Diario de Ana Frank, Ana Frank)\n",
        "'''"
      ],
      "metadata": {
        "colab": {
          "base_uri": "https://localhost:8080/"
        },
        "id": "o96QaiLSgUTc",
        "outputId": "fb8c72b1-25f5-4c6b-85e8-6687d3fb1398"
      },
      "execution_count": null,
      "outputs": [
        {
          "output_type": "stream",
          "name": "stdout",
          "text": [
            "Ingrese una frase: ¡Qué maravilloso es que nadie necesite esperar ni un solo momento antes de comenzar a mejorar el mundo! \n",
            "['maravilloso', 'nadie', 'necesite', 'esperar', 'momento', 'antes', 'comenzar', 'mejorar', 'mundo']\n"
          ]
        }
      ]
    },
    {
      "cell_type": "code",
      "source": [
        "# Solucion Instructor\n",
        "# Solicitando una frase y separándola por espacios. Usando replace para cambiar\n",
        "# puntuaciones por espacios.\n",
        "frase = input(\"Escribe una frase: \")\n",
        "frase = frase.replace(',',' ').replace('.',' ').replace('!',' ').replace('?',' ').split()\n",
        "\n",
        "# Filtrando la frase en formato de lista, pasando a la lista tamaño\n",
        "# solo las palabras con 5 o más caracteres e imprimiéndola en pantalla\n",
        "tamano = list(filter(lambda x: len(x) >= 5, frase))\n",
        "print(tamano)\n"
      ],
      "metadata": {
        "colab": {
          "base_uri": "https://localhost:8080/"
        },
        "id": "3IL89KDZaJys",
        "outputId": "9e38c322-1925-4819-a139-d6a241b5b890"
      },
      "execution_count": null,
      "outputs": [
        {
          "output_type": "stream",
          "name": "stdout",
          "text": [
            "Escribe una frase: ¡Qué maravilloso es que nadie necesite esperar ni un solo momento antes de comenzar a mejorar el mundo! \n",
            "['maravilloso', 'nadie', 'necesite', 'esperar', 'momento', 'antes', 'comenzar', 'mejorar', 'mundo']\n"
          ]
        }
      ]
    }
  ]
}