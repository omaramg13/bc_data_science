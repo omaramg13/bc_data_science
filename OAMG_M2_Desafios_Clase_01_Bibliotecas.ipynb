{
  "nbformat": 4,
  "nbformat_minor": 0,
  "metadata": {
    "colab": {
      "provenance": [],
      "authorship_tag": "ABX9TyNTZ5GS2ev+xYTo/VM0MjuX",
      "include_colab_link": true
    },
    "kernelspec": {
      "name": "python3",
      "display_name": "Python 3"
    },
    "language_info": {
      "name": "python"
    }
  },
  "cells": [
    {
      "cell_type": "markdown",
      "metadata": {
        "id": "view-in-github",
        "colab_type": "text"
      },
      "source": [
        "<a href=\"https://colab.research.google.com/github/omaramg13/bc_data_science/blob/main/OAMG_M2_Desafios_Clase_01_Bibliotecas.ipynb\" target=\"_parent\"><img src=\"https://colab.research.google.com/assets/colab-badge.svg\" alt=\"Open In Colab\"/></a>"
      ]
    },
    {
      "cell_type": "markdown",
      "source": [
        "# DESAFIOS\n",
        "\n",
        "Nombre: Omar Alejandro Morales Granados\n",
        "\n",
        "Practica Importacion y Uso Bibliotecas\n",
        "\n",
        "## Calentamiento\n",
        "\n",
        "1 - Escribe un código para instalar la versión 3.7.1 de la biblioteca matplotlib."
      ],
      "metadata": {
        "id": "zKEaBYjaUUkp"
      }
    },
    {
      "cell_type": "code",
      "execution_count": null,
      "metadata": {
        "colab": {
          "base_uri": "https://localhost:8080/"
        },
        "id": "lIp6SdH2UAfQ",
        "outputId": "3a103738-5fb6-4bc5-aee4-56d35a9e034e"
      },
      "outputs": [
        {
          "output_type": "stream",
          "name": "stdout",
          "text": [
            "Requirement already satisfied: matplotlib==3.7.1 in /usr/local/lib/python3.10/dist-packages (3.7.1)\n",
            "Requirement already satisfied: contourpy>=1.0.1 in /usr/local/lib/python3.10/dist-packages (from matplotlib==3.7.1) (1.2.0)\n",
            "Requirement already satisfied: cycler>=0.10 in /usr/local/lib/python3.10/dist-packages (from matplotlib==3.7.1) (0.12.1)\n",
            "Requirement already satisfied: fonttools>=4.22.0 in /usr/local/lib/python3.10/dist-packages (from matplotlib==3.7.1) (4.50.0)\n",
            "Requirement already satisfied: kiwisolver>=1.0.1 in /usr/local/lib/python3.10/dist-packages (from matplotlib==3.7.1) (1.4.5)\n",
            "Requirement already satisfied: numpy>=1.20 in /usr/local/lib/python3.10/dist-packages (from matplotlib==3.7.1) (1.25.2)\n",
            "Requirement already satisfied: packaging>=20.0 in /usr/local/lib/python3.10/dist-packages (from matplotlib==3.7.1) (24.0)\n",
            "Requirement already satisfied: pillow>=6.2.0 in /usr/local/lib/python3.10/dist-packages (from matplotlib==3.7.1) (9.4.0)\n",
            "Requirement already satisfied: pyparsing>=2.3.1 in /usr/local/lib/python3.10/dist-packages (from matplotlib==3.7.1) (3.1.2)\n",
            "Requirement already satisfied: python-dateutil>=2.7 in /usr/local/lib/python3.10/dist-packages (from matplotlib==3.7.1) (2.8.2)\n",
            "Requirement already satisfied: six>=1.5 in /usr/local/lib/python3.10/dist-packages (from python-dateutil>=2.7->matplotlib==3.7.1) (1.16.0)\n"
          ]
        }
      ],
      "source": [
        "!pip install matplotlib==3.7.1"
      ]
    },
    {
      "cell_type": "markdown",
      "source": [
        "2 - Escribe un código para importar la biblioteca numpy con el alias np."
      ],
      "metadata": {
        "id": "RUpWtNzPUtGd"
      }
    },
    {
      "cell_type": "code",
      "source": [
        "import numpy as np"
      ],
      "metadata": {
        "id": "bi9_0LENUyG0"
      },
      "execution_count": null,
      "outputs": []
    },
    {
      "cell_type": "markdown",
      "source": [
        "3 - Crea un programa que lea la siguiente lista de números y elija uno al azar.\n",
        "```\n",
        "lista = [8, 12, 54, 23, 43, 1, 90, 87, 105, 77]\n",
        "```"
      ],
      "metadata": {
        "id": "Boybv30YU1ML"
      }
    },
    {
      "cell_type": "code",
      "source": [
        "lista = [8, 12, 54, 23, 43, 1, 90, 87, 105, 77]\n",
        "\n",
        "from random import choice\n",
        "\n",
        "numero = choice(lista)\n",
        "print(numero)"
      ],
      "metadata": {
        "colab": {
          "base_uri": "https://localhost:8080/"
        },
        "id": "NjwfHeFtU6_R",
        "outputId": "a7b4f9a4-cbe2-496d-9d74-1af3ebf3dc8b"
      },
      "execution_count": null,
      "outputs": [
        {
          "output_type": "execute_result",
          "data": {
            "text/plain": [
              "43"
            ]
          },
          "metadata": {},
          "execution_count": 3
        }
      ]
    },
    {
      "cell_type": "markdown",
      "source": [
        "4 - Crea un programa que genere aleatoriamente un número entero menor que 100."
      ],
      "metadata": {
        "id": "5CVn_hP_VynY"
      }
    },
    {
      "cell_type": "code",
      "source": [
        "from random import randrange\n",
        "\n",
        "numero = randrange(100)\n",
        "print(numero)"
      ],
      "metadata": {
        "colab": {
          "base_uri": "https://localhost:8080/"
        },
        "id": "TY4v3uT7VQmC",
        "outputId": "574482fb-40dd-4a91-b6f8-ae34ae7abe8d"
      },
      "execution_count": null,
      "outputs": [
        {
          "output_type": "execute_result",
          "data": {
            "text/plain": [
              "34"
            ]
          },
          "metadata": {},
          "execution_count": 4
        }
      ]
    },
    {
      "cell_type": "markdown",
      "source": [
        "5 - Crea un programa que solicite a la persona usuaria ingresar dos números enteros y calcule la potencia del primer número elevado al segundo."
      ],
      "metadata": {
        "id": "xRtryiYmV4tO"
      }
    },
    {
      "cell_type": "code",
      "source": [
        "from math import pow\n",
        "\n",
        "a = int(input('Ingrese un numero entero (base) para calcular la potencia: '))\n",
        "b = int(input('Ingrese un numero entero (exponente) para calcular la potencia: '))\n",
        "\n",
        "potencia = pow(a,b)\n",
        "print(f'La potencia de {a} elevado a {b} es {potencia}')"
      ],
      "metadata": {
        "colab": {
          "base_uri": "https://localhost:8080/"
        },
        "id": "cwkCm00wWwCs",
        "outputId": "4e047106-b300-46c1-fc44-36306e3ef0b5"
      },
      "execution_count": null,
      "outputs": [
        {
          "output_type": "stream",
          "name": "stdout",
          "text": [
            "Ingrese un numero entero (base) para calcular la potencia: 2\n",
            "Ingrese un numero entero (exponente) para calcular la potencia: 8\n",
            "La potencia de 2 elevado a 8 es 256.0\n"
          ]
        }
      ]
    },
    {
      "cell_type": "markdown",
      "source": [
        "## Aplicando a proyectos\n",
        "\n",
        "6 - Se debe escribir un programa para sortear a un seguidor de una red social para ganar un premio. La lista de participantes está numerada y debemos elegir aleatoriamente un número según la cantidad de participantes. Pide a la persona usuaria que proporcione el número de participantes del sorteo y devuelve el número sorteado.\n",
        "\n"
      ],
      "metadata": {
        "id": "jerDV1ffXzK4"
      }
    },
    {
      "cell_type": "code",
      "source": [
        "#Solucion Instructor\n",
        "import random\n",
        "\n",
        "cantidad_participantes = int(input(\"Ingrese la cantidad de participantes: \"))\n",
        "numero_sorteado = random.randint(1, cantidad_participantes)\n",
        "print(f\"El número sorteado es: {numero_sorteado}\")"
      ],
      "metadata": {
        "colab": {
          "base_uri": "https://localhost:8080/"
        },
        "id": "rwWbMjuvf0kU",
        "outputId": "49e7d1b9-0283-4ba9-b363-20ad80707ac6"
      },
      "execution_count": null,
      "outputs": [
        {
          "output_type": "stream",
          "name": "stdout",
          "text": [
            "Ingrese la cantidad de participantes: 100\n",
            "El número sorteado es: 29\n"
          ]
        }
      ]
    },
    {
      "cell_type": "code",
      "source": [
        "'''\n",
        "randrange() vs randint()\n",
        "\n",
        "randrange()\n",
        "Genera un numero entero aleatorio en un rango\n",
        "\n",
        "Uso:\n",
        "randrange(stop)\n",
        "Genera un numero entero aleatorio n tal que 0 <= n < stop. El limite del rango no esta incluido\n",
        "\n",
        "randint()\n",
        "Genera un numero entero aletarion en un rango\n",
        "\n",
        "Uso:\n",
        "randint(a,b)\n",
        "Genera un numero entero aleatorio n tal que a <= n <= b. El limite del rango si esta incluido.\n",
        "Es equivalente a randrange(a, b+1).\n",
        "'''\n",
        "\n",
        "from random import randint\n",
        "\n",
        "participantes = int(input('Ingrese el numero de participates del sorteo: '))\n",
        "ganador = randint(1,participantes)\n",
        "\n",
        "print(f'El numero ganador del sorteo es {ganador}')"
      ],
      "metadata": {
        "colab": {
          "base_uri": "https://localhost:8080/"
        },
        "id": "cNOrlGVtXunS",
        "outputId": "097e0f8f-1b9c-4bed-c20d-04d7fb5bf019"
      },
      "execution_count": 1,
      "outputs": [
        {
          "output_type": "stream",
          "name": "stdout",
          "text": [
            "Ingrese el numero de participates del sorteo: 100\n",
            "El numero ganador del sorteo es 24\n"
          ]
        }
      ]
    },
    {
      "cell_type": "markdown",
      "source": [
        "7 - Has recibido una solicitud para generar números de token para acceder a la aplicación de una empresa. El token debe ser par y variar de 1000 a 9998. Escribe un código que solicite el nombre de la persona usuaria y muestre un mensaje junto a este token generado aleatoriamente.\n",
        "```\n",
        "print(f\"Hola, {nombre_usuario}, tu token de acceso es {token_generado} ¡Bienvenido/a!\")\n",
        "```"
      ],
      "metadata": {
        "id": "KJIOTa0cYZYM"
      }
    },
    {
      "cell_type": "code",
      "source": [
        "from random import randrange\n",
        "\n",
        "nombre_usuario = input('Ingrese su nombre: ')\n",
        "\n",
        "token_generado = randrange(1000,9999,2)\n",
        "\n",
        "print(f\"Hola, {nombre_usuario}, tu token de acceso es {token_generado} ¡Bienvenido/a!\")"
      ],
      "metadata": {
        "colab": {
          "base_uri": "https://localhost:8080/"
        },
        "id": "DvcKvMAFYvC5",
        "outputId": "5b05c307-ebec-466a-a86b-62a3481e9f3c"
      },
      "execution_count": null,
      "outputs": [
        {
          "output_type": "stream",
          "name": "stdout",
          "text": [
            "Ingrese su nombre: Jesus\n",
            "Hola, Jesus, tu token de acceso es 1024 ¡Bienvenido/a!\n"
          ]
        }
      ]
    },
    {
      "cell_type": "markdown",
      "source": [
        "8 - Para diversificar y atraer nuevos clientes, una lanchonete creó un ítem misterioso en su menú llamado \"ensalada de frutas sorpresa\". En este ítem, se eligen aleatoriamente 3 frutas de una lista de 12 para componer la ensalada de frutas del cliente. Crea el código que realice esta selección aleatoria según la lista dada.\n",
        "```\n",
        "frutas = [\"manzana\", \"banana\", \"uva\", \"pera\", \"mango\", \"coco\", \"sandia\", \"fresa\", \"naranja\", \"maracuya\", \"kiwi\", \"cereza\"]\n",
        "```"
      ],
      "metadata": {
        "id": "5WrHcVAaZok1"
      }
    },
    {
      "cell_type": "code",
      "source": [
        "from random import sample\n",
        "\n",
        "frutas = [\"manzana\", \"banana\", \"uva\", \"pera\", \"mango\", \"coco\", \"sandia\", \"fresa\", \"naranja\", \"maracuya\", \"kiwi\", \"cereza\"]\n",
        "\n",
        "ensalada = sample(frutas,3)\n",
        "\n",
        "print(f'La ensalada de frutas sorpresa contiene {ensalada}')"
      ],
      "metadata": {
        "colab": {
          "base_uri": "https://localhost:8080/"
        },
        "id": "9O3WMILSZ2Sx",
        "outputId": "b7814cca-49db-488a-ae34-0a74f7eddd79"
      },
      "execution_count": null,
      "outputs": [
        {
          "output_type": "stream",
          "name": "stdout",
          "text": [
            "La ensalada de frutas sorpresa contiene ['pera', 'mango', 'sandia']\n"
          ]
        }
      ]
    },
    {
      "cell_type": "markdown",
      "source": [
        "9 - Has recibido un desafío para calcular la raíz cuadrada de una lista de números, identificando cuáles resultan en un número entero. La lista es la siguiente:\n",
        "```\n",
        "numeros = [2, 8, 15, 23, 91, 112, 256]\n",
        "```"
      ],
      "metadata": {
        "id": "I2am0to0abzA"
      }
    },
    {
      "cell_type": "code",
      "source": [
        "from math import sqrt\n",
        "numeros = [2, 8, 15, 23, 91, 112, 256]\n",
        "\n",
        "for n in numeros:\n",
        "  raiz_cuadrada = sqrt(n)\n",
        "  if raiz_cuadrada % 1 == 0:\n",
        "    es_entero = True\n",
        "  else:\n",
        "    es_entero = False\n",
        "  if es_entero:\n",
        "    print(f'La raiz cuadrada de {n} es {raiz_cuadrada}, es un numero entero')\n",
        "  else:\n",
        "    print(f'La raiz cuadrada de {n} es {raiz_cuadrada}, no es un numero entero')"
      ],
      "metadata": {
        "colab": {
          "base_uri": "https://localhost:8080/"
        },
        "id": "GQFLUMWAatLJ",
        "outputId": "36f56928-a7ca-4c02-f498-e0941556e99c"
      },
      "execution_count": null,
      "outputs": [
        {
          "output_type": "stream",
          "name": "stdout",
          "text": [
            "La raiz cuadrada de 2 es 1.4142135623730951, no es un numero entero\n",
            "La raiz cuadrada de 8 es 2.8284271247461903, no es un numero entero\n",
            "La raiz cuadrada de 15 es 3.872983346207417, no es un numero entero\n",
            "La raiz cuadrada de 23 es 4.795831523312719, no es un numero entero\n",
            "La raiz cuadrada de 91 es 9.539392014169456, no es un numero entero\n",
            "La raiz cuadrada de 112 es 10.583005244258363, no es un numero entero\n",
            "La raiz cuadrada de 256 es 16.0, es un numero entero\n"
          ]
        }
      ]
    },
    {
      "cell_type": "code",
      "source": [
        "# Solucion Instructor\n",
        "import math\n",
        "\n",
        "numeros = [2, 8, 15, 23, 91, 112, 256]\n",
        "raices_enteras = [num for num in numeros if math.sqrt(num) % 1 == 0]\n",
        "print(\"Números con raíces enteras:\", raices_enteras)"
      ],
      "metadata": {
        "colab": {
          "base_uri": "https://localhost:8080/"
        },
        "id": "Dat72S2JgSve",
        "outputId": "0eb07e91-0f6d-4201-8f41-8d1251157e4e"
      },
      "execution_count": null,
      "outputs": [
        {
          "output_type": "stream",
          "name": "stdout",
          "text": [
            "Números con raíces enteras: [256]\n"
          ]
        }
      ]
    },
    {
      "cell_type": "markdown",
      "source": [
        "10 - Haz un programa para una tienda que vende césped para jardines. Esta tienda trabaja con jardines circulares y el precio del metro cuadrado de césped es de R$ 25,00. Pide a la persona usuaria el radio del área circular y devuelve el valor en reales de cuánto tendrá que pagar."
      ],
      "metadata": {
        "id": "alEviT1AcPAj"
      }
    },
    {
      "cell_type": "code",
      "source": [
        "from math import pi, pow, prod\n",
        "\n",
        "precio = 25\n",
        "radio = float(input('Ingrese el radio del area circular: '))\n",
        "\n",
        "area = pi * pow(radio,2)\n",
        "costo = precio * area\n",
        "\n",
        "print('El valor a pagar por la instalacion del cesped es R$ {:.2f}' .format(costo))"
      ],
      "metadata": {
        "colab": {
          "base_uri": "https://localhost:8080/"
        },
        "id": "Hpv5GOELcJwT",
        "outputId": "8eceb73b-4409-4c46-bd6d-14c6779ce197"
      },
      "execution_count": null,
      "outputs": [
        {
          "output_type": "stream",
          "name": "stdout",
          "text": [
            "Ingrese el radio del area circular: 5.5\n",
            "El valor a pagar por la instalacion del cesped es R$ 2375.83\n"
          ]
        }
      ]
    },
    {
      "cell_type": "code",
      "source": [
        "#Solucion instructor\n",
        "import math\n",
        "\n",
        "precio_metro_cuadrado = 25.00\n",
        "radio = float(input(\"Ingrese el radio del área circular en metros: \"))\n",
        "area = math.pi * math.pow(radio, 2)\n",
        "costo_total = precio_metro_cuadrado * area\n",
        "\n",
        "print(f\"El costo total es de R$ {round(costo_total,2)}\")"
      ],
      "metadata": {
        "colab": {
          "base_uri": "https://localhost:8080/"
        },
        "id": "Ya7__cPkgxNb",
        "outputId": "88a32086-8afe-44ce-81a6-7e43103bb325"
      },
      "execution_count": null,
      "outputs": [
        {
          "output_type": "stream",
          "name": "stdout",
          "text": [
            "Ingrese el radio del área circular en metros: 5.5\n",
            "El costo total es de R$ 2375.83\n"
          ]
        }
      ]
    }
  ]
}