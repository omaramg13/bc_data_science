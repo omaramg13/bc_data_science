{
  "nbformat": 4,
  "nbformat_minor": 0,
  "metadata": {
    "colab": {
      "provenance": [],
      "authorship_tag": "ABX9TyPTFjSCot13HGya61e5WFhq",
      "include_colab_link": true
    },
    "kernelspec": {
      "name": "python3",
      "display_name": "Python 3"
    },
    "language_info": {
      "name": "python"
    }
  },
  "cells": [
    {
      "cell_type": "markdown",
      "metadata": {
        "id": "view-in-github",
        "colab_type": "text"
      },
      "source": [
        "<a href=\"https://colab.research.google.com/github/omaramg13/bc_data_science/blob/main/OAMG_Desafios_Clase_03_Estructuras_condicionales.ipynb\" target=\"_parent\"><img src=\"https://colab.research.google.com/assets/colab-badge.svg\" alt=\"Open In Colab\"/></a>"
      ]
    },
    {
      "cell_type": "markdown",
      "source": [
        "# DESAFIOS\n",
        "\n",
        "Nombre: Omar Alejandro Morales Granados.\n",
        "\n",
        "**Entrenando la programación**\n",
        "\n",
        "1 - Escribe un programa que pida a la persona usuaria que proporcione dos números y muestre el número más grande.\n"
      ],
      "metadata": {
        "id": "QoLqpjW7BjWR"
      }
    },
    {
      "cell_type": "code",
      "execution_count": 1,
      "metadata": {
        "colab": {
          "base_uri": "https://localhost:8080/"
        },
        "id": "v0xUCAdBA4di",
        "outputId": "469e3786-e71c-4bdf-b2e9-e623e2cbb6f5"
      },
      "outputs": [
        {
          "output_type": "stream",
          "name": "stdout",
          "text": [
            "Ingrese el primer numero: 15\n",
            "Ingrese el segundo numero: 99\n",
            "El numero 99 es mayor\n"
          ]
        }
      ],
      "source": [
        "# Solucion Omar Morales\n",
        "# Obtenemos los numeros y almacenamos cada uno en una variable\n",
        "numero_1 = float(input('Ingrese el primer numero: '))\n",
        "numero_2 = float(input('Ingrese el segundo numero: '))\n",
        "\n",
        "# Realizamos la comparacion de los numeros\n",
        "if numero_1 > numero_2:\n",
        "  print('El numero %d es mayor' %(numero_1))\n",
        "if numero_2 > numero_1:\n",
        "  print('El numero %d es mayor' %(numero_2))"
      ]
    },
    {
      "cell_type": "markdown",
      "source": [
        "2 - Escribe un programa que solicite el porcentaje de crecimiento de producción de una empresa e informe si hubo un crecimiento (porcentaje positivo) o una disminución (porcentaje negativo)."
      ],
      "metadata": {
        "id": "vd-guZCHBwi9"
      }
    },
    {
      "cell_type": "code",
      "source": [
        "# Solucion Omar Morales\n",
        "# Obtenemos el valor del porcentaje y lo almacenamos en una variable\n",
        "porcentaje_crecimiento= float(input('Ingrese el porcentaje de crecimiento de producción de la empresa para el ultimo periodo: '))\n",
        "\n",
        "# Comparamos si el numero es mayor o menor que cero para saber si es un numero posivo (mayor que cero) o un numero negativo (menor que cero)\n",
        "if porcentaje_crecimiento > 0:\n",
        "  print('Hubo crecimiento de la produccion en el ultimo periodo')\n",
        "elif porcentaje_crecimiento < 0:\n",
        "  print('Hubo una disminucion de la produccion en el ultimo periodo')\n",
        "else:\n",
        "  print('No hubo crecimiento para el ultimo periodo')"
      ],
      "metadata": {
        "colab": {
          "base_uri": "https://localhost:8080/"
        },
        "id": "RdoSf46MB0VP",
        "outputId": "e935c152-82bd-4427-84f2-8979017bc9d2"
      },
      "execution_count": 3,
      "outputs": [
        {
          "output_type": "stream",
          "name": "stdout",
          "text": [
            "Ingrese el porcentaje de crecimiento de producción de la empresa para el ultimo periodo: 0.5\n",
            "Hubo crecimiento de la produccion en el ultimo periodo\n"
          ]
        }
      ]
    },
    {
      "cell_type": "markdown",
      "source": [
        "3 - Escribe un programa que determine si una letra proporcionada por la persona usuaria es una vocal o una consonante."
      ],
      "metadata": {
        "id": "_dgHY5rpB0xh"
      }
    },
    {
      "cell_type": "code",
      "source": [
        "# Solucion Omar Morales\n",
        "# Definimos una variable con una cadena de texto con todas las variables\n",
        "vocales = 'aeiou'\n",
        "\n",
        "# Obtenemos la letra pasando la cadena a minuscula.\n",
        "letra = input('Ingrese una letra: ').lower()\n",
        "\n",
        "# Comparamos la letra ingresada con la cadena con las variables, si se encuentra en la cadena, es una vocal, si no se encuentra en la cadena, es una consonante.\n",
        "if letra in vocales:\n",
        "  print('%s es una vocal.' %(letra))\n",
        "else:\n",
        "  print('%s es una consonante:' %(letra))\n"
      ],
      "metadata": {
        "colab": {
          "base_uri": "https://localhost:8080/"
        },
        "id": "vZV9I3lbB3WG",
        "outputId": "af183cf2-99a1-464a-b756-18f7c1e3aa07"
      },
      "execution_count": 66,
      "outputs": [
        {
          "output_type": "stream",
          "name": "stdout",
          "text": [
            "Ingrese una letra: A\n",
            "a es una vocal.\n"
          ]
        }
      ]
    },
    {
      "cell_type": "markdown",
      "source": [
        "4 - Escribe un programa que lea valores promedio de precios de un modelo de automóvil durante 3 años consecutivos y muestre el valor más alto y más bajo entre esos tres años."
      ],
      "metadata": {
        "id": "lMkpn4iiB3xC"
      }
    },
    {
      "cell_type": "code",
      "source": [
        "# Solucion Omar Morales\n",
        "# Obtenemos los precios del automovil para cada año y lo guardamos en una variable:\n",
        "promedio_1 = float(input('Ingrese el valor promedio del precio de un Suzuki Alto para el año 2021: '))\n",
        "promedio_2 = float(input('Ingrese el valor promedio del precio de un Suzuki Alto para el año 2022: '))\n",
        "promedio_3 = float(input('Ingrese el valor promedio del precio de un Suzuki Alto para el año 2023: '))\n",
        "\n",
        "# Comparamos los precios y seleccionamos el precio mayor y menor.\n",
        "if promedio_1 > promedio_2 > promedio_3:\n",
        "  mayor = promedio_1\n",
        "  menor = promedio_3\n",
        "elif promedio_1 > promedio_3 > promedio_2:\n",
        "  mayor = promedio_1\n",
        "  menor = promedio_2\n",
        "elif promedio_2 > promedio_1 > promedio_3:\n",
        "  mayor = promedio_2\n",
        "  menor = promedio_3\n",
        "elif promedio_2 > promedio_3 > promedio_1:\n",
        "  mayor = promedio_2\n",
        "  menor = promedio_1\n",
        "elif promedio_3 > promedio_2 > promedio_1:\n",
        "  mayor = promedio_3\n",
        "  menor = promedio_1\n",
        "elif promedio_3 > promedio_1 > promedio_2:\n",
        "  mayor = promedio_3\n",
        "  menor = promedio_2\n",
        "\n",
        "print('El valor mas alto en el periodo 2021 a 2023 para el precio de un Susuki Alto es {}, el valor mas bajo es {}' .format(mayor, menor))\n",
        ""
      ],
      "metadata": {
        "colab": {
          "base_uri": "https://localhost:8080/"
        },
        "id": "TpBp285rB5xK",
        "outputId": "7a0b6919-e5bc-4c26-8478-aa99e07e33b2"
      },
      "execution_count": 12,
      "outputs": [
        {
          "output_type": "stream",
          "name": "stdout",
          "text": [
            "Ingrese el valor promedio del precio de un Suzuki Alto para el año 2021: 5000\n",
            "Ingrese el valor promedio del precio de un Suzuki Alto para el año 2022: 4500\n",
            "Ingrese el valor promedio del precio de un Suzuki Alto para el año 2023: 5500\n",
            "El valor mas alto en el periodo 2021 a 2023 para el precio de un Susuki Alto es 5500.0, el valor mas bajo es 4500.0\n"
          ]
        }
      ]
    },
    {
      "cell_type": "code",
      "source": [
        "# Solucion Instructor\n",
        "# Obtenemos el precio del automovil para cada año y lo almacenamos en una variable:\n",
        "precio_1 = float(input('Ingrese el valor promedio del precio de un Suzuki Alto para el año 2021: '))\n",
        "precio_2 = float(input('Ingrese el valor promedio del precio de un Suzuki Alto para el año 2022: '))\n",
        "precio_3 = float(input('Ingrese el valor promedio del precio de un Suzuki Alto para el año 2023: '))\n",
        "\n",
        "# Determinamos el mayor mediante comparaciones:\n",
        "mayor = precio_1\n",
        "if precio_2 > mayor:\n",
        "  mayor = precio_2\n",
        "if precio_3 > mayor:\n",
        "  mayor = precio_3\n",
        "\n",
        "# Determinamos el menor mediante comparaciones:\n",
        "menor = precio_1\n",
        "if precio_2 < menor:\n",
        "  menor = precio_2\n",
        "if precio_3 < menor:\n",
        "  menor = precio_3\n",
        "\n",
        "print('El valor mas alto en el periodo 2021 a 2023 para el precio de un Susuki Alto es {}, el valor mas bajo es {}' .format(mayor, menor))\n",
        "\n"
      ],
      "metadata": {
        "id": "FRdJyZi1zwbq"
      },
      "execution_count": null,
      "outputs": []
    },
    {
      "cell_type": "markdown",
      "source": [
        "5 - Escribe un programa que pregunte sobre el precio de tres productos e indique cuál es el producto más barato para comprar."
      ],
      "metadata": {
        "id": "KDwqy0idB6Nd"
      }
    },
    {
      "cell_type": "code",
      "source": [
        "# Solucion Omar Morales\n",
        "# Obtenemos los precios de cada producto y los almacenemos en una variable\n",
        "producto_1 = float(input('Ingrese el precio del primer producto: '))\n",
        "producto_2 = float(input('Ingrese el precio del segundo producto: '))\n",
        "producto_3 = float(input('Ingrese el precio del tercer producto: '))\n",
        "\n",
        "# Realizamo la comparacion de los precios\n",
        "if producto_1 > producto_2 > producto_3 or producto_2 > producto_1 > producto_3:\n",
        "  print('El producto mas barato para comprar es el tercer producto')\n",
        "elif producto_1 > producto_3 > producto_2 or producto_3 > producto_1 > producto_2:\n",
        "  print('El producto mas barato para comprar es el segundo producto')\n",
        "elif producto_2 > producto_3 > producto_1 or producto_3 > producto_2 > producto_1:\n",
        "  print('El producto mas barato para comprar es el primer producto')"
      ],
      "metadata": {
        "colab": {
          "base_uri": "https://localhost:8080/"
        },
        "id": "Ck6I8S79B81e",
        "outputId": "83304387-e058-4abc-f9b0-caa2859d8c32"
      },
      "execution_count": 20,
      "outputs": [
        {
          "output_type": "stream",
          "name": "stdout",
          "text": [
            "Ingrese el precio del primer producto: 11\n",
            "Ingrese el precio del segundo producto: 12\n",
            "Ingrese el precio del tercer producto: 13\n",
            "El producto mas barato para comprar es el primer producto\n"
          ]
        }
      ]
    },
    {
      "cell_type": "code",
      "source": [
        "# Solucion Instructor\n",
        "# Recolectamos el precio de tres productos\n",
        "producto1 = float(input('Ingrese el precio del primer producto: '))\n",
        "producto2 = float(input('Ingrese el precio del segundo producto: '))\n",
        "producto3 = float(input('Ingrese el precio del tercer producto: '))\n",
        "\n",
        "# Usamos el operador lógico `and` para determinar cuál es el precio más bajo entre los 3 productos\n",
        "# ya que esto nos permite hacer una comparación de 3 entradas\n",
        "if producto1 < producto2 and producto1 < producto3:\n",
        "    print('El primer producto es el más barato.')\n",
        "elif producto2 < producto1 and producto2 < producto3:\n",
        "    print('El segundo producto es el más barato.')\n",
        "else:\n",
        "    print('El tercer producto es el más barato.')"
      ],
      "metadata": {
        "id": "7LoW0rhQ1ICN"
      },
      "execution_count": null,
      "outputs": []
    },
    {
      "cell_type": "markdown",
      "source": [
        "6 - Escribe un programa que lea tres números y los muestre en orden descendente."
      ],
      "metadata": {
        "id": "gqAoRjDXB9YK"
      }
    },
    {
      "cell_type": "code",
      "source": [
        "# Solucion Omar Morales\n",
        "# Obtenemos los valores de los 3 numeros y los asignamos a una variable:\n",
        "numero_1 = int(input('Ingrese el primer numero entero: '))\n",
        "numero_2 = int(input('Ingrese el segundo numero entero: '))\n",
        "numero_3 = int(input('Ingrese el tercer numero entero:'))\n",
        "\n",
        "# Comparamos los numeros para devolverlos en orden descendente\n",
        "if numero_1 > numero_2 > numero_3:\n",
        "  print('Los numeros en orden descendente son: %d, %d, %d' %(numero_1, numero_2,numero_3))\n",
        "elif numero_1 > numero_3 > numero_2:\n",
        "  print('Los numeros en orden descendente son: %d, %d, %d' %(numero_1, numero_3,numero_2))\n",
        "elif numero_2 > numero_1 > numero_3:\n",
        "  print('Los numeros en orden descendente son: %d, %d, %d' %(numero_2, numero_1,numero_3))\n",
        "elif numero_2 > numero_3 > numero_1:\n",
        "  print('Los numeros en orden descendente son: %d, %d, %d' %(numero_2, numero_3,numero_1))\n",
        "elif numero_3 > numero_2 > numero_1:\n",
        "  print('Los numeros en orden descendente son: %d, %d, %d' %(numero_3, numero_2,numero_1))\n",
        "elif numero_3 > numero_1 > numero_2:\n",
        "  print('Los numeros en orden descendente son: %d, %d, %d' %(numero_3, numero_1,numero_2))\n"
      ],
      "metadata": {
        "colab": {
          "base_uri": "https://localhost:8080/"
        },
        "id": "ZTfxCHp1B_Ft",
        "outputId": "4ff392d7-e3a6-41e6-f165-05385ef5c488"
      },
      "execution_count": 27,
      "outputs": [
        {
          "output_type": "stream",
          "name": "stdout",
          "text": [
            "Ingrese el primer numero entero: 12\n",
            "Ingrese el segundo numero entero: 13\n",
            "Ingrese el tercer numero entero:11\n",
            "Los numeros en orden descendente son: 13, 12, 11\n"
          ]
        }
      ]
    },
    {
      "cell_type": "code",
      "source": [
        "# Solucion Instructor\n",
        "# Recolectamos los 3 números\n",
        "num1 = int(input('Ingrese el primer número: '))\n",
        "num2 = int(input('Ingrese el segundo número: '))\n",
        "num3 = int(input('Ingrese el tercer número: '))\n",
        "\n",
        "# Comparación entre los 3 números\n",
        "if (num1 >= num2) and (num1 >= num3):\n",
        "    print(num1)\n",
        "    if num2 >= num3:\n",
        "        print(num2)\n",
        "        print(num3)\n",
        "    else:\n",
        "        print(num3)\n",
        "        print(num2)\n",
        "elif (num2 >= num1) and (num2 >= num3):\n",
        "    print(num2)\n",
        "    if num1 >= num3:\n",
        "        print(num1)\n",
        "        print(num3)\n",
        "    else:\n",
        "        print(num3)\n",
        "        print(num1)\n",
        "else:\n",
        "    print(num3)\n",
        "    if num1 >= num2:\n",
        "        print(num1)\n",
        "        print(num2)\n",
        "    else:\n",
        "        print(num2)\n",
        "        print(num1)"
      ],
      "metadata": {
        "id": "zCtFnbze2hN5"
      },
      "execution_count": null,
      "outputs": []
    },
    {
      "cell_type": "markdown",
      "source": [
        "7 -Escribe un programa que pregunte en qué turno estudia la persona usuaria (\"mañana\", \"tarde\" o \"noche\") y muestre el mensaje \"¡Buenos Días!\", \"¡Buenas Tardes!\", \"¡Buenas Noches!\" o \"Valor Inválido!\", según el caso."
      ],
      "metadata": {
        "id": "LKadTBxkB_TO"
      }
    },
    {
      "cell_type": "code",
      "source": [
        "# Solucion Omar Morales\n",
        "# Obtenemos el turno y lo almacenamos en una variable\n",
        "turno = input('Indique el turno en el que estudia (mañana, tarde o noche): ')\n",
        "\n",
        "# Comparamos el valor ingresado y segun el valor se imprime el mensaje\n",
        "if turno == 'mañana':\n",
        "  print('¡Buenos Días!')\n",
        "elif turno == 'tarde':\n",
        "  print('¡Buenas Tardes!')\n",
        "elif turno == 'noche':\n",
        "  print('¡Buenas Noches!')\n",
        "else:\n",
        "  print('Valor Inválido')"
      ],
      "metadata": {
        "colab": {
          "base_uri": "https://localhost:8080/"
        },
        "id": "9jfXe6gUCBpE",
        "outputId": "3c364a0c-be7d-4067-8ba3-7b51bac53efc"
      },
      "execution_count": 32,
      "outputs": [
        {
          "output_type": "stream",
          "name": "stdout",
          "text": [
            "Indique el turno en el que estudia (mañana, tarde o noche): mañana\n",
            "¡Buenos Días!\n"
          ]
        }
      ]
    },
    {
      "cell_type": "markdown",
      "source": [
        "8 - Escribe un programa que solicite un número entero a la persona usuaria y determine si es par o impar. Pista: Puedes usar el operador módulo (%)."
      ],
      "metadata": {
        "id": "bUZngQrPCCAy"
      }
    },
    {
      "cell_type": "code",
      "source": [
        "# Solucion Omar Morales\n",
        "# Obtenemos el numero\n",
        "numero = int(input('Ingrese un numero entero: '))\n",
        "\n",
        "# Comparamos si el resultado del modulo entre 2 el numero es cero, si es verdadero el numero es par, si es falso es un numero impar.\n",
        "if numero % 2 == 0:\n",
        "  print('El numero es par');\n",
        "else:\n",
        "  print('El numero es impar');"
      ],
      "metadata": {
        "colab": {
          "base_uri": "https://localhost:8080/"
        },
        "id": "PAIPzyJaCE2X",
        "outputId": "6865f94d-ce62-4c0d-9c23-273302ccd834"
      },
      "execution_count": 37,
      "outputs": [
        {
          "output_type": "stream",
          "name": "stdout",
          "text": [
            "Ingrese un numero entero: -33\n",
            "El numero es impar\n"
          ]
        }
      ]
    },
    {
      "cell_type": "markdown",
      "source": [
        "9 - Escribe un programa que pida un número a la persona usuaria y le informe si es entero o decimal."
      ],
      "metadata": {
        "id": "MRHl5-16CFD3"
      }
    },
    {
      "cell_type": "code",
      "source": [
        "# Solucion Omar Morales\n",
        "# Obtenemos el numero y lo guardamos en una variable de tipo string.\n",
        "numero = input('Ingrese un numero: ')\n",
        "\n",
        "# Los numeros decimales llevan el punto decimal, validamos si la cadena tiene el caracter punto.\n",
        "if '.' in numero:\n",
        "  print(numero, 'es decimal')\n",
        "else:\n",
        "  print(numero, 'es entero')"
      ],
      "metadata": {
        "colab": {
          "base_uri": "https://localhost:8080/"
        },
        "id": "BruMFbXECHJD",
        "outputId": "a30b8ead-df3e-4b57-aa88-5200a08fc15d"
      },
      "execution_count": 41,
      "outputs": [
        {
          "output_type": "stream",
          "name": "stdout",
          "text": [
            "Ingrese un numero: 15\n",
            "15 es entero\n"
          ]
        }
      ]
    },
    {
      "cell_type": "code",
      "source": [
        "# Solucion instructor\n",
        "'''\n",
        "Podemos usar el operador de módulo % para determinar si un número es entero o decimal.\n",
        "Si el operador de módulo % devuelve cero en la división entera de un número entre 1, entonces es un número entero.\n",
        "De lo contrario, es un número decimal.\n",
        "'''\n",
        "# Recolectamos los datos\n",
        "num = float(input('Ingresa un número: '))\n",
        "# Verificamos si el número es entero o decimal según el resultado del módulo\n",
        "if num % 1 == 0:\n",
        "    print('El número es entero.')\n",
        "else:\n",
        "    print('El número es decimal.')"
      ],
      "metadata": {
        "id": "UyzCpKO64F8o"
      },
      "execution_count": null,
      "outputs": []
    },
    {
      "cell_type": "markdown",
      "source": [
        "**Momento de los proyectos**\n",
        "\n",
        "10 - Un programa debe ser escrito para leer dos números y luego preguntar a la persona usuaria qué operación desea realizar. El resultado de la operación debe incluir información sobre el número, si es par o impar, positivo o negativo, e entero o decimal.\n"
      ],
      "metadata": {
        "id": "E1y1C0oOCHb0"
      }
    },
    {
      "cell_type": "code",
      "source": [
        "# Solucion Omar Morales\n",
        "# Obtenemos los numeros y la operacion a realizar:\n",
        "operador_1 = float(input('Ingrese el primer numero: '))\n",
        "operador_2 = float(input('Ingrese el segundo numero: '))\n",
        "operacion = input('Indique la operacion que desea realizar con el operador: + (suma), - (resta), * (multiplicacion), / (division)')\n",
        "\n",
        "# Comparamos la operacion y en dependencia de la operacion ingresada, se calcula el resultado\n",
        "if operacion == '+':\n",
        "  resultado = operador_1 + operador_2\n",
        "  texto_resultado = 'El resultado de la suma es: ' + str(resultado)\n",
        "elif operacion == '-':\n",
        "  resultado = operador_1 - operador_2\n",
        "  texto_resultado = 'El resultado de la resta es: ' + str(resultado)\n",
        "elif operacion == '*' :\n",
        "  resultado = operador_1 * operador_2\n",
        "  texto_resultado = 'El resultado de la multiplicación es: ' + str(resultado)\n",
        "elif operacion == '/':\n",
        "  resultado = operador_1 / operador_2\n",
        "  texto_resultado = 'El resultado de la división es: ' + str(resultado)\n",
        "else:\n",
        "  print('Operacion invalida')\n",
        "  resultado = 0\n",
        "\n",
        "# Verificamos si el numero es entero o decimal\n",
        "if resultado % 1 == 0:\n",
        "  texto_resultado = texto_resultado + ', el resultado es un numero entero'\n",
        "else:\n",
        "  texto_resultado = texto_resultado + ', el resultado es un numero decimal'\n",
        "\n",
        "# Verificamos si el numero es par o impar\n",
        "if resultado % 2 == 0:\n",
        "  texto_resultado = texto_resultado + ' par'\n",
        "else:\n",
        "  texto_resultado = texto_resultado + ' impar'\n",
        "\n",
        "# verificamos si el numero es positivo o negativo\n",
        "if resultado > 0:\n",
        "  texto_resultado = texto_resultado + ' positivo'\n",
        "if resultado < 0:\n",
        "  texto_resultado = texto_resultado + ' negativo'\n",
        "\n",
        "print(texto_resultado)\n"
      ],
      "metadata": {
        "colab": {
          "base_uri": "https://localhost:8080/"
        },
        "id": "wKF8PQCSCOt7",
        "outputId": "7733cb6d-d705-49bf-dd76-29941720b0f9"
      },
      "execution_count": 75,
      "outputs": [
        {
          "output_type": "stream",
          "name": "stdout",
          "text": [
            "Ingrese el primer numero: 1.5\n",
            "Ingrese el segundo numero: 3\n",
            "Indique la operacion que desea realizar con el operador: + (suma), - (resta), * (multiplicacion), / (division)*\n",
            "El resultado de la multiplicación es: 4.5, el resultado es un numero decimal impar positivo\n"
          ]
        }
      ]
    },
    {
      "cell_type": "code",
      "source": [
        "# Solucion Instructor\n",
        "# Recolectamos los números a operar y solicitamos la operación deseada por el usuario\n",
        "num1 = float(input('Ingrese el primer número: '))\n",
        "num2 = float(input('Ingrese el segundo número: '))\n",
        "operación = input('Ingrese la operación deseada (+, -, *, /): ')\n",
        "\n",
        "# Verificamos la operación seleccionada y realizamos la operación matemática según la elección\n",
        "if operación == '+':\n",
        "    resultado = num1 + num2\n",
        "elif operación == '-':\n",
        "    resultado = num1 - num2\n",
        "elif operación == '*':\n",
        "    resultado = num1 * num2\n",
        "elif operación == '/':\n",
        "    resultado = num1 / num2\n",
        "else: # Especificamos un resultado en caso de que el usuario no ingrese una de las operaciones correctamente.\n",
        "    print('Operación no válida, el resultado de la operación será 0')\n",
        "    resultado = 0\n",
        "\n",
        "# Realizamos las mismas verificaciones que en preguntas anteriores para generar el informe del cálculo entre números\n",
        "if resultado % 1 == 0:\n",
        "    print('El resultado es un número entero.')\n",
        "else:\n",
        "    print('El resultado es un número decimal.')\n",
        "\n",
        "if resultado > 0:\n",
        "    print('El resultado es positivo.')\n",
        "else:\n",
        "    print('El resultado es negativo.')\n",
        "\n",
        "if resultado % 2 == 0:\n",
        "    print('El resultado es un número par.')\n",
        "else:\n",
        "    print('El resultado es un número impar.')\n"
      ],
      "metadata": {
        "colab": {
          "base_uri": "https://localhost:8080/"
        },
        "id": "V4j_yfz05JBP",
        "outputId": "66cf8f6b-f66f-48f2-d717-4d923b3a545a"
      },
      "execution_count": 68,
      "outputs": [
        {
          "output_type": "stream",
          "name": "stdout",
          "text": [
            "Ingrese el primer número: 2\n",
            "Ingrese el segundo número: 2\n",
            "Ingrese la operación deseada (+, -, *, /): -\n",
            "El resultado es un número entero.\n",
            "El resultado es negativo.\n",
            "El resultado es un número par.\n"
          ]
        }
      ]
    },
    {
      "cell_type": "markdown",
      "source": [
        "11 - Escribe un programa que pida a la persona usuaria tres números que representan los lados de un triángulo. El programa debe informar si los valores pueden utilizarse para formar un triángulo y, en caso afirmativo, si es equilátero, isósceles o escaleno. Ten en cuenta algunas sugerencias:\n",
        "\n",
        "* Tres lados forman un triángulo cuando la suma de cualesquiera dos lados es mayor que el tercero;\n",
        "* Triángulo Equilátero: tres lados iguales;\n",
        "* Triángulo Isósceles: dos lados iguales;\n",
        "* Triángulo Escaleno: tres lados diferentes.\n"
      ],
      "metadata": {
        "id": "dcfkrOmqCSfB"
      }
    },
    {
      "cell_type": "code",
      "source": [
        "# Solucion Omar Morales\n",
        "# Obtenemos los valores de cada lado y los guardamos en una variable\n",
        "lado_a = float(input('Ingrese el primer lado: '))\n",
        "lado_b = float(input('Ingrese el segundo lado: '))\n",
        "lado_c = float(input('Ingrese el tercer lado: '))\n",
        "\n",
        "# Verificamos si los lados permiten formar un triangulo\n",
        "if (lado_a + lado_b > lado_c) and (lado_a + lado_c > lado_b) and (lado_b + lado_c > lado_a):\n",
        "  texto = 'Los valores indicados para cada lado permiten formar un Triángulo'\n",
        "  # Si se puede formar el triangulo comparamos los lados para saber si es un triangulo Equilátero, Isóceles o Escaleno.\n",
        "  if lado_a == lado_b and lado_a == lado_c:\n",
        "    texto = texto + ' Equilátero.'\n",
        "  elif lado_a == lado_b or lado_a == lado_c or lado_b == lado_c:\n",
        "    texto = texto + ' Isóceles.'\n",
        "  else:\n",
        "    texto = texto + ' Escaleno.'\n",
        "# Si no se cumple la condicion para formar un triangulo se impreme un mensaje indicando que los valores indicados no permiten formar un triangulo.\n",
        "else:\n",
        "  texto = 'Los valores indicados para cada lado no permiten formar un Triángulo, para formar un Triángulo la suma de cualesquiera dos lados debe ser mayor que el tercero'\n",
        "\n",
        "print(texto)"
      ],
      "metadata": {
        "colab": {
          "base_uri": "https://localhost:8080/"
        },
        "id": "awsIvvSfCave",
        "outputId": "9acf6238-1697-435f-c0f7-ec35586504c4"
      },
      "execution_count": 101,
      "outputs": [
        {
          "output_type": "stream",
          "name": "stdout",
          "text": [
            "Ingrese el primer lado: 5\n",
            "Ingrese el segundo lado: 4\n",
            "Ingrese el tercer lado: 8\n",
            "Los valores indicados para cada lado permiten formar un Triángulo Escaleno.\n"
          ]
        }
      ]
    },
    {
      "cell_type": "code",
      "source": [
        "# Solucion Instructor\n",
        "# Recolectamos los lados de un triángulo\n",
        "print('Estamos recopilando los lados de un triángulo.')\n",
        "lado1 = float(input('Ingresa la longitud del primer lado: '))\n",
        "lado2 = float(input('Ingresa la longitud del segundo lado: '))\n",
        "lado3 = float(input('Ingresa la longitud del tercer lado: '))\n",
        "\n",
        "# Verificamos si los lados pueden formar un triángulo\n",
        "if (lado1 + lado2 > lado3) and (lado2 + lado3 > lado1) and (lado1 + lado3 > lado2):\n",
        "    print('¡Los valores pueden formar un triángulo!')\n",
        "    # Comparamos los lados para determinar el tipo de triángulo\n",
        "    if (lado1 == lado2) and (lado2 == lado3):\n",
        "        print('El triángulo es equilátero.')\n",
        "    elif (lado1 != lado2) and (lado2 != lado3) and (lado1 != lado3):\n",
        "        print('El triángulo es escaleno.')\n",
        "    else:\n",
        "        print('El triángulo es isósceles.')\n",
        "else:\n",
        "    print('¡Los valores no pueden formar un triángulo!')\n"
      ],
      "metadata": {
        "id": "5w9yoO39Cj1d"
      },
      "execution_count": null,
      "outputs": []
    },
    {
      "cell_type": "markdown",
      "source": [
        "12 - Un establecimiento está vendiendo combustibles con descuentos variables. Para el etanol, si la cantidad comprada es de hasta 15 litros, el descuento será del 2% por litro. En caso contrario, será del 4% por litro. Para el diésel, si la cantidad comprada es de hasta 15 litros, el descuento será del 3% por litro. En caso contrario, será del 5% por litro. El precio por litro de diésel es de R\\$ 2,00 y el precio por litro de etanol es de R\\$ 1,70. Escribe un programa que lea la cantidad de litros vendidos y el tipo de combustible (E para etanol y D para diésel) y calcule el valor a pagar por el cliente. Ten en cuenta algunas sugerencias:\n",
        "\n",
        "* El valor del descuento será el producto del precio por litro, la cantidad de litros y el valor del descuento.\n",
        "* El valor a pagar por un cliente será el resultado de la multiplicación del precio por litro por la cantidad de litros menos el valor del descuento resultante del cálculo.\n"
      ],
      "metadata": {
        "id": "N-gonwCdCbDQ"
      }
    },
    {
      "cell_type": "code",
      "source": [
        "# Solucion Omar Morales\n",
        "# Obtenemos la cantidad de litros vendidos\n",
        "litros = float(input('Ingrese la cantidad de litros vendidos: '))\n",
        "# Obtenemos el tipo de combustible\n",
        "combustible = input('Indique el tipo de combustible E para Etanol, D para Diesel: ').upper()\n",
        "# Se asigna el precio de cada combustible\n",
        "precio_diesel = 2\n",
        "precio_etanol = 1.7\n",
        "\n",
        "# Comparamos el tipo de combustible y la cantidad de litros para calcular el descuento y el subtotal\n",
        "if combustible == 'E' and litros <= 15:\n",
        "  descuento = precio_etanol * litros * 0.02\n",
        "  subtotal = precio_etanol * litros\n",
        "elif combustible == 'E' and litros > 15:\n",
        "  descuento = precio_etanol * litros * 0.04\n",
        "  subtotal = precio_etanol * litros\n",
        "elif combustible == 'D' and litros <= 15:\n",
        "  descuento = precio_diesel * litros * 0.03\n",
        "  subtotal = precio_diesel * litros\n",
        "elif combustible == 'D' and litros > 15:\n",
        "  descuento = precio_diesel * litros * 0.05\n",
        "  subtotal = precio_diesel * litros\n",
        "\n",
        "# Calculamos el total a pagar.\n",
        "total = subtotal - descuento\n",
        "\n",
        "print('Venta realizada {} Litros, Subtotal: {}, Descuento: {}, Total a Pagar: {}' .format(litros, subtotal, descuento, total))"
      ],
      "metadata": {
        "colab": {
          "base_uri": "https://localhost:8080/"
        },
        "id": "0Qq-LmS5CgCp",
        "outputId": "5f7e9a43-c210-4ab7-b2a7-297ed64bbb0f"
      },
      "execution_count": 56,
      "outputs": [
        {
          "output_type": "stream",
          "name": "stdout",
          "text": [
            "Ingrese la cantidad de litros vendidos: 27.5\n",
            "Indique el tipo de combustible E para Etanol, D para Diesel: D\n",
            "Venta realizada 27.5 Litros, Subtotal: 55.0, Descuento: 2.75, Total a Pagar: 52.25\n"
          ]
        }
      ]
    },
    {
      "cell_type": "code",
      "source": [
        "# Solucion Omar Morales v2\n",
        "# Obtenemos la cantidad de litros vendidos\n",
        "cantidad_litros = float(input('Ingrese la cantidad de litros vendidos: '))\n",
        "# Obtenemos el tipo de combustible\n",
        "tipo_combustible = input('Indique el tipo de combustible E para Etanol, D para Diesel: ').upper()\n",
        "\n",
        "# Comparamos el tipo de combustible\n",
        "if tipo_combustible == 'E':\n",
        "  # Asignamos el precio para Etanol\n",
        "  precio_combustible = 1.7\n",
        "  # Comparamos la cantidad de litros para asignar el descuento\n",
        "  if cantidad_litros <= 15:\n",
        "    # Descuento para compras hasta 15 litros de Etanol\n",
        "    descuento = 0.02\n",
        "  else:\n",
        "    # Descuento para compras mayores a 15 litros de Etanol\n",
        "    descuento = 0.04\n",
        "# Comparamos el tipo de combustible\n",
        "elif tipo_combustible == 'D':\n",
        "  # Asignamos el precio para Diesel\n",
        "  precio_combustible = 2\n",
        "  # Comparamos la cantidad de litros para asignar el descuento\n",
        "  if cantidad_litros <= 15:\n",
        "    # Descuento para compras hasta 15 litros de Diesel\n",
        "    descuento = 0.03\n",
        "  else:\n",
        "    # Descuento para compras mayores a 15 litros de Diesel\n",
        "    descuento = 0.05\n",
        "# Si no se especifica el tipo de combustible correcto se considera que los datos son invalidos.\n",
        "# Se asigna el precio y descuento cero.\n",
        "else:\n",
        "  print('Datos invalidos')\n",
        "  cantidad_litros = 0\n",
        "  descuento = 0\n",
        "\n",
        "valor_subtotal = precio_combustible * cantidad_litros\n",
        "valor_descuento = valor_subtotal * descuento\n",
        "valor_total = valor_subtotal - valor_descuento\n",
        "\n",
        "print('Venta realizada {} Litros, Subtotal: {}, Descuento: {}, Total a Pagar: {}' .format(cantidad_litros, valor_subtotal, valor_descuento, valor_total))"
      ],
      "metadata": {
        "colab": {
          "base_uri": "https://localhost:8080/"
        },
        "id": "0vdZlCLDEYb-",
        "outputId": "6cf80817-873e-4fc4-ca78-bac14b3ca47d"
      },
      "execution_count": 106,
      "outputs": [
        {
          "output_type": "stream",
          "name": "stdout",
          "text": [
            "Ingrese la cantidad de litros vendidos: 10\n",
            "Indique el tipo de combustible E para Etanol, D para Diesel: a\n",
            "Datos invalidos\n",
            "Venta realizada 0 Litros, Subtotal: 0, Descuento: 0, Total a Pagar: 0\n"
          ]
        }
      ]
    },
    {
      "cell_type": "code",
      "source": [
        "# Solucion Instructor\n",
        "# Recolectamos la cantidad de litros y el tipo de combustible,\n",
        "# convirtiendo el carácter en mayúsculas para facilitar nuestro análisis\n",
        "cantidad_litros = float(input('Ingrese la cantidad de litros vendidos: '))\n",
        "tipo_combustible = input('Ingrese el tipo de combustible (E para etanol y D para diésel): ').upper()\n",
        "\n",
        "# Verificamos primero el tipo de combustible\n",
        "if tipo_combustible == 'E':\n",
        "  # Establecemos el precio por litro de etanol\n",
        "  precio_litro = 1.70\n",
        "  # Según la cantidad de litros, establecemos el descuento correspondiente\n",
        "  if cantidad_litros <= 15:\n",
        "    descuento = 0.02\n",
        "  else:\n",
        "    descuento = 0.04\n",
        "elif tipo_combustible == 'D':\n",
        "  # Establecemos el precio por litro de diésel\n",
        "  precio_litro = 2.00\n",
        "  # Según la cantidad de litros, establecemos el descuento correspondiente\n",
        "  if cantidad_litros <= 15:\n",
        "    descuento = 0.03\n",
        "  else:\n",
        "    descuento = 0.05\n",
        "# En caso de error en la especificación del tipo de combustible,\n",
        "# consideramos las entradas como no válidas y establecemos los precios y descuentos en 0\n",
        "else:\n",
        "    print('Entradas no válidas!')\n",
        "    precio_litro = 0\n",
        "    descuento = 0\n",
        "\n",
        "# Calculamos el valor del descuento, seguido del cálculo del precio descontado\n",
        "valor_descuento = precio_litro * cantidad_litros * descuento\n",
        "valor_pagado = precio_litro * cantidad_litros - valor_descuento\n",
        "\n",
        "# Resultado\n",
        "print(f'Valor a pagar por el cliente: R$ {valor_pagado}')\n"
      ],
      "metadata": {
        "id": "gOepSmu2EGkr"
      },
      "execution_count": null,
      "outputs": []
    },
    {
      "cell_type": "markdown",
      "source": [
        "13 - En una empresa de venta de bienes raíces, debes crear un código que analice los datos de ventas anuales para ayudar a la dirección en la toma de decisiones. El código debe recopilar los datos de cantidad de ventas durante los años 2022 y 2023 y calcular la variación porcentual. A partir del valor de la variación, se deben proporcionar las siguientes sugerencias:\n",
        "\n",
        "* Para una variación superior al 20%: bonificación para el equipo de ventas.\n",
        "* Para una variación entre el 2% y el 20%: pequeña bonificación para el equipo de ventas.\n",
        "* Para una variación entre el 2% y el -10%: planificación de políticas de incentivo a las ventas.\n",
        "* Para bonificaciones inferiores al -10%: recorte de gastos.\n"
      ],
      "metadata": {
        "id": "5f8iBcNrCghX"
      }
    },
    {
      "cell_type": "code",
      "source": [
        "# Solucion Omar Morales\n",
        "# Obtenemos el valor de ventas de cada año y lo almacenamos en una variable\n",
        "ventas_2022 = float(input('Ingrese la cantidad de ventas durante el año 2022: '))\n",
        "ventas_2023 = float(input('Ingrese la cantidad de ventas durante el año 2023: '))\n",
        "\n",
        "# Calculo de la variacion de ventas de 2023 respecto a 2022\n",
        "variacion = (ventas_2023 - ventas_2022) / ventas_2022\n",
        "\n",
        "# Comparamos el porcentaje de variacion y respecto a los rangos de valores se indica la sugerencia\n",
        "if variacion > 0.2:\n",
        "  print('La variacion es superior al 20%: Se suguiere una bonificación para el equipo de ventas')\n",
        "elif variacion >= 0.02 and variacion <= 0.20:\n",
        "  print('La variacion se encuentra entre el 2% y el 20%: Se suguiere una pequeña bonificación para el equipo de ventas')\n",
        "elif variacion >= -0.1 and variacion <= 0.02:\n",
        "  print('La variacion se encuentra entre el -10% y el 2%: Se sugiere planificar politicas de incentivo a las ventas')\n",
        "elif variacion <= -0.1:\n",
        "  print('La variacion es inferior al -10%. Se sugiere recorte de gastos')"
      ],
      "metadata": {
        "colab": {
          "base_uri": "https://localhost:8080/"
        },
        "id": "HrE0IDWWu8y0",
        "outputId": "2b28e3c7-fbae-4050-e0b6-73817936a336"
      },
      "execution_count": 65,
      "outputs": [
        {
          "output_type": "stream",
          "name": "stdout",
          "text": [
            "Ingrese la cantidad de ventas durante el año 2022: 3500\n",
            "Ingrese la cantidad de ventas durante el año 2023: 2000\n",
            "La variacion es inferior al -10%. Se sugiere recorte de gastos\n"
          ]
        }
      ]
    },
    {
      "cell_type": "code",
      "source": [
        "# Solucion Instructor\n",
        "# Recolectamos las ventas de los dos años\n",
        "venta_2022 = float(input('Ingrese la cantidad de ventas en 2022: '))\n",
        "venta_2023 = float(input('Ingrese la cantidad de ventas en 2023: '))\n",
        "\n",
        "# Calculamos la variación porcentual entre las ventas de los años 2022 y 2023\n",
        "var_porcentual = 100 * (venta_2023 - venta_2022) / (venta_2022)\n",
        "\n",
        "# Análisis condicional de la variación porcentual para determinar la sugerencia a enviar\n",
        "if var_porcentual > 20:\n",
        "    print('Bonificación para el equipo de ventas.')\n",
        "elif 2 <= var_porcentual <= 20:\n",
        "    print('Pequeña bonificación para el equipo de ventas.')\n",
        "elif -10 <= var_porcentual < 2:\n",
        "    print('Planificación de políticas de incentivo a las ventas.')\n",
        "else:\n",
        "    print('Recorte de gastos.')\n"
      ],
      "metadata": {
        "id": "Fd7zPUzMIsh2"
      },
      "execution_count": null,
      "outputs": []
    }
  ]
}